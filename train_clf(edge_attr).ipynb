{
 "cells": [
  {
   "cell_type": "code",
   "execution_count": 28,
   "metadata": {},
   "outputs": [
    {
     "data": {
      "text/plain": [
       "0"
      ]
     },
     "execution_count": 28,
     "metadata": {},
     "output_type": "execute_result"
    }
   ],
   "source": [
    "import torch, gc\n",
    "gc.collect()\n",
    "# torch.cuda.empty_cache()|"
   ]
  },
  {
   "cell_type": "code",
   "execution_count": 29,
   "metadata": {},
   "outputs": [],
   "source": [
    "torch.cuda.empty_cache()"
   ]
  },
  {
   "cell_type": "code",
   "execution_count": 30,
   "metadata": {},
   "outputs": [
    {
     "name": "stdout",
     "output_type": "stream",
     "text": [
      "2.3.0\n"
     ]
    }
   ],
   "source": [
    "import os\n",
    "import torch\n",
    "os.environ['TORCH'] = torch.__version__\n",
    "print(torch.__version__)"
   ]
  },
  {
   "cell_type": "code",
   "execution_count": 32,
   "metadata": {},
   "outputs": [],
   "source": [
    "# import os\n",
    "# os.environ['CUDA_LAUNCH_BLOCKING'] = \"1\""
   ]
  },
  {
   "cell_type": "markdown",
   "metadata": {},
   "source": [
    "# 데이터 로드"
   ]
  },
  {
   "cell_type": "code",
   "execution_count": 32,
   "metadata": {},
   "outputs": [],
   "source": [
    "class config():\n",
    "    def __init__(self, i):\n",
    "        self.i = i\n",
    "        self.train_edge_file_path = f'/home/work/kdg_folder/work_kisti/학습데이터/v11(회귀,이상치제거)/edge_train_{self.i+1}_v11.pkl'\n",
    "        self.train_node_file_path = f'/home/work/kdg_folder/work_kisti/학습데이터/v11(회귀,이상치제거)/node_train_{self.i+1}_v11.pkl'\n",
    "        self.test_edge_file_path = f'/home/work/kdg_folder/work_kisti/학습데이터/v11(회귀,이상치제거)/edge_test_v11.pkl'\n",
    "        self.test_node_file_path = f'/home/work/kdg_folder/work_kisti/학습데이터/v11(회귀,이상치제거)/node_test_v11.pkl'  \n",
    "        self.label_col=19      \n",
    "        self.batch_size=2\n",
    "        self.in_dim=19\n",
    "        self.h_dim=256\n",
    "        self.num_layers=6\n",
    "        self.out_dim=1\n"
   ]
  },
  {
   "cell_type": "code",
   "execution_count": 24,
   "metadata": {},
   "outputs": [],
   "source": [
    "# import pandas as pd\n",
    "# edges = {}\n",
    "# nodes = {}\n",
    "# for i in range(3):\n",
    "#     cfg=config(i)\n",
    "#     edge_file_path = cfg.train_edge_file_path\n",
    "#     node_file_path = cfg.train_node_file_path\n",
    "    \n",
    "#     edges[f'edge{i}'] = pd.read_csv(edge_file_path)\n",
    "#     nodes[f'node{i}'] = pd.read_csv(node_file_path)\n",
    "#     edges[f'edge{i}'].to_pickle(f'/home/work/kdg_folder/work_kisti/학습데이터/v11(회귀,이상치제거)/edge_train_{i+1}_v11.pkl')\n",
    "#     nodes[f'node{i}'].to_pickle(f'/home/work/kdg_folder/work_kisti/학습데이터/v11(회귀,이상치제거)/node_train_{i+1}_v11.pkl')\n",
    "    "
   ]
  },
  {
   "cell_type": "code",
   "execution_count": 26,
   "metadata": {},
   "outputs": [],
   "source": [
    "# import pandas as pd\n",
    "# testedges = {}\n",
    "# testnodes = {}\n",
    "# testlabels = {}\n",
    "\n",
    "# for i in range(1):\n",
    "#     cfg=config(i)\n",
    "#     edge_file_path = cfg.test_edge_file_path\n",
    "#     node_file_path = cfg.test_node_file_path\n",
    "    \n",
    "#     testedges[f'edge{i}'] = pd.read_csv(edge_file_path)\n",
    "#     testnodes[f'node{i}'] = pd.read_csv(node_file_path)\n",
    "\n",
    "#     testedges[f'edge{i}'].to_pickle(f'/home/work/kdg_folder/work_kisti/학습데이터/v11(회귀,이상치제거)/edge_test_v11.pkl')\n",
    "#     testnodes[f'node{i}'].to_pickle(f'/home/work/kdg_folder/work_kisti/학습데이터/v11(회귀,이상치제거)/node_test_v11.pkl')\n",
    "    "
   ]
  },
  {
   "cell_type": "code",
   "execution_count": 34,
   "metadata": {},
   "outputs": [],
   "source": [
    "#train\n",
    "import pandas as pd\n",
    "\n",
    "# 딕셔너리를 사용하여 edge 데이터를 저장\n",
    "def train_dic():\n",
    "    edges = {}\n",
    "    edges_attr = {}\n",
    "    nodes = {}\n",
    "    labels = {}\n",
    "\n",
    "    for i in range(2,3):\n",
    "        cfg=config(i)\n",
    "        edge_file_path = cfg.train_edge_file_path\n",
    "        node_file_path = cfg.train_node_file_path\n",
    "        print(edge_file_path)\n",
    "        print(node_file_path) \n",
    "        \n",
    "        edges[f'edge{i}'] = pd.read_pickle(edge_file_path)\n",
    "        nodes[f'node{i}'] = pd.read_pickle(node_file_path)\n",
    "        \n",
    "        labels[f'label{i}'] = pd.DataFrame(nodes[f'node{i}'].iloc[:,cfg.label_col])\n",
    "        nodes[f'node{i}'] = nodes[f'node{i}'].iloc[:,:cfg.label_col]\n",
    "        \n",
    "        edges_attr[f'edge_attr{i}'] = pd.DataFrame(edges[f'edge{i}'].iloc[2,:])\n",
    "        edges[f'edge{i}'] = edges[f'edge{i}'].iloc[:2,:]\n",
    "    return edges, edges_attr, nodes, labels\n"
   ]
  },
  {
   "cell_type": "code",
   "execution_count": 35,
   "metadata": {},
   "outputs": [
    {
     "name": "stdout",
     "output_type": "stream",
     "text": [
      "/home/work/kdg_folder/work_kisti/학습데이터/v11(회귀,이상치제거)/edge_train_3_v11.pkl\n",
      "/home/work/kdg_folder/work_kisti/학습데이터/v11(회귀,이상치제거)/node_train_3_v11.pkl\n"
     ]
    }
   ],
   "source": [
    "edges, edges_attr, nodes, labels = train_dic()"
   ]
  },
  {
   "cell_type": "markdown",
   "metadata": {},
   "source": [
    "# 그래프 1개 추론용"
   ]
  },
  {
   "cell_type": "code",
   "execution_count": 38,
   "metadata": {},
   "outputs": [],
   "source": [
    "#test\n",
    "import pandas as pd\n",
    "\n",
    "# 딕셔너리를 사용하여 edge 데이터를 저장\n",
    "\n",
    "def test_dic():\n",
    "    testedges = {}\n",
    "    testedges_attr={}\n",
    "    testnodes = {}\n",
    "    testlabels = {}\n",
    "\n",
    "    for i in range(1):\n",
    "        cfg=config(i)\n",
    "        edge_file_path = cfg.test_edge_file_path\n",
    "        node_file_path = cfg.test_node_file_path\n",
    "        print(edge_file_path)\n",
    "        print(node_file_path)        \n",
    "        testedges[f'edge{i}'] = pd.read_pickle(edge_file_path)\n",
    "        testnodes[f'node{i}'] = pd.read_pickle(node_file_path)\n",
    "        \n",
    "        testlabels[f'label{i}'] = pd.DataFrame(testnodes[f'node{i}'].iloc[:,cfg.label_col])\n",
    "        testnodes[f'node{i}'] = testnodes[f'node{i}'].iloc[:,:cfg.label_col]\n",
    "        \n",
    "        testedges_attr[f'edge_attr{i}'] = pd.DataFrame(testedges[f'edge{i}'].iloc[2,:])\n",
    "        testedges[f'edge{i}'] = testedges[f'edge{i}'].iloc[:2,:]\n",
    "    return testedges,testedges_attr,testnodes,testlabels"
   ]
  },
  {
   "cell_type": "code",
   "execution_count": 39,
   "metadata": {},
   "outputs": [
    {
     "name": "stdout",
     "output_type": "stream",
     "text": [
      "/home/work/kdg_folder/work_kisti/학습데이터/양방향,edgeattr/edge_test_v7.pkl\n",
      "/home/work/kdg_folder/work_kisti/학습데이터/양방향,edgeattr/node_test_v7.pkl\n"
     ]
    }
   ],
   "source": [
    "testedges,testedges_attr,testnodes,testlabels = test_dic()"
   ]
  },
  {
   "cell_type": "markdown",
   "metadata": {},
   "source": [
    "# 2021 그래프 추론용"
   ]
  },
  {
   "cell_type": "code",
   "execution_count": 40,
   "metadata": {},
   "outputs": [],
   "source": [
    "# #test\n",
    "# import pandas as pd\n",
    "\n",
    "# # 딕셔너리를 사용하여 edge 데이터를 저장\n",
    "# testedges = {}\n",
    "# testedges_attr={}\n",
    "# testnodes = {}\n",
    "# testlabels = {}\n",
    "\n",
    "# for i in range(1):\n",
    "#     edge_file_path = cfg.test_edge_file_path\n",
    "#     node_file_path = cfg.test_node_file_path\n",
    "    \n",
    "#     testedges[f'edge{i}'] = pd.read_pickle(edge_file_path)\n",
    "#     testnodes[f'node{i}'] = pd.read_pickle(node_file_path)\n",
    "    \n",
    "#     testlabels[f'label{i}'] = pd.DataFrame(testnodes[f'node{i}'].iloc[:,cfg.label_col])\n",
    "#     testnodes[f'node{i}'] = testnodes[f'node{i}'].iloc[:,:cfg.label_col]\n",
    "    \n",
    "#     testedges_attr[f'edge_attr{i}'] = pd.DataFrame(testedges[f'edge{i}'].iloc[2,:])\n",
    "#     testedges[f'edge{i}'] = testedges[f'edge{i}'].iloc[:2,:]"
   ]
  },
  {
   "cell_type": "code",
   "execution_count": 41,
   "metadata": {},
   "outputs": [
    {
     "data": {
      "text/html": [
       "<div>\n",
       "<style scoped>\n",
       "    .dataframe tbody tr th:only-of-type {\n",
       "        vertical-align: middle;\n",
       "    }\n",
       "\n",
       "    .dataframe tbody tr th {\n",
       "        vertical-align: top;\n",
       "    }\n",
       "\n",
       "    .dataframe thead th {\n",
       "        text-align: right;\n",
       "    }\n",
       "</style>\n",
       "<table border=\"1\" class=\"dataframe\">\n",
       "  <thead>\n",
       "    <tr style=\"text-align: right;\">\n",
       "      <th></th>\n",
       "      <th>19</th>\n",
       "    </tr>\n",
       "  </thead>\n",
       "  <tbody>\n",
       "    <tr>\n",
       "      <th>0</th>\n",
       "      <td>0.0</td>\n",
       "    </tr>\n",
       "    <tr>\n",
       "      <th>1</th>\n",
       "      <td>1.0</td>\n",
       "    </tr>\n",
       "    <tr>\n",
       "      <th>2</th>\n",
       "      <td>0.0</td>\n",
       "    </tr>\n",
       "    <tr>\n",
       "      <th>3</th>\n",
       "      <td>1.0</td>\n",
       "    </tr>\n",
       "    <tr>\n",
       "      <th>4</th>\n",
       "      <td>0.0</td>\n",
       "    </tr>\n",
       "    <tr>\n",
       "      <th>...</th>\n",
       "      <td>...</td>\n",
       "    </tr>\n",
       "    <tr>\n",
       "      <th>145780</th>\n",
       "      <td>1.0</td>\n",
       "    </tr>\n",
       "    <tr>\n",
       "      <th>145781</th>\n",
       "      <td>1.0</td>\n",
       "    </tr>\n",
       "    <tr>\n",
       "      <th>145782</th>\n",
       "      <td>1.0</td>\n",
       "    </tr>\n",
       "    <tr>\n",
       "      <th>145783</th>\n",
       "      <td>1.0</td>\n",
       "    </tr>\n",
       "    <tr>\n",
       "      <th>145784</th>\n",
       "      <td>1.0</td>\n",
       "    </tr>\n",
       "  </tbody>\n",
       "</table>\n",
       "<p>145785 rows × 1 columns</p>\n",
       "</div>"
      ],
      "text/plain": [
       "         19\n",
       "0       0.0\n",
       "1       1.0\n",
       "2       0.0\n",
       "3       1.0\n",
       "4       0.0\n",
       "...     ...\n",
       "145780  1.0\n",
       "145781  1.0\n",
       "145782  1.0\n",
       "145783  1.0\n",
       "145784  1.0\n",
       "\n",
       "[145785 rows x 1 columns]"
      ]
     },
     "execution_count": 41,
     "metadata": {},
     "output_type": "execute_result"
    }
   ],
   "source": [
    "labels['label0']"
   ]
  },
  {
   "cell_type": "code",
   "execution_count": 42,
   "metadata": {},
   "outputs": [],
   "source": [
    "for i in range(0,3):\n",
    "    edges[f'edge{i}'] = edges[f'edge{i}'].values\n",
    "    edges[f'edge{i}'] = torch.from_numpy(edges[f'edge{i}']).long()\n",
    "\n",
    "    nodes[f'node{i}'] = nodes[f'node{i}'].values\n",
    "    nodes[f'node{i}'] = torch.from_numpy(nodes[f'node{i}']).float()\n",
    "    \n",
    "    labels[f'label{i}'] = labels[f'label{i}'].values\n",
    "    labels[f'label{i}'] = torch.from_numpy(labels[f'label{i}']).float()  \n",
    "    \n",
    "    edges_attr[f'edge_attr{i}'] = edges_attr[f'edge_attr{i}'].values\n",
    "    edges_attr[f'edge_attr{i}'] = torch.from_numpy(edges_attr[f'edge_attr{i}']).float()  \n",
    "\n",
    "\n",
    "\n",
    "for i in range(1):\n",
    "    testedges[f'edge{i}'] = testedges[f'edge{i}'].values\n",
    "    testedges[f'edge{i}'] = torch.from_numpy(testedges[f'edge{i}']).long()\n",
    "\n",
    "    testnodes[f'node{i}'] = testnodes[f'node{i}'].values\n",
    "    testnodes[f'node{i}'] = torch.from_numpy(testnodes[f'node{i}']).float()\n",
    "    \n",
    "    testlabels[f'label{i}'] = testlabels[f'label{i}'].values\n",
    "    testlabels[f'label{i}'] = torch.from_numpy(testlabels[f'label{i}']).float()\n",
    "      \n",
    "    testedges_attr[f'edge_attr{i}'] = testedges_attr[f'edge_attr{i}'].values\n",
    "    testedges_attr[f'edge_attr{i}'] = torch.from_numpy(testedges_attr[f'edge_attr{i}']).float()     "
   ]
  },
  {
   "cell_type": "code",
   "execution_count": 43,
   "metadata": {},
   "outputs": [
    {
     "name": "stdout",
     "output_type": "stream",
     "text": [
      "torch.int64\n",
      "torch.float32\n",
      "torch.float32\n",
      "torch.float32\n",
      "torch.int64\n",
      "torch.float32\n",
      "torch.float32\n",
      "torch.float32\n",
      "torch.int64\n",
      "torch.float32\n",
      "torch.float32\n",
      "torch.float32\n"
     ]
    }
   ],
   "source": [
    "for i in range(0,3):\n",
    "    print(edges[f'edge{i}'].dtype)\n",
    "    print(nodes[f'node{i}'].dtype)\n",
    "    print(labels[f'label{i}'].dtype)\n",
    "    print(edges_attr[f'edge_attr{i}'].dtype)\n",
    "    \n",
    "    "
   ]
  },
  {
   "cell_type": "code",
   "execution_count": 13,
   "metadata": {
    "colab": {
     "base_uri": "https://localhost:8080/"
    },
    "executionInfo": {
     "elapsed": 2,
     "status": "ok",
     "timestamp": 1715666793266,
     "user": {
      "displayName": "김대건",
      "userId": "14940767608385150906"
     },
     "user_tz": -540
    },
    "id": "b55JKcU0i_LM",
    "outputId": "b5f2659f-661b-4203-de21-8b8c0deed723"
   },
   "outputs": [],
   "source": [
    "# print(edge_tensor.size())\n",
    "# print(node_tensor.size())\n",
    "# print(label_tensor.size())\n",
    "# print(edge_tensor.dtype)\n",
    "# print(node_tensor.dtype)\n",
    "# print(label_tensor.dtype)"
   ]
  },
  {
   "cell_type": "markdown",
   "metadata": {},
   "source": [
    "# train data 리스트에 담기"
   ]
  },
  {
   "cell_type": "code",
   "execution_count": 44,
   "metadata": {
    "executionInfo": {
     "elapsed": 340,
     "status": "ok",
     "timestamp": 1715666802337,
     "user": {
      "displayName": "김대건",
      "userId": "14940767608385150906"
     },
     "user_tz": -540
    },
    "id": "LsttAXN1jdmb"
   },
   "outputs": [],
   "source": [
    "import torch_geometric\n",
    "from torch_geometric.data import Data\n",
    "\n",
    "def uselst():\n",
    "    lst=[]\n",
    "\n",
    "\n",
    "    for i in range(0,3):\n",
    "        lst.append(Data(x=nodes[f'node{i}'], edge_index=edges[f'edge{i}'], edge_attr=edges_attr[f'edge_attr{i}'], y=labels[f'label{i}']))\n",
    "\n",
    "    testlst=[]\n",
    "    for i in range(1):\n",
    "        testlst.append(Data(x=testnodes[f'node{i}'], edge_index=testedges[f'edge{i}'], edge_attr=testedges_attr[f'edge_attr{i}'],y=testlabels[f'label{i}']))    \n",
    "\n",
    "    return lst, testlst"
   ]
  },
  {
   "cell_type": "code",
   "execution_count": 45,
   "metadata": {},
   "outputs": [],
   "source": [
    "lst, testlst = uselst()"
   ]
  },
  {
   "cell_type": "code",
   "execution_count": 46,
   "metadata": {},
   "outputs": [
    {
     "data": {
      "text/plain": [
       "Data(x=[145785, 19], edge_index=[2, 1667838], edge_attr=[1667838, 1], y=[145785, 1])"
      ]
     },
     "execution_count": 46,
     "metadata": {},
     "output_type": "execute_result"
    }
   ],
   "source": [
    "lst[0]"
   ]
  },
  {
   "cell_type": "code",
   "execution_count": 47,
   "metadata": {},
   "outputs": [
    {
     "data": {
      "text/plain": [
       "tensor([[ 4391700.],\n",
       "        [   95000.],\n",
       "        [14783800.],\n",
       "        ...,\n",
       "        [  972800.],\n",
       "        [15737500.],\n",
       "        [  260000.]])"
      ]
     },
     "execution_count": 47,
     "metadata": {},
     "output_type": "execute_result"
    }
   ],
   "source": [
    "lst[0].edge_attr"
   ]
  },
  {
   "cell_type": "code",
   "execution_count": 48,
   "metadata": {},
   "outputs": [
    {
     "data": {
      "text/plain": [
       "[Data(x=[106472, 19], edge_index=[2, 1338689], edge_attr=[1338689, 1], y=[106472, 1])]"
      ]
     },
     "execution_count": 48,
     "metadata": {},
     "output_type": "execute_result"
    }
   ],
   "source": [
    "testlst"
   ]
  },
  {
   "cell_type": "code",
   "execution_count": 49,
   "metadata": {},
   "outputs": [
    {
     "data": {
      "text/plain": [
       "tensor([[1.5425e+06],\n",
       "        [1.8900e+05],\n",
       "        [2.4418e+06],\n",
       "        ...,\n",
       "        [7.0200e+05],\n",
       "        [7.0700e+06],\n",
       "        [1.3439e+09]])"
      ]
     },
     "execution_count": 49,
     "metadata": {},
     "output_type": "execute_result"
    }
   ],
   "source": [
    "testlst[0].edge_attr"
   ]
  },
  {
   "cell_type": "code",
   "execution_count": 50,
   "metadata": {
    "executionInfo": {
     "elapsed": 1389,
     "status": "ok",
     "timestamp": 1715667253271,
     "user": {
      "displayName": "김대건",
      "userId": "14940767608385150906"
     },
     "user_tz": -540
    },
    "id": "Ov3Ie6o6oevE"
   },
   "outputs": [],
   "source": [
    "from torch_geometric.data import Batch\n",
    "from torch_geometric.loader import DataLoader, NeighborLoader\n",
    "\n",
    "# train_data = Batch.from_data_list(lst)\n",
    "# test_loader = NeighborLoader(testlst, batch_size=512, shuffle=True, num_neighbors=[20, 10], num_workers=2, persistent_workers=True)\n",
    "\n",
    "# train_loader = NeighborLoader(train_data, batch_size=512, shuffle=True, num_neighbors=[20, 10], num_workers=2, persistent_workers=True)\n",
    "# val_loader = DataLoader(val_dataset, batch_size=2)\n",
    "\n",
    "train_loader = DataLoader(Batch.from_data_list(lst), batch_size=8, shuffle=True)\n",
    "test_loader = DataLoader(Batch.from_data_list(testlst), batch_size=8, shuffle=False)\n",
    "\n",
    "\n",
    "# from torch_geometric.data import Batch\n",
    "# from torch_geometric.loader import DataLoader, NeighborLoader\n",
    "# train_loader = DataLoader(lst, batch_size=2,shuffle=True)\n",
    "# test_loader = DataLoader(testlst, batch_size=2, shuffle=False)\n",
    "\n",
    "\n",
    "# train_loader = NeighborLoader(Batch.from_data_list(lst), batch_size=cfg.batch_size, shuffle=True, num_neighbors=[20, 10], num_workers=2, persistent_workers=True)\n",
    "# test_loader = NeighborLoader(Batch.from_data_list(testlst), batch_size=cfg.batch_size, shuffle=False, num_neighbors=[20, 10], num_workers=2, persistent_workers=True)"
   ]
  },
  {
   "cell_type": "markdown",
   "metadata": {},
   "source": [
    "## PPI"
   ]
  },
  {
   "cell_type": "code",
   "execution_count": 77,
   "metadata": {},
   "outputs": [
    {
     "data": {
      "text/plain": [
       "tensor([[1.],\n",
       "        [0.],\n",
       "        [0.],\n",
       "        ...,\n",
       "        [1.],\n",
       "        [1.],\n",
       "        [1.]])"
      ]
     },
     "execution_count": 77,
     "metadata": {},
     "output_type": "execute_result"
    }
   ],
   "source": [
    "from torch_geometric.datasets import PPI\n",
    "train_dataset = PPI(root=\".\", split='train')\n",
    "val_dataset = PPI(root=\".\", split='val')\n",
    "test_dataset = PPI(root=\".\", split='test')\n",
    " \n",
    "from torch_geometric.data import Batch\n",
    "from torch_geometric.loader import DataLoader, NeighborLoader\n",
    " \n",
    "\n",
    "import torch_geometric\n",
    "from torch_geometric.data import Data\n",
    "lst=[]\n",
    "for i in range(20):\n",
    "    lst.append(Data(x=train_dataset[i].x, edge_index=train_dataset[i].edge_index, y=train_dataset[i].y[:,0].unsqueeze(1)))\n",
    "\n",
    "test_dataset[1].y[:,0].unsqueeze(1)"
   ]
  },
  {
   "cell_type": "code",
   "execution_count": 78,
   "metadata": {},
   "outputs": [
    {
     "data": {
      "text/plain": [
       "[Data(x=[1767, 50], edge_index=[2, 32318], y=[1767, 1]),\n",
       " Data(x=[1377, 50], edge_index=[2, 29704], y=[1377, 1]),\n",
       " Data(x=[2263, 50], edge_index=[2, 59644], y=[2263, 1]),\n",
       " Data(x=[2339, 50], edge_index=[2, 65430], y=[2339, 1]),\n",
       " Data(x=[1578, 50], edge_index=[2, 36162], y=[1578, 1]),\n",
       " Data(x=[1021, 50], edge_index=[2, 18216], y=[1021, 1]),\n",
       " Data(x=[1823, 50], edge_index=[2, 44330], y=[1823, 1]),\n",
       " Data(x=[2488, 50], edge_index=[2, 70390], y=[2488, 1]),\n",
       " Data(x=[591, 50], edge_index=[2, 7708], y=[591, 1]),\n",
       " Data(x=[3312, 50], edge_index=[2, 106198], y=[3312, 1]),\n",
       " Data(x=[2401, 50], edge_index=[2, 64218], y=[2401, 1]),\n",
       " Data(x=[1878, 50], edge_index=[2, 46268], y=[1878, 1]),\n",
       " Data(x=[1819, 50], edge_index=[2, 45768], y=[1819, 1]),\n",
       " Data(x=[3480, 50], edge_index=[2, 106754], y=[3480, 1]),\n",
       " Data(x=[2794, 50], edge_index=[2, 85318], y=[2794, 1]),\n",
       " Data(x=[2326, 50], edge_index=[2, 59862], y=[2326, 1]),\n",
       " Data(x=[2650, 50], edge_index=[2, 77064], y=[2650, 1]),\n",
       " Data(x=[2815, 50], edge_index=[2, 85520], y=[2815, 1]),\n",
       " Data(x=[3163, 50], edge_index=[2, 94158], y=[3163, 1]),\n",
       " Data(x=[3021, 50], edge_index=[2, 91338], y=[3021, 1])]"
      ]
     },
     "execution_count": 78,
     "metadata": {},
     "output_type": "execute_result"
    }
   ],
   "source": [
    "lst"
   ]
  },
  {
   "cell_type": "code",
   "execution_count": 80,
   "metadata": {},
   "outputs": [],
   "source": [
    "testdata1 = Data(x=test_dataset[0].x, edge_index=test_dataset[0].edge_index, y=test_dataset[0].y[:,0].unsqueeze(1))\n",
    "testdata2 = Data(x=test_dataset[1].x, edge_index=test_dataset[1].edge_index, y=test_dataset[1].y[:,0].unsqueeze(1))\n"
   ]
  },
  {
   "cell_type": "code",
   "execution_count": 81,
   "metadata": {},
   "outputs": [],
   "source": [
    "train_loader = DataLoader(lst, batch_size=512)\n",
    "test_loader = DataLoader([testdata1,testdata2], batch_size=512)"
   ]
  },
  {
   "cell_type": "code",
   "execution_count": 21,
   "metadata": {},
   "outputs": [],
   "source": [
    "# train_data = Batch.from_data_list(lst)\n",
    "# train_loader = NeighborLoader(train_data, batch_size=2048, shuffle=True, num_neighbors=[20, 10], num_workers=2, persistent_workers=True)\n",
    "\n",
    "# test_data = Batch.from_data_list([testdata1,testdata2])\n",
    "# test_loader = NeighborLoader(test_data, batch_size=2048, shuffle=True, num_neighbors=[20, 10], num_workers=2, persistent_workers=True)"
   ]
  },
  {
   "cell_type": "markdown",
   "metadata": {},
   "source": [
    "# 모델 만들기 연습"
   ]
  },
  {
   "cell_type": "code",
   "execution_count": 22,
   "metadata": {},
   "outputs": [],
   "source": [
    "# import torch\n",
    "# torch.manual_seed(-1)\n",
    "# import torch.nn.functional as F\n",
    "# from torch_geometric.nn import SAGEConv\n",
    "\n",
    "# from sklearn.metrics import f1_score\n",
    "\n",
    "# device = torch.device('cuda' if torch.cuda.is_available() else 'cpu')\n",
    "\n",
    "# class GraphSAGE(torch.nn.Module):\n",
    "    \n",
    "#     def __init__(self, dim_in, dim_h, dim_out):\n",
    "#         super().__init__()\n",
    "#         self.sage1 = SAGEConv(dim_in, dim_h)\n",
    "#         # self.sage2 = SAGEConv(dim_h, dim_h)\n",
    "#         self.sage3 = SAGEConv(dim_h, dim_out)\n",
    "        \n",
    "#     def forward(self, x, edge_index):\n",
    "#         h = self.sage1(x, edge_index)\n",
    "#         h = F.elu(h)\n",
    "#         h = F.dropout(h, p=0.6, training=True)\n",
    "#         # h = self.sage2(h,edge_index)\n",
    "#         # h = F.elu(h)\n",
    "#         h = self.sage3(h, edge_index)\n",
    "#         # h= F.sigmoid(h)\n",
    "\n",
    "#         return h"
   ]
  },
  {
   "cell_type": "code",
   "execution_count": 23,
   "metadata": {},
   "outputs": [],
   "source": [
    "# import torch.nn.functional as F\n",
    "# from torch.nn import Linear, Dropout\n",
    "# from torch_geometric.nn import GCNConv, GATv2Conv\n",
    "# import torch\n",
    "# torch.manual_seed(-1)\n",
    "\n",
    "# from torch_geometric.nn import SAGEConv\n",
    "\n",
    "# from sklearn.metrics import f1_score\n",
    "\n",
    "# device = torch.device('cuda' if torch.cuda.is_available() else 'cpu')\n",
    "\n",
    "# class GAT(torch.nn.Module):\n",
    "#   \"\"\"Graph Attention Network\"\"\"\n",
    "#   def __init__(self, dim_in, dim_h, dim_out, heads=8):\n",
    "#     super().__init__()\n",
    "#     self.gat1 = GATv2Conv(dim_in, dim_h, heads=heads)\n",
    "#     self.gat2 = GATv2Conv(dim_h*heads, dim_out, heads=1)\n",
    "# #     self.gat3 = GATv2Conv(dim_h*heads, dim_h, heads=heads)\n",
    "# #     self.gat4 = GATv2Conv(dim_h*heads, dim_h, heads=heads)\n",
    "# #     self.gat5 = GATv2Conv(dim_h*heads, dim_out, heads=heads)\n",
    "\n",
    "\n",
    "#   def forward(self, data):\n",
    "#     h = self.gat1(x = data.x, edge_index= data.edge_index, edge_attr=data.edge_attr)\n",
    "#     # h = F.dropout(h, p=0.5, training=self.training)\n",
    "#     h = F.elu(h)\n",
    "#     h = self.gat2(x = h, edge_index= data.edge_index, edge_attr=data.edge_attr)\n",
    "# #     h = F.elu(h)\n",
    "# #     h = self.gat3(x = h, edge_index= data.edge_index, edge_attr=data.edge_attr)\n",
    "# #     h = F.elu(h)\n",
    "# #     h = self.gat4(x = h, edge_index= data.edge_index, edge_attr=data.edge_attr)\n",
    "# #     h = F.elu(h)\n",
    "# #     h = self.gat5(x = h, edge_index= data.edge_index, edge_attr=data.edge_attr)\n",
    "#     return h\n",
    "# device = torch.device('cuda' if torch.cuda.is_available() else 'cpu')\n",
    "# model= GAT(dim_h=cfg.h_dim,dim_in=cfg.in_dim,dim_out=cfg.out_dim,heads=12).to(device)"
   ]
  },
  {
   "cell_type": "markdown",
   "metadata": {},
   "source": [
    "# 모델 커스터마이징"
   ]
  },
  {
   "cell_type": "code",
   "execution_count": 93,
   "metadata": {},
   "outputs": [],
   "source": [
    "# from torch_geometric.nn import GIN, GAT,GraphSAGE\n",
    "\n",
    "# import torch\n",
    "# torch.manual_seed(-1)\n",
    "# import torch.nn.functional as F\n",
    "# from torch_geometric.nn import SAGEConv\n",
    "# import torch.nn as nn\n",
    "# from sklearn.metrics import f1_score, accuracy_score\n",
    "# from torch_geometric.nn import GIN, GAT\n",
    "# cfg = config(1)\n",
    "\n",
    "# class customGraphSAGE(torch.nn.Module):\n",
    "    \n",
    "#     def __init__(self, in_channels, hidden_channels, num_layers,out_channels):\n",
    "#         super(customGraphSAGE,self).__init__()\n",
    "#         self.GAT = GraphSAGE(in_channels=in_channels,hidden_channels=hidden_channels,num_layers=num_layers,out_channels=out_channels)\n",
    "#         # self.fc1 = nn.Linear(out_channels,out_channels)\n",
    "#     def forward(self,data):\n",
    "#         GAT_output = self.GAT(x = data.x, edge_index= data.edge_index)\n",
    "#         # x = torch.relu(sage_output)\n",
    "#         # x = self.fc1(x)\n",
    "#         return GAT_output\n",
    "    \n",
    "# device = torch.device('cuda' if torch.cuda.is_available() else 'cpu')\n",
    "# # model = customGAT(in_channels=cfg.in_dim,hidden_channels=cfg.h_dim,num_layers=cfg.num_layers,out_channels=cfg.out_dim).to(device)\n",
    "# # model = customGAT(in_channels=50,hidden_channels=512,num_layers=cfg.num_layers,out_channels=cfg.out_dim).to(device)\n",
    "# model = customGraphSAGE(in_channels=50,hidden_channels=512,num_layers=3,out_channels=cfg.out_dim).to(device)"
   ]
  },
  {
   "cell_type": "code",
   "execution_count": 102,
   "metadata": {},
   "outputs": [],
   "source": [
    "import torch\n",
    "torch.manual_seed(-1)\n",
    "import torch.nn.functional as F\n",
    "from torch_geometric.nn import SAGEConv\n",
    "import torch.nn as nn\n",
    "from sklearn.metrics import f1_score, accuracy_score\n",
    "from torch_geometric.nn import GIN, GAT\n",
    "cfg = config(1)\n",
    "\n",
    "class customGAT(torch.nn.Module):\n",
    "    \n",
    "    def __init__(self, in_channels, hidden_channels, num_layers,out_channels):\n",
    "        super(customGAT,self).__init__()\n",
    "        self.GAT = GAT(in_channels=in_channels,hidden_channels=hidden_channels,num_layers=num_layers,out_channels=out_channels)\n",
    "        # self.fc1 = nn.Linear(out_channels,out_channels)\n",
    "    def forward(self,data):\n",
    "        GAT_output = self.GAT(x = data.x, edge_index= data.edge_index, edge_attr=data.edge_attr)\n",
    "        # GAT_output = self.GAT(x = data.x, edge_index= data.edge_index)\n",
    "        # x = torch.relu(sage_output)\n",
    "        # x = self.fc1(x)\n",
    "        return GAT_output\n",
    "    \n",
    "device = torch.device('cuda' if torch.cuda.is_available() else 'cpu')\n",
    "model = customGAT(in_channels=cfg.in_dim,hidden_channels=cfg.h_dim,num_layers=cfg.num_layers,out_channels=cfg.out_dim).to(device)\n",
    "# model = customGAT(in_channels=50,hidden_channels=512,num_layers=cfg.num_layers,out_channels=cfg.out_dim).to(device)"
   ]
  },
  {
   "cell_type": "code",
   "execution_count": 52,
   "metadata": {},
   "outputs": [
    {
     "data": {
      "text/plain": [
       "customGAT(\n",
       "  (GAT): GAT(19, 1, num_layers=6)\n",
       ")"
      ]
     },
     "execution_count": 52,
     "metadata": {},
     "output_type": "execute_result"
    }
   ],
   "source": [
    "model"
   ]
  },
  {
   "cell_type": "markdown",
   "metadata": {},
   "source": [
    "# 모델 output 확인"
   ]
  },
  {
   "cell_type": "code",
   "execution_count": 53,
   "metadata": {},
   "outputs": [],
   "source": [
    "# m= model(lst[0].to(device))\n",
    "# print(sum(F.sigmoid(m)>0.5))\n",
    "\n",
    "# print(m.size())\n",
    "# print(sum(lst[0].y))"
   ]
  },
  {
   "cell_type": "markdown",
   "metadata": {},
   "source": [
    "# Train"
   ]
  },
  {
   "cell_type": "code",
   "execution_count": 54,
   "metadata": {
    "executionInfo": {
     "elapsed": 1,
     "status": "ok",
     "timestamp": 1715667255258,
     "user": {
      "displayName": "김대건",
      "userId": "14940767608385150906"
     },
     "user_tz": -540
    },
    "id": "WZHyTnwDlhh-"
   },
   "outputs": [],
   "source": [
    "# def accuracy(pred_y, y):\n",
    "#     \"\"\"정확도 계산\"\"\"\n",
    "#     return ((pred_y == y).sum() / len(y)).item()\n",
    "\n",
    "\n",
    "# def train():\n",
    "#     model.train()\n",
    "\n",
    "#     total_loss = 0\n",
    "#     for data in train_loader:\n",
    "        \n",
    "#         data = data.to(device)\n",
    "#         optimizer.zero_grad()\n",
    "        \n",
    "#         out = model(data.x, data.edge_index)\n",
    "#         loss = criterion(out, data.y)\n",
    "#         # total_loss += loss.item() * data.num_graphs\n",
    "#         loss.backward()\n",
    "#         optimizer.step()\n",
    "        \n",
    "#     return total_loss / len(train_loader.dataset)\n",
    "\n",
    "\n",
    "\n",
    "# @torch.no_grad()\n",
    "# def test(loader):\n",
    "#     model.eval()\n",
    "    \n",
    "#     ys, preds = [], [] \n",
    "    \n",
    "#     for data in loader:\n",
    "        \n",
    "#         out = model(data.x.to(device), data.edge_index.to(device))\n",
    "#         out = torch.argmax(out, dim=1)\n",
    "#         preds.append((out > 0).float().cpu())\n",
    "        \n",
    "#         y, pred = torch.cat(ys, dim=0).numpy().squeeze(), torch.cat(preds, dim=0).numpy()\n",
    "#     print(y.sum(), pred.sum())\n",
    "    \n",
    "#     return f1_score(y, pred, average='micro') if pred.sum() > 0 else 0"
   ]
  },
  {
   "cell_type": "code",
   "execution_count": 55,
   "metadata": {
    "colab": {
     "base_uri": "https://localhost:8080/"
    },
    "executionInfo": {
     "elapsed": 635962,
     "status": "ok",
     "timestamp": 1715667892402,
     "user": {
      "displayName": "김대건",
      "userId": "14940767608385150906"
     },
     "user_tz": -540
    },
    "id": "tA2-1zqglk1O",
    "outputId": "26c7191d-f2f5-442e-8904-842a2300150f"
   },
   "outputs": [],
   "source": [
    "# from tqdm import tqdm\n",
    "# for epoch in tqdm(range(10)):\n",
    "#     loss = fit()\n",
    "#     val_f1 = test(test_loader)\n",
    "#     if epoch % 1 == 0:\n",
    "#         print(f'Epoch {epoch:>3} | Train Loss: {loss:.3f} | Test F1-score: {val_f1:.4f}')\n",
    "#         # print(f'Epoch {epoch:>3} | Train Loss: {loss:.3f} | Val F1-score: {val_f1:.4f}')\n",
    "\n",
    "# # print(f'Test F1-score: {test(test_loader):.4f}')"
   ]
  },
  {
   "cell_type": "code",
   "execution_count": 103,
   "metadata": {},
   "outputs": [],
   "source": [
    "def train(loader):\n",
    "    \n",
    "    model.train()\n",
    "    total_loss = 0\n",
    "    \n",
    "    for i,data in enumerate(loader,0):\n",
    "        \n",
    "        data = data.to(device)\n",
    "        optimizer.zero_grad()\n",
    "        \n",
    "        out = model(data)\n",
    "        loss = criterion(out, data.y)\n",
    "        loss.backward()\n",
    "        optimizer.step()\n",
    "        \n",
    "        total_loss += loss.item()\n",
    "    \n",
    "    return total_loss/ len(loader)\n",
    "    \n",
    "\n",
    "def test(loader):\n",
    "    \n",
    "\n",
    "    model.eval()\n",
    "    predict = list()\n",
    "    actual = list()\n",
    "    with torch.no_grad():\n",
    "        for _, data in enumerate(loader,0):\n",
    "            data = data.to(device)\n",
    "            out = model(data)\n",
    "            m = nn.Sigmoid()\n",
    "            preds = (m(out)>0.5).float().cpu().numpy()\n",
    "            y = data.y.cpu().numpy()\n",
    "            \n",
    "            predict.append(preds)\n",
    "            actual.append(y)\n",
    "            \n",
    "    predictions, actuals = vstack(predict), vstack(actual)\n",
    "    acc = accuracy_score(actuals, predictions),f1_score(actuals, predictions)\n",
    "\n",
    "            # total += sum(out==data.y)/len(data.y)\n",
    "            # print(sum(out==data.y)/len(data.y))\n",
    "            # cnt +=1\n",
    "    return acc "
   ]
  },
  {
   "cell_type": "code",
   "execution_count": 99,
   "metadata": {},
   "outputs": [
    {
     "ename": "NameError",
     "evalue": "name 'testedges' is not defined",
     "output_type": "error",
     "traceback": [
      "\u001b[0;31m---------------------------------------------------------------------------\u001b[0m",
      "\u001b[0;31mNameError\u001b[0m                                 Traceback (most recent call last)",
      "Cell \u001b[0;32mIn[99], line 1\u001b[0m\n\u001b[0;32m----> 1\u001b[0m \u001b[38;5;28;01mdel\u001b[39;00m testedges\n\u001b[1;32m      2\u001b[0m \u001b[38;5;28;01mdel\u001b[39;00m testedges_attr\n\u001b[1;32m      3\u001b[0m \u001b[38;5;28;01mdel\u001b[39;00m testnodes\n",
      "\u001b[0;31mNameError\u001b[0m: name 'testedges' is not defined"
     ]
    }
   ],
   "source": [
    "del testedges\n",
    "del testedges_attr\n",
    "del testnodes\n",
    "del testlabels\n",
    "\n",
    "\n",
    "del edges\n",
    "del edges_attr\n",
    "del nodes\n",
    "del labels\n",
    "\n",
    "del lst\n",
    "del testlst"
   ]
  },
  {
   "cell_type": "code",
   "execution_count": 104,
   "metadata": {},
   "outputs": [
    {
     "name": "stderr",
     "output_type": "stream",
     "text": [
      "  0%|          | 1/2000 [00:00<13:33,  2.46it/s]"
     ]
    },
    {
     "name": "stdout",
     "output_type": "stream",
     "text": [
      "Train Loss: 0.697 |  Best_epoch: 0.000 | Best Acc: 0.637 |Best f1: 0.778 | Acc: 0.637 | f1: 0.778 \n"
     ]
    },
    {
     "name": "stderr",
     "output_type": "stream",
     "text": [
      "  3%|▎         | 51/2000 [00:19<12:31,  2.59it/s]"
     ]
    },
    {
     "name": "stdout",
     "output_type": "stream",
     "text": [
      "Train Loss: 0.626 |  Best_epoch: 49.000 | Best Acc: 0.660 |Best f1: 0.783 | Acc: 0.653 | f1: 0.783 \n"
     ]
    },
    {
     "name": "stderr",
     "output_type": "stream",
     "text": [
      "  5%|▌         | 101/2000 [00:38<12:09,  2.60it/s]"
     ]
    },
    {
     "name": "stdout",
     "output_type": "stream",
     "text": [
      "Train Loss: 0.588 |  Best_epoch: 99.000 | Best Acc: 0.686 |Best f1: 0.796 | Acc: 0.685 | f1: 0.786 \n"
     ]
    },
    {
     "name": "stderr",
     "output_type": "stream",
     "text": [
      "  8%|▊         | 151/2000 [00:58<11:45,  2.62it/s]"
     ]
    },
    {
     "name": "stdout",
     "output_type": "stream",
     "text": [
      "Train Loss: 0.582 |  Best_epoch: 147.000 | Best Acc: 0.696 |Best f1: 0.802 | Acc: 0.695 | f1: 0.791 \n"
     ]
    },
    {
     "name": "stderr",
     "output_type": "stream",
     "text": [
      " 10%|█         | 201/2000 [01:17<11:21,  2.64it/s]"
     ]
    },
    {
     "name": "stdout",
     "output_type": "stream",
     "text": [
      "Train Loss: 0.576 |  Best_epoch: 158.000 | Best Acc: 0.701 |Best f1: 0.804 | Acc: 0.697 | f1: 0.799 \n"
     ]
    },
    {
     "name": "stderr",
     "output_type": "stream",
     "text": [
      " 13%|█▎        | 251/2000 [01:36<11:03,  2.64it/s]"
     ]
    },
    {
     "name": "stdout",
     "output_type": "stream",
     "text": [
      "Train Loss: 0.554 |  Best_epoch: 242.000 | Best Acc: 0.712 |Best f1: 0.807 | Acc: 0.709 | f1: 0.807 \n"
     ]
    },
    {
     "name": "stderr",
     "output_type": "stream",
     "text": [
      " 15%|█▌        | 301/2000 [01:55<11:02,  2.56it/s]"
     ]
    },
    {
     "name": "stdout",
     "output_type": "stream",
     "text": [
      "Train Loss: 0.546 |  Best_epoch: 298.000 | Best Acc: 0.720 |Best f1: 0.809 | Acc: 0.718 | f1: 0.804 \n"
     ]
    },
    {
     "name": "stderr",
     "output_type": "stream",
     "text": [
      " 18%|█▊        | 351/2000 [02:14<10:26,  2.63it/s]"
     ]
    },
    {
     "name": "stdout",
     "output_type": "stream",
     "text": [
      "Train Loss: 0.524 |  Best_epoch: 344.000 | Best Acc: 0.727 |Best f1: 0.812 | Acc: 0.726 | f1: 0.811 \n"
     ]
    },
    {
     "name": "stderr",
     "output_type": "stream",
     "text": [
      " 20%|██        | 401/2000 [02:33<10:05,  2.64it/s]"
     ]
    },
    {
     "name": "stdout",
     "output_type": "stream",
     "text": [
      "Train Loss: 0.517 |  Best_epoch: 383.000 | Best Acc: 0.732 |Best f1: 0.817 | Acc: 0.726 | f1: 0.805 \n"
     ]
    },
    {
     "name": "stderr",
     "output_type": "stream",
     "text": [
      " 23%|██▎       | 451/2000 [02:53<09:55,  2.60it/s]"
     ]
    },
    {
     "name": "stdout",
     "output_type": "stream",
     "text": [
      "Train Loss: 0.499 |  Best_epoch: 449.000 | Best Acc: 0.739 |Best f1: 0.820 | Acc: 0.737 | f1: 0.815 \n"
     ]
    },
    {
     "name": "stderr",
     "output_type": "stream",
     "text": [
      " 25%|██▌       | 501/2000 [03:12<09:33,  2.61it/s]"
     ]
    },
    {
     "name": "stdout",
     "output_type": "stream",
     "text": [
      "Train Loss: 0.489 |  Best_epoch: 499.000 | Best Acc: 0.743 |Best f1: 0.821 | Acc: 0.738 | f1: 0.821 \n"
     ]
    },
    {
     "name": "stderr",
     "output_type": "stream",
     "text": [
      " 28%|██▊       | 551/2000 [03:31<09:09,  2.64it/s]"
     ]
    },
    {
     "name": "stdout",
     "output_type": "stream",
     "text": [
      "Train Loss: 0.494 |  Best_epoch: 544.000 | Best Acc: 0.746 |Best f1: 0.825 | Acc: 0.739 | f1: 0.805 \n"
     ]
    },
    {
     "name": "stderr",
     "output_type": "stream",
     "text": [
      " 30%|███       | 601/2000 [03:50<08:51,  2.63it/s]"
     ]
    },
    {
     "name": "stdout",
     "output_type": "stream",
     "text": [
      "Train Loss: 0.472 |  Best_epoch: 596.000 | Best Acc: 0.747 |Best f1: 0.825 | Acc: 0.745 | f1: 0.818 \n"
     ]
    },
    {
     "name": "stderr",
     "output_type": "stream",
     "text": [
      " 33%|███▎      | 651/2000 [04:09<08:30,  2.64it/s]"
     ]
    },
    {
     "name": "stdout",
     "output_type": "stream",
     "text": [
      "Train Loss: 0.479 |  Best_epoch: 635.000 | Best Acc: 0.752 |Best f1: 0.825 | Acc: 0.739 | f1: 0.814 \n"
     ]
    },
    {
     "name": "stderr",
     "output_type": "stream",
     "text": [
      " 35%|███▌      | 701/2000 [04:28<08:12,  2.64it/s]"
     ]
    },
    {
     "name": "stdout",
     "output_type": "stream",
     "text": [
      "Train Loss: 0.480 |  Best_epoch: 692.000 | Best Acc: 0.756 |Best f1: 0.826 | Acc: 0.734 | f1: 0.797 \n"
     ]
    },
    {
     "name": "stderr",
     "output_type": "stream",
     "text": [
      " 38%|███▊      | 751/2000 [04:47<08:02,  2.59it/s]"
     ]
    },
    {
     "name": "stdout",
     "output_type": "stream",
     "text": [
      "Train Loss: 0.446 |  Best_epoch: 750.000 | Best Acc: 0.757 |Best f1: 0.828 | Acc: 0.757 | f1: 0.828 \n"
     ]
    },
    {
     "name": "stderr",
     "output_type": "stream",
     "text": [
      " 40%|████      | 801/2000 [05:06<07:32,  2.65it/s]"
     ]
    },
    {
     "name": "stdout",
     "output_type": "stream",
     "text": [
      "Train Loss: 0.447 |  Best_epoch: 776.000 | Best Acc: 0.759 |Best f1: 0.831 | Acc: 0.752 | f1: 0.818 \n"
     ]
    },
    {
     "name": "stderr",
     "output_type": "stream",
     "text": [
      " 43%|████▎     | 851/2000 [05:25<07:15,  2.64it/s]"
     ]
    },
    {
     "name": "stdout",
     "output_type": "stream",
     "text": [
      "Train Loss: 0.428 |  Best_epoch: 835.000 | Best Acc: 0.762 |Best f1: 0.831 | Acc: 0.752 | f1: 0.819 \n"
     ]
    },
    {
     "name": "stderr",
     "output_type": "stream",
     "text": [
      " 45%|████▌     | 901/2000 [05:44<06:58,  2.62it/s]"
     ]
    },
    {
     "name": "stdout",
     "output_type": "stream",
     "text": [
      "Train Loss: 0.477 |  Best_epoch: 835.000 | Best Acc: 0.762 |Best f1: 0.831 | Acc: 0.741 | f1: 0.810 \n"
     ]
    },
    {
     "name": "stderr",
     "output_type": "stream",
     "text": [
      " 48%|████▊     | 951/2000 [06:03<06:40,  2.62it/s]"
     ]
    },
    {
     "name": "stdout",
     "output_type": "stream",
     "text": [
      "Train Loss: 0.439 |  Best_epoch: 835.000 | Best Acc: 0.762 |Best f1: 0.831 | Acc: 0.753 | f1: 0.811 \n"
     ]
    },
    {
     "name": "stderr",
     "output_type": "stream",
     "text": [
      " 50%|█████     | 1001/2000 [06:23<06:20,  2.62it/s]"
     ]
    },
    {
     "name": "stdout",
     "output_type": "stream",
     "text": [
      "Train Loss: 0.496 |  Best_epoch: 970.000 | Best Acc: 0.764 |Best f1: 0.832 | Acc: 0.742 | f1: 0.811 \n"
     ]
    },
    {
     "name": "stderr",
     "output_type": "stream",
     "text": [
      " 53%|█████▎    | 1051/2000 [06:42<06:06,  2.59it/s]"
     ]
    },
    {
     "name": "stdout",
     "output_type": "stream",
     "text": [
      "Train Loss: 0.427 |  Best_epoch: 1048.000 | Best Acc: 0.768 |Best f1: 0.832 | Acc: 0.766 | f1: 0.829 \n"
     ]
    },
    {
     "name": "stderr",
     "output_type": "stream",
     "text": [
      " 55%|█████▌    | 1101/2000 [07:01<05:42,  2.63it/s]"
     ]
    },
    {
     "name": "stdout",
     "output_type": "stream",
     "text": [
      "Train Loss: 0.409 |  Best_epoch: 1097.000 | Best Acc: 0.769 |Best f1: 0.832 | Acc: 0.765 | f1: 0.824 \n"
     ]
    },
    {
     "name": "stderr",
     "output_type": "stream",
     "text": [
      " 58%|█████▊    | 1151/2000 [07:20<05:21,  2.64it/s]"
     ]
    },
    {
     "name": "stdout",
     "output_type": "stream",
     "text": [
      "Train Loss: 0.434 |  Best_epoch: 1119.000 | Best Acc: 0.772 |Best f1: 0.836 | Acc: 0.763 | f1: 0.824 \n"
     ]
    },
    {
     "name": "stderr",
     "output_type": "stream",
     "text": [
      " 60%|██████    | 1201/2000 [07:39<05:04,  2.63it/s]"
     ]
    },
    {
     "name": "stdout",
     "output_type": "stream",
     "text": [
      "Train Loss: 0.394 |  Best_epoch: 1197.000 | Best Acc: 0.775 |Best f1: 0.836 | Acc: 0.773 | f1: 0.834 \n"
     ]
    },
    {
     "name": "stderr",
     "output_type": "stream",
     "text": [
      " 63%|██████▎   | 1251/2000 [07:58<04:43,  2.64it/s]"
     ]
    },
    {
     "name": "stdout",
     "output_type": "stream",
     "text": [
      "Train Loss: 0.390 |  Best_epoch: 1221.000 | Best Acc: 0.780 |Best f1: 0.839 | Acc: 0.775 | f1: 0.836 \n"
     ]
    },
    {
     "name": "stderr",
     "output_type": "stream",
     "text": [
      " 65%|██████▌   | 1301/2000 [08:17<04:24,  2.64it/s]"
     ]
    },
    {
     "name": "stdout",
     "output_type": "stream",
     "text": [
      "Train Loss: 0.379 |  Best_epoch: 1269.000 | Best Acc: 0.782 |Best f1: 0.840 | Acc: 0.775 | f1: 0.827 \n"
     ]
    },
    {
     "name": "stderr",
     "output_type": "stream",
     "text": [
      " 68%|██████▊   | 1351/2000 [08:36<04:06,  2.63it/s]"
     ]
    },
    {
     "name": "stdout",
     "output_type": "stream",
     "text": [
      "Train Loss: 0.378 |  Best_epoch: 1269.000 | Best Acc: 0.782 |Best f1: 0.840 | Acc: 0.776 | f1: 0.832 \n"
     ]
    },
    {
     "name": "stderr",
     "output_type": "stream",
     "text": [
      " 69%|██████▉   | 1382/2000 [08:48<03:56,  2.61it/s]\n"
     ]
    },
    {
     "ename": "KeyboardInterrupt",
     "evalue": "",
     "output_type": "error",
     "traceback": [
      "\u001b[0;31m---------------------------------------------------------------------------\u001b[0m",
      "\u001b[0;31mKeyboardInterrupt\u001b[0m                         Traceback (most recent call last)",
      "Cell \u001b[0;32mIn[104], line 14\u001b[0m\n\u001b[1;32m     12\u001b[0m best_f1 \u001b[38;5;241m=\u001b[39m \u001b[38;5;241m0\u001b[39m\n\u001b[1;32m     13\u001b[0m \u001b[38;5;28;01mfor\u001b[39;00m epoch \u001b[38;5;129;01min\u001b[39;00m tqdm(\u001b[38;5;28mrange\u001b[39m(\u001b[38;5;241m2000\u001b[39m)):\n\u001b[0;32m---> 14\u001b[0m     loss \u001b[38;5;241m=\u001b[39m \u001b[43mtrain\u001b[49m\u001b[43m(\u001b[49m\u001b[43mtrain_loader\u001b[49m\u001b[43m)\u001b[49m\n\u001b[1;32m     15\u001b[0m     acc,f1 \u001b[38;5;241m=\u001b[39m test(test_loader)\n\u001b[1;32m     17\u001b[0m     \u001b[38;5;66;03m# scheduler.step()\u001b[39;00m\n",
      "Cell \u001b[0;32mIn[103], line 11\u001b[0m, in \u001b[0;36mtrain\u001b[0;34m(loader)\u001b[0m\n\u001b[1;32m      8\u001b[0m data \u001b[38;5;241m=\u001b[39m data\u001b[38;5;241m.\u001b[39mto(device)\n\u001b[1;32m      9\u001b[0m optimizer\u001b[38;5;241m.\u001b[39mzero_grad()\n\u001b[0;32m---> 11\u001b[0m out \u001b[38;5;241m=\u001b[39m \u001b[43mmodel\u001b[49m\u001b[43m(\u001b[49m\u001b[43mdata\u001b[49m\u001b[43m)\u001b[49m\n\u001b[1;32m     12\u001b[0m loss \u001b[38;5;241m=\u001b[39m criterion(out, data\u001b[38;5;241m.\u001b[39my)\n\u001b[1;32m     13\u001b[0m loss\u001b[38;5;241m.\u001b[39mbackward()\n",
      "File \u001b[0;32m~/anaconda3/envs/main/lib/python3.10/site-packages/torch/nn/modules/module.py:1532\u001b[0m, in \u001b[0;36mModule._wrapped_call_impl\u001b[0;34m(self, *args, **kwargs)\u001b[0m\n\u001b[1;32m   1530\u001b[0m     \u001b[38;5;28;01mreturn\u001b[39;00m \u001b[38;5;28mself\u001b[39m\u001b[38;5;241m.\u001b[39m_compiled_call_impl(\u001b[38;5;241m*\u001b[39margs, \u001b[38;5;241m*\u001b[39m\u001b[38;5;241m*\u001b[39mkwargs)  \u001b[38;5;66;03m# type: ignore[misc]\u001b[39;00m\n\u001b[1;32m   1531\u001b[0m \u001b[38;5;28;01melse\u001b[39;00m:\n\u001b[0;32m-> 1532\u001b[0m     \u001b[38;5;28;01mreturn\u001b[39;00m \u001b[38;5;28;43mself\u001b[39;49m\u001b[38;5;241;43m.\u001b[39;49m\u001b[43m_call_impl\u001b[49m\u001b[43m(\u001b[49m\u001b[38;5;241;43m*\u001b[39;49m\u001b[43margs\u001b[49m\u001b[43m,\u001b[49m\u001b[43m \u001b[49m\u001b[38;5;241;43m*\u001b[39;49m\u001b[38;5;241;43m*\u001b[39;49m\u001b[43mkwargs\u001b[49m\u001b[43m)\u001b[49m\n",
      "File \u001b[0;32m~/anaconda3/envs/main/lib/python3.10/site-packages/torch/nn/modules/module.py:1541\u001b[0m, in \u001b[0;36mModule._call_impl\u001b[0;34m(self, *args, **kwargs)\u001b[0m\n\u001b[1;32m   1536\u001b[0m \u001b[38;5;66;03m# If we don't have any hooks, we want to skip the rest of the logic in\u001b[39;00m\n\u001b[1;32m   1537\u001b[0m \u001b[38;5;66;03m# this function, and just call forward.\u001b[39;00m\n\u001b[1;32m   1538\u001b[0m \u001b[38;5;28;01mif\u001b[39;00m \u001b[38;5;129;01mnot\u001b[39;00m (\u001b[38;5;28mself\u001b[39m\u001b[38;5;241m.\u001b[39m_backward_hooks \u001b[38;5;129;01mor\u001b[39;00m \u001b[38;5;28mself\u001b[39m\u001b[38;5;241m.\u001b[39m_backward_pre_hooks \u001b[38;5;129;01mor\u001b[39;00m \u001b[38;5;28mself\u001b[39m\u001b[38;5;241m.\u001b[39m_forward_hooks \u001b[38;5;129;01mor\u001b[39;00m \u001b[38;5;28mself\u001b[39m\u001b[38;5;241m.\u001b[39m_forward_pre_hooks\n\u001b[1;32m   1539\u001b[0m         \u001b[38;5;129;01mor\u001b[39;00m _global_backward_pre_hooks \u001b[38;5;129;01mor\u001b[39;00m _global_backward_hooks\n\u001b[1;32m   1540\u001b[0m         \u001b[38;5;129;01mor\u001b[39;00m _global_forward_hooks \u001b[38;5;129;01mor\u001b[39;00m _global_forward_pre_hooks):\n\u001b[0;32m-> 1541\u001b[0m     \u001b[38;5;28;01mreturn\u001b[39;00m \u001b[43mforward_call\u001b[49m\u001b[43m(\u001b[49m\u001b[38;5;241;43m*\u001b[39;49m\u001b[43margs\u001b[49m\u001b[43m,\u001b[49m\u001b[43m \u001b[49m\u001b[38;5;241;43m*\u001b[39;49m\u001b[38;5;241;43m*\u001b[39;49m\u001b[43mkwargs\u001b[49m\u001b[43m)\u001b[49m\n\u001b[1;32m   1543\u001b[0m \u001b[38;5;28;01mtry\u001b[39;00m:\n\u001b[1;32m   1544\u001b[0m     result \u001b[38;5;241m=\u001b[39m \u001b[38;5;28;01mNone\u001b[39;00m\n",
      "Cell \u001b[0;32mIn[102], line 18\u001b[0m, in \u001b[0;36mcustomGAT.forward\u001b[0;34m(self, data)\u001b[0m\n\u001b[1;32m     16\u001b[0m \u001b[38;5;28;01mdef\u001b[39;00m \u001b[38;5;21mforward\u001b[39m(\u001b[38;5;28mself\u001b[39m,data):\n\u001b[1;32m     17\u001b[0m     \u001b[38;5;66;03m# GAT_output = self.GAT(x = data.x, edge_index= data.edge_index, edge_attr=data.edge_attr)\u001b[39;00m\n\u001b[0;32m---> 18\u001b[0m     GAT_output \u001b[38;5;241m=\u001b[39m \u001b[38;5;28;43mself\u001b[39;49m\u001b[38;5;241;43m.\u001b[39;49m\u001b[43mGAT\u001b[49m\u001b[43m(\u001b[49m\u001b[43mx\u001b[49m\u001b[43m \u001b[49m\u001b[38;5;241;43m=\u001b[39;49m\u001b[43m \u001b[49m\u001b[43mdata\u001b[49m\u001b[38;5;241;43m.\u001b[39;49m\u001b[43mx\u001b[49m\u001b[43m,\u001b[49m\u001b[43m \u001b[49m\u001b[43medge_index\u001b[49m\u001b[38;5;241;43m=\u001b[39;49m\u001b[43m \u001b[49m\u001b[43mdata\u001b[49m\u001b[38;5;241;43m.\u001b[39;49m\u001b[43medge_index\u001b[49m\u001b[43m)\u001b[49m\n\u001b[1;32m     19\u001b[0m     \u001b[38;5;66;03m# x = torch.relu(sage_output)\u001b[39;00m\n\u001b[1;32m     20\u001b[0m     \u001b[38;5;66;03m# x = self.fc1(x)\u001b[39;00m\n\u001b[1;32m     21\u001b[0m     \u001b[38;5;28;01mreturn\u001b[39;00m GAT_output\n",
      "File \u001b[0;32m~/anaconda3/envs/main/lib/python3.10/site-packages/torch/nn/modules/module.py:1532\u001b[0m, in \u001b[0;36mModule._wrapped_call_impl\u001b[0;34m(self, *args, **kwargs)\u001b[0m\n\u001b[1;32m   1530\u001b[0m     \u001b[38;5;28;01mreturn\u001b[39;00m \u001b[38;5;28mself\u001b[39m\u001b[38;5;241m.\u001b[39m_compiled_call_impl(\u001b[38;5;241m*\u001b[39margs, \u001b[38;5;241m*\u001b[39m\u001b[38;5;241m*\u001b[39mkwargs)  \u001b[38;5;66;03m# type: ignore[misc]\u001b[39;00m\n\u001b[1;32m   1531\u001b[0m \u001b[38;5;28;01melse\u001b[39;00m:\n\u001b[0;32m-> 1532\u001b[0m     \u001b[38;5;28;01mreturn\u001b[39;00m \u001b[38;5;28;43mself\u001b[39;49m\u001b[38;5;241;43m.\u001b[39;49m\u001b[43m_call_impl\u001b[49m\u001b[43m(\u001b[49m\u001b[38;5;241;43m*\u001b[39;49m\u001b[43margs\u001b[49m\u001b[43m,\u001b[49m\u001b[43m \u001b[49m\u001b[38;5;241;43m*\u001b[39;49m\u001b[38;5;241;43m*\u001b[39;49m\u001b[43mkwargs\u001b[49m\u001b[43m)\u001b[49m\n",
      "File \u001b[0;32m~/anaconda3/envs/main/lib/python3.10/site-packages/torch/nn/modules/module.py:1541\u001b[0m, in \u001b[0;36mModule._call_impl\u001b[0;34m(self, *args, **kwargs)\u001b[0m\n\u001b[1;32m   1536\u001b[0m \u001b[38;5;66;03m# If we don't have any hooks, we want to skip the rest of the logic in\u001b[39;00m\n\u001b[1;32m   1537\u001b[0m \u001b[38;5;66;03m# this function, and just call forward.\u001b[39;00m\n\u001b[1;32m   1538\u001b[0m \u001b[38;5;28;01mif\u001b[39;00m \u001b[38;5;129;01mnot\u001b[39;00m (\u001b[38;5;28mself\u001b[39m\u001b[38;5;241m.\u001b[39m_backward_hooks \u001b[38;5;129;01mor\u001b[39;00m \u001b[38;5;28mself\u001b[39m\u001b[38;5;241m.\u001b[39m_backward_pre_hooks \u001b[38;5;129;01mor\u001b[39;00m \u001b[38;5;28mself\u001b[39m\u001b[38;5;241m.\u001b[39m_forward_hooks \u001b[38;5;129;01mor\u001b[39;00m \u001b[38;5;28mself\u001b[39m\u001b[38;5;241m.\u001b[39m_forward_pre_hooks\n\u001b[1;32m   1539\u001b[0m         \u001b[38;5;129;01mor\u001b[39;00m _global_backward_pre_hooks \u001b[38;5;129;01mor\u001b[39;00m _global_backward_hooks\n\u001b[1;32m   1540\u001b[0m         \u001b[38;5;129;01mor\u001b[39;00m _global_forward_hooks \u001b[38;5;129;01mor\u001b[39;00m _global_forward_pre_hooks):\n\u001b[0;32m-> 1541\u001b[0m     \u001b[38;5;28;01mreturn\u001b[39;00m \u001b[43mforward_call\u001b[49m\u001b[43m(\u001b[49m\u001b[38;5;241;43m*\u001b[39;49m\u001b[43margs\u001b[49m\u001b[43m,\u001b[49m\u001b[43m \u001b[49m\u001b[38;5;241;43m*\u001b[39;49m\u001b[38;5;241;43m*\u001b[39;49m\u001b[43mkwargs\u001b[49m\u001b[43m)\u001b[49m\n\u001b[1;32m   1543\u001b[0m \u001b[38;5;28;01mtry\u001b[39;00m:\n\u001b[1;32m   1544\u001b[0m     result \u001b[38;5;241m=\u001b[39m \u001b[38;5;28;01mNone\u001b[39;00m\n",
      "File \u001b[0;32m~/anaconda3/envs/main/lib/python3.10/site-packages/torch_geometric/nn/models/basic_gnn.py:254\u001b[0m, in \u001b[0;36mBasicGNN.forward\u001b[0;34m(self, x, edge_index, edge_weight, edge_attr, batch, batch_size, num_sampled_nodes_per_hop, num_sampled_edges_per_hop)\u001b[0m\n\u001b[1;32m    252\u001b[0m     x \u001b[38;5;241m=\u001b[39m conv(x, edge_index, edge_weight\u001b[38;5;241m=\u001b[39medge_weight)\n\u001b[1;32m    253\u001b[0m \u001b[38;5;28;01melif\u001b[39;00m \u001b[38;5;28mself\u001b[39m\u001b[38;5;241m.\u001b[39msupports_edge_attr:\n\u001b[0;32m--> 254\u001b[0m     x \u001b[38;5;241m=\u001b[39m \u001b[43mconv\u001b[49m\u001b[43m(\u001b[49m\u001b[43mx\u001b[49m\u001b[43m,\u001b[49m\u001b[43m \u001b[49m\u001b[43medge_index\u001b[49m\u001b[43m,\u001b[49m\u001b[43m \u001b[49m\u001b[43medge_attr\u001b[49m\u001b[38;5;241;43m=\u001b[39;49m\u001b[43medge_attr\u001b[49m\u001b[43m)\u001b[49m\n\u001b[1;32m    255\u001b[0m \u001b[38;5;28;01melse\u001b[39;00m:\n\u001b[1;32m    256\u001b[0m     x \u001b[38;5;241m=\u001b[39m conv(x, edge_index)\n",
      "File \u001b[0;32m~/anaconda3/envs/main/lib/python3.10/site-packages/torch/nn/modules/module.py:1532\u001b[0m, in \u001b[0;36mModule._wrapped_call_impl\u001b[0;34m(self, *args, **kwargs)\u001b[0m\n\u001b[1;32m   1530\u001b[0m     \u001b[38;5;28;01mreturn\u001b[39;00m \u001b[38;5;28mself\u001b[39m\u001b[38;5;241m.\u001b[39m_compiled_call_impl(\u001b[38;5;241m*\u001b[39margs, \u001b[38;5;241m*\u001b[39m\u001b[38;5;241m*\u001b[39mkwargs)  \u001b[38;5;66;03m# type: ignore[misc]\u001b[39;00m\n\u001b[1;32m   1531\u001b[0m \u001b[38;5;28;01melse\u001b[39;00m:\n\u001b[0;32m-> 1532\u001b[0m     \u001b[38;5;28;01mreturn\u001b[39;00m \u001b[38;5;28;43mself\u001b[39;49m\u001b[38;5;241;43m.\u001b[39;49m\u001b[43m_call_impl\u001b[49m\u001b[43m(\u001b[49m\u001b[38;5;241;43m*\u001b[39;49m\u001b[43margs\u001b[49m\u001b[43m,\u001b[49m\u001b[43m \u001b[49m\u001b[38;5;241;43m*\u001b[39;49m\u001b[38;5;241;43m*\u001b[39;49m\u001b[43mkwargs\u001b[49m\u001b[43m)\u001b[49m\n",
      "File \u001b[0;32m~/anaconda3/envs/main/lib/python3.10/site-packages/torch/nn/modules/module.py:1541\u001b[0m, in \u001b[0;36mModule._call_impl\u001b[0;34m(self, *args, **kwargs)\u001b[0m\n\u001b[1;32m   1536\u001b[0m \u001b[38;5;66;03m# If we don't have any hooks, we want to skip the rest of the logic in\u001b[39;00m\n\u001b[1;32m   1537\u001b[0m \u001b[38;5;66;03m# this function, and just call forward.\u001b[39;00m\n\u001b[1;32m   1538\u001b[0m \u001b[38;5;28;01mif\u001b[39;00m \u001b[38;5;129;01mnot\u001b[39;00m (\u001b[38;5;28mself\u001b[39m\u001b[38;5;241m.\u001b[39m_backward_hooks \u001b[38;5;129;01mor\u001b[39;00m \u001b[38;5;28mself\u001b[39m\u001b[38;5;241m.\u001b[39m_backward_pre_hooks \u001b[38;5;129;01mor\u001b[39;00m \u001b[38;5;28mself\u001b[39m\u001b[38;5;241m.\u001b[39m_forward_hooks \u001b[38;5;129;01mor\u001b[39;00m \u001b[38;5;28mself\u001b[39m\u001b[38;5;241m.\u001b[39m_forward_pre_hooks\n\u001b[1;32m   1539\u001b[0m         \u001b[38;5;129;01mor\u001b[39;00m _global_backward_pre_hooks \u001b[38;5;129;01mor\u001b[39;00m _global_backward_hooks\n\u001b[1;32m   1540\u001b[0m         \u001b[38;5;129;01mor\u001b[39;00m _global_forward_hooks \u001b[38;5;129;01mor\u001b[39;00m _global_forward_pre_hooks):\n\u001b[0;32m-> 1541\u001b[0m     \u001b[38;5;28;01mreturn\u001b[39;00m \u001b[43mforward_call\u001b[49m\u001b[43m(\u001b[49m\u001b[38;5;241;43m*\u001b[39;49m\u001b[43margs\u001b[49m\u001b[43m,\u001b[49m\u001b[43m \u001b[49m\u001b[38;5;241;43m*\u001b[39;49m\u001b[38;5;241;43m*\u001b[39;49m\u001b[43mkwargs\u001b[49m\u001b[43m)\u001b[49m\n\u001b[1;32m   1543\u001b[0m \u001b[38;5;28;01mtry\u001b[39;00m:\n\u001b[1;32m   1544\u001b[0m     result \u001b[38;5;241m=\u001b[39m \u001b[38;5;28;01mNone\u001b[39;00m\n",
      "File \u001b[0;32m~/anaconda3/envs/main/lib/python3.10/site-packages/torch_geometric/nn/conv/gat_conv.py:322\u001b[0m, in \u001b[0;36mGATConv.forward\u001b[0;34m(self, x, edge_index, edge_attr, size, return_attention_weights)\u001b[0m\n\u001b[1;32m    320\u001b[0m         num_nodes \u001b[38;5;241m=\u001b[39m \u001b[38;5;28mmin\u001b[39m(num_nodes, x_dst\u001b[38;5;241m.\u001b[39msize(\u001b[38;5;241m0\u001b[39m))\n\u001b[1;32m    321\u001b[0m     num_nodes \u001b[38;5;241m=\u001b[39m \u001b[38;5;28mmin\u001b[39m(size) \u001b[38;5;28;01mif\u001b[39;00m size \u001b[38;5;129;01mis\u001b[39;00m \u001b[38;5;129;01mnot\u001b[39;00m \u001b[38;5;28;01mNone\u001b[39;00m \u001b[38;5;28;01melse\u001b[39;00m num_nodes\n\u001b[0;32m--> 322\u001b[0m     edge_index, edge_attr \u001b[38;5;241m=\u001b[39m \u001b[43mremove_self_loops\u001b[49m\u001b[43m(\u001b[49m\n\u001b[1;32m    323\u001b[0m \u001b[43m        \u001b[49m\u001b[43medge_index\u001b[49m\u001b[43m,\u001b[49m\u001b[43m \u001b[49m\u001b[43medge_attr\u001b[49m\u001b[43m)\u001b[49m\n\u001b[1;32m    324\u001b[0m     edge_index, edge_attr \u001b[38;5;241m=\u001b[39m add_self_loops(\n\u001b[1;32m    325\u001b[0m         edge_index, edge_attr, fill_value\u001b[38;5;241m=\u001b[39m\u001b[38;5;28mself\u001b[39m\u001b[38;5;241m.\u001b[39mfill_value,\n\u001b[1;32m    326\u001b[0m         num_nodes\u001b[38;5;241m=\u001b[39mnum_nodes)\n\u001b[1;32m    327\u001b[0m \u001b[38;5;28;01melif\u001b[39;00m \u001b[38;5;28misinstance\u001b[39m(edge_index, SparseTensor):\n",
      "File \u001b[0;32m~/anaconda3/envs/main/lib/python3.10/site-packages/torch_geometric/utils/loop.py:115\u001b[0m, in \u001b[0;36mremove_self_loops\u001b[0;34m(edge_index, edge_attr)\u001b[0m\n\u001b[1;32m    112\u001b[0m mask \u001b[38;5;241m=\u001b[39m edge_index[\u001b[38;5;241m0\u001b[39m] \u001b[38;5;241m!=\u001b[39m edge_index[\u001b[38;5;241m1\u001b[39m]\n\u001b[1;32m    113\u001b[0m edge_index \u001b[38;5;241m=\u001b[39m edge_index[:, mask]\n\u001b[0;32m--> 115\u001b[0m \u001b[38;5;28;01mif\u001b[39;00m \u001b[38;5;129;01mnot\u001b[39;00m \u001b[43mtorch\u001b[49m\u001b[38;5;241;43m.\u001b[39;49m\u001b[43mjit\u001b[49m\u001b[38;5;241;43m.\u001b[39;49m\u001b[43mis_scripting\u001b[49m\u001b[43m(\u001b[49m\u001b[43m)\u001b[49m \u001b[38;5;129;01mand\u001b[39;00m \u001b[38;5;28misinstance\u001b[39m(edge_index, EdgeIndex):\n\u001b[1;32m    116\u001b[0m     edge_index\u001b[38;5;241m.\u001b[39m_is_undirected \u001b[38;5;241m=\u001b[39m is_undirected\n\u001b[1;32m    118\u001b[0m \u001b[38;5;28;01mif\u001b[39;00m layout \u001b[38;5;129;01mis\u001b[39;00m \u001b[38;5;129;01mnot\u001b[39;00m \u001b[38;5;28;01mNone\u001b[39;00m:\n",
      "File \u001b[0;32m~/anaconda3/envs/main/lib/python3.10/site-packages/torch/_jit_internal.py:1120\u001b[0m, in \u001b[0;36mis_scripting\u001b[0;34m()\u001b[0m\n\u001b[1;32m   1116\u001b[0m \u001b[38;5;28;01mfor\u001b[39;00m i \u001b[38;5;129;01min\u001b[39;00m \u001b[38;5;28mrange\u001b[39m(\u001b[38;5;241m2\u001b[39m, \u001b[38;5;241m7\u001b[39m):\n\u001b[1;32m   1117\u001b[0m     \u001b[38;5;28mglobals\u001b[39m()[\u001b[38;5;124mf\u001b[39m\u001b[38;5;124m\"\u001b[39m\u001b[38;5;124mBroadcastingList\u001b[39m\u001b[38;5;132;01m{\u001b[39;00mi\u001b[38;5;132;01m}\u001b[39;00m\u001b[38;5;124m\"\u001b[39m] \u001b[38;5;241m=\u001b[39m BroadcastingList1\n\u001b[0;32m-> 1120\u001b[0m \u001b[38;5;28;01mdef\u001b[39;00m \u001b[38;5;21mis_scripting\u001b[39m() \u001b[38;5;241m-\u001b[39m\u001b[38;5;241m>\u001b[39m \u001b[38;5;28mbool\u001b[39m:\n\u001b[1;32m   1121\u001b[0m \u001b[38;5;250m    \u001b[39m\u001b[38;5;124mr\u001b[39m\u001b[38;5;124;03m\"\"\"\u001b[39;00m\n\u001b[1;32m   1122\u001b[0m \u001b[38;5;124;03m    Function that returns True when in compilation and False otherwise. This\u001b[39;00m\n\u001b[1;32m   1123\u001b[0m \u001b[38;5;124;03m    is useful especially with the @unused decorator to leave code in your\u001b[39;00m\n\u001b[0;32m   (...)\u001b[0m\n\u001b[1;32m   1137\u001b[0m \u001b[38;5;124;03m              return unsupported_linear_op(x)\u001b[39;00m\n\u001b[1;32m   1138\u001b[0m \u001b[38;5;124;03m    \"\"\"\u001b[39;00m\n\u001b[1;32m   1139\u001b[0m     \u001b[38;5;28;01mreturn\u001b[39;00m \u001b[38;5;28;01mFalse\u001b[39;00m\n",
      "\u001b[0;31mKeyboardInterrupt\u001b[0m: "
     ]
    }
   ],
   "source": [
    "from tqdm import tqdm\n",
    "from numpy import vstack\n",
    "\n",
    "\n",
    "# model = GraphSAGE(dim_in=lst[0].num_features,dim_h=128,dim_out=1).to(device)\n",
    "# model = GAT(dim_in=lst[0].num_features,dim_h=64,dim_out=1).to(device)\n",
    "criterion = torch.nn.BCEWithLogitsLoss().to(device)\n",
    "optimizer = torch.optim.AdamW(model.parameters(), lr=0.001)\n",
    "# scheduler = torch.optim.lr_scheduler.CosineAnnealingLR(optimizer, T_max=100, eta_min=0)\n",
    "best_acc = 0\n",
    "best_epoch = 0\n",
    "best_f1 = 0\n",
    "for epoch in tqdm(range(2000)):\n",
    "    loss = train(train_loader)\n",
    "    acc,f1 = test(test_loader)\n",
    "    \n",
    "    # scheduler.step()\n",
    "    if f1 > best_f1 :\n",
    "        best_f1 = f1    \n",
    "    \n",
    "    if acc > best_acc :\n",
    "        # best_f1 = f1\n",
    "        best_acc = acc\n",
    "        best_epoch=epoch\n",
    "        \n",
    "        torch.save(model.state_dict(), '/home/work/kdg_folder/work_kisti/kisti-GraphSAGE/best_model.pth')\n",
    "\n",
    "    if epoch %50 == 0:\n",
    "        print(f'Train Loss: {loss:.3f} |  Best_epoch: {best_epoch:.3f} | Best Acc: {best_acc:.3f} |Best f1: {best_f1:.3f} | Acc: {acc:.3f} | f1: {f1:.3f} ')        # print(f'Train Loss: {loss:.3f} | Test acc: {acc.item():.3f} ')\n",
    "        # print(f'Train Loss: {loss:.3f}')\n",
    "    \n",
    "    "
   ]
  },
  {
   "cell_type": "code",
   "execution_count": 91,
   "metadata": {},
   "outputs": [
    {
     "ename": "NameError",
     "evalue": "name 'testlabels' is not defined",
     "output_type": "error",
     "traceback": [
      "\u001b[0;31m---------------------------------------------------------------------------\u001b[0m",
      "\u001b[0;31mNameError\u001b[0m                                 Traceback (most recent call last)",
      "Cell \u001b[0;32mIn[91], line 1\u001b[0m\n\u001b[0;32m----> 1\u001b[0m \u001b[38;5;28msum\u001b[39m(\u001b[43mtestlabels\u001b[49m[\u001b[38;5;124m'\u001b[39m\u001b[38;5;124mlabel0\u001b[39m\u001b[38;5;124m'\u001b[39m])\n",
      "\u001b[0;31mNameError\u001b[0m: name 'testlabels' is not defined"
     ]
    }
   ],
   "source": [
    "sum(testlabels['label0'])"
   ]
  },
  {
   "cell_type": "code",
   "execution_count": null,
   "metadata": {},
   "outputs": [
    {
     "data": {
      "text/plain": [
       "0.47286610564279813"
      ]
     },
     "execution_count": 18,
     "metadata": {},
     "output_type": "execute_result"
    }
   ],
   "source": [
    "50347/106472"
   ]
  },
  {
   "cell_type": "code",
   "execution_count": null,
   "metadata": {},
   "outputs": [
    {
     "data": {
      "text/plain": [
       "0.5271338943572019"
      ]
     },
     "execution_count": 19,
     "metadata": {},
     "output_type": "execute_result"
    }
   ],
   "source": [
    "1-0.47286610564279813"
   ]
  },
  {
   "cell_type": "code",
   "execution_count": null,
   "metadata": {},
   "outputs": [
    {
     "data": {
      "text/plain": [
       "False"
      ]
     },
     "execution_count": 29,
     "metadata": {},
     "output_type": "execute_result"
    }
   ],
   "source": [
    "lst[0].is_undirected()"
   ]
  },
  {
   "cell_type": "markdown",
   "metadata": {},
   "source": [
    "# example"
   ]
  },
  {
   "cell_type": "code",
   "execution_count": null,
   "metadata": {},
   "outputs": [],
   "source": [
    "# import torch\n",
    "# from sklearn.metrics import f1_score\n",
    "# from torch_geometric.nn import GraphSAGE\n",
    " \n",
    "# device = torch.device('cuda' if torch.cuda.is_available() else 'cpu')\n",
    " \n",
    "# model = GraphSAGE(\n",
    "#     in_channels=train_dataset.num_features,\n",
    "#     hidden_channels=512,\n",
    "#     num_layers=2,\n",
    "#     out_channels=train_dataset.num_classes,\n",
    "# ).to(device)"
   ]
  },
  {
   "cell_type": "code",
   "execution_count": null,
   "metadata": {},
   "outputs": [],
   "source": [
    "# criterion = torch.nn.BCEWithLogitsLoss()\n",
    "# optimizer = torch.optim.Adam(model.parameters(), lr=0.005)\n",
    " \n",
    "# def fit():\n",
    "#     model.train()\n",
    " \n",
    "#     total_loss = 0\n",
    "#     for data in train_loader:\n",
    "#         data = data.to(device)\n",
    "#         optimizer.zero_grad()\n",
    "        \n",
    "#         out = model(data.x, data.edge_index)\n",
    "#         loss = criterion(out, data.y)\n",
    "        \n",
    "#         total_loss += loss.item() * data.num_graphs\n",
    "        \n",
    "#         loss.backward()\n",
    "#         optimizer.step()\n",
    "        \n",
    "#     return total_loss / len(train_loader.dataset)\n",
    " \n",
    "# @torch.no_grad()\n",
    "# def test(loader):\n",
    "#     model.eval()\n",
    " \n",
    "#     data = next(iter(loader))\n",
    "#     out = model(data.x.to(device), data.edge_index.to(device))\n",
    "#     preds = (out > 0).float().cpu()\n",
    "#     print(preds)\n",
    " \n",
    "#     y, pred = data.y.numpy(), preds.numpy()\n",
    "#     return f1_score(y, pred, average='micro') if pred.sum() > 0 else 0\n",
    " \n",
    "# for epoch in range(301):\n",
    "#     loss = fit()\n",
    "#     val_f1 = test(val_loader)\n",
    "#     if epoch % 50 == 0:\n",
    "#         print(f'Epoch {epoch:>3} | Train Loss: {loss:.3f} | Val F1-score: {val_f1:.4f}')\n",
    " \n",
    "# print(f'Test F1-score: {test(test_loader):.4f}')"
   ]
  },
  {
   "cell_type": "code",
   "execution_count": null,
   "metadata": {},
   "outputs": [],
   "source": [
    "# import torch\n",
    "\n",
    "# def test(test_loader):\n",
    "#     model.eval()\n",
    "#     correct = 0\n",
    "#     total = 0\n",
    "#     with torch.no_grad():\n",
    "#         for data in test_loader:\n",
    "#             data = data.to(device)\n",
    "#             out = model(data)\n",
    "#             preds = (out > 0).float().cpu()  # .cpu()를 추가하여 GPU에서 CPU로 이동\n",
    "#             acc = accuracy_score(data.y.cpu(), preds)  # .cpu()를 추가하여 GPU에서 CPU로 이동\n",
    "#             print(acc)\n",
    "#             total += len(data.y)\n",
    "#             correct += (preds == data.y.cpu()).sum().item()\n",
    "#     return correct / total\n",
    "\n",
    "# # 학습 및 테스트 코드\n",
    "# for epoch in tqdm(range(100)):\n",
    "#     loss = train(train_loader)\n",
    "#     acc = test(test_loader)\n",
    "#     if epoch % 1 == 0:\n",
    "#         print(f'Train Loss: {loss:.3f} | Test acc: {acc:.3f}')\n"
   ]
  }
 ],
 "metadata": {
  "accelerator": "GPU",
  "colab": {
   "gpuType": "T4",
   "provenance": []
  },
  "kernelspec": {
   "display_name": "Python 3",
   "language": "python",
   "name": "python3"
  },
  "language_info": {
   "codemirror_mode": {
    "name": "ipython",
    "version": 3
   },
   "file_extension": ".py",
   "mimetype": "text/x-python",
   "name": "python",
   "nbconvert_exporter": "python",
   "pygments_lexer": "ipython3",
   "version": "3.10.14"
  }
 },
 "nbformat": 4,
 "nbformat_minor": 4
}
