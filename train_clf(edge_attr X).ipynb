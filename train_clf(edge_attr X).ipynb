{
 "cells": [
  {
   "cell_type": "code",
   "execution_count": 40,
   "metadata": {},
   "outputs": [
    {
     "data": {
      "text/plain": [
       "814"
      ]
     },
     "execution_count": 40,
     "metadata": {},
     "output_type": "execute_result"
    }
   ],
   "source": [
    "import torch, gc\n",
    "gc.collect()\n",
    "# torch.cuda.empty_cache()"
   ]
  },
  {
   "cell_type": "code",
   "execution_count": 1,
   "metadata": {},
   "outputs": [
    {
     "ename": "NameError",
     "evalue": "name 'torch' is not defined",
     "output_type": "error",
     "traceback": [
      "\u001b[0;31m---------------------------------------------------------------------------\u001b[0m",
      "\u001b[0;31mNameError\u001b[0m                                 Traceback (most recent call last)",
      "Cell \u001b[0;32mIn[1], line 1\u001b[0m\n\u001b[0;32m----> 1\u001b[0m \u001b[43mtorch\u001b[49m\u001b[38;5;241m.\u001b[39mcuda\u001b[38;5;241m.\u001b[39mempty_cache()\n",
      "\u001b[0;31mNameError\u001b[0m: name 'torch' is not defined"
     ]
    }
   ],
   "source": [
    "torch.cuda.empty_cache()"
   ]
  },
  {
   "cell_type": "code",
   "execution_count": 40,
   "metadata": {},
   "outputs": [
    {
     "name": "stdout",
     "output_type": "stream",
     "text": [
      "2.3.0\n"
     ]
    }
   ],
   "source": [
    "import os\n",
    "import torch\n",
    "os.environ['TORCH'] = torch.__version__\n",
    "print(torch.__version__)"
   ]
  },
  {
   "cell_type": "code",
   "execution_count": 43,
   "metadata": {},
   "outputs": [],
   "source": [
    "# import os\n",
    "# os.environ['CUDA_LAUNCH_BLOCKING'] = \"1\""
   ]
  },
  {
   "cell_type": "markdown",
   "metadata": {},
   "source": [
    "# 데이터 로드"
   ]
  },
  {
   "cell_type": "code",
   "execution_count": 5,
   "metadata": {},
   "outputs": [],
   "source": [
    "class config():\n",
    "    def __init__(self, i):\n",
    "        self.i = i\n",
    "        self.train_edge_file_path = f'/home/work/kdg_folder/work_kisti/학습데이터/v12(분류,이상치제거)/edge_train_{self.i+1}_v12_label10.pkl'\n",
    "        self.train_node_file_path = f'/home/work/kdg_folder/work_kisti/학습데이터/v12(분류,이상치제거)/node_train_{self.i+1}_v12_label10.pkl'\n",
    "        self.test_edge_file_path = f'/home/work/kdg_folder/work_kisti/학습데이터/v12(분류,이상치제거)/edge_test_v12_label10.pkl'\n",
    "        self.test_node_file_path = f'/home/work/kdg_folder/work_kisti/학습데이터/v12(분류,이상치제거)/node_test_v12_label10.pkl'  \n",
    "        self.label_col=19      \n",
    "        self.batch_size=1\n",
    "        self.in_dim=19\n",
    "        self.h_dim=256\n",
    "        self.num_layers=6\n",
    "        self.out_dim=1\n"
   ]
  },
  {
   "cell_type": "code",
   "execution_count": 45,
   "metadata": {},
   "outputs": [],
   "source": [
    "# import pandas as pd\n",
    "# edges = {}\n",
    "# nodes = {}\n",
    "# for i in range(3):\n",
    "#     cfg=config(i)\n",
    "#     edge_file_path = cfg.train_edge_file_path\n",
    "#     node_file_path = cfg.train_node_file_path\n",
    "    \n",
    "#     edges[f'edge{i}'] = pd.read_csv(edge_file_path)\n",
    "#     nodes[f'node{i}'] = pd.read_csv(node_file_path)\n",
    "#     edges[f'edge{i}'].to_pickle(f'/home/work/kdg_folder/work_kisti/학습데이터/양방향,edgeattr/edge_train_{i+1}_v7.pkl')\n",
    "#     nodes[f'node{i}'].to_pickle(f'/home/work/kdg_folder/work_kisti/학습데이터/양방향,edgeattr/node_train_{i+1}_v7.pkl')\n",
    "    "
   ]
  },
  {
   "cell_type": "code",
   "execution_count": 46,
   "metadata": {},
   "outputs": [],
   "source": [
    "# import pandas as pd\n",
    "# testedges = {}\n",
    "# testnodes = {}\n",
    "# testlabels = {}\n",
    "\n",
    "# for i in range(1):\n",
    "#     edge_file_path = cfg.test_edge_file_path\n",
    "#     node_file_path = cfg.test_node_file_path\n",
    "    \n",
    "#     testedges[f'edge{i}'] = pd.read_csv(edge_file_path)\n",
    "#     testnodes[f'node{i}'] = pd.read_csv(node_file_path)\n",
    "\n",
    "#     testedges[f'edge{i}'].to_pickle(f'/home/work/kdg_folder/work_kisti/학습데이터/양방향,edgeattr/edge_test_v7.pkl')\n",
    "#     testnodes[f'node{i}'].to_pickle(f'/home/work/kdg_folder/work_kisti/학습데이터/양방향,edgeattr/node_test_v7.pkl')\n",
    "    "
   ]
  },
  {
   "cell_type": "code",
   "execution_count": 13,
   "metadata": {},
   "outputs": [],
   "source": [
    "#train\n",
    "import pandas as pd\n",
    "\n",
    "def train_dic():\n",
    "\n",
    "# 딕셔너리를 사용하여 edge 데이터를 저장\n",
    "    edges = {}\n",
    "    edges_attr = {}\n",
    "    nodes = {}\n",
    "    labels = {}\n",
    "\n",
    "    for i in range(2,3):\n",
    "        cfg=config(i)\n",
    "        edge_file_path = cfg.train_edge_file_path\n",
    "        node_file_path = cfg.train_node_file_path\n",
    "        print(edge_file_path)\n",
    "        print(node_file_path)    \n",
    "        edges[f'edge{i}'] = pd.read_pickle(edge_file_path)\n",
    "        nodes[f'node{i}'] = pd.read_pickle(node_file_path)\n",
    "        \n",
    "        labels[f'label{i}'] = pd.DataFrame(nodes[f'node{i}'].iloc[:,cfg.label_col])\n",
    "        nodes[f'node{i}'] = nodes[f'node{i}'].iloc[:,:cfg.label_col]\n",
    "        \n",
    "        # edges_attr[f'edge_attr{i}'] = pd.DataFrame(edges[f'edge{i}'].iloc[2,:])\n",
    "        edges[f'edge{i}'] = edges[f'edge{i}'].iloc[:2,:]\n",
    "    return edges, edges_attr, nodes, labels"
   ]
  },
  {
   "cell_type": "code",
   "execution_count": 14,
   "metadata": {},
   "outputs": [
    {
     "name": "stdout",
     "output_type": "stream",
     "text": [
      "/home/work/kdg_folder/work_kisti/학습데이터/v12(분류,이상치제거)/edge_train_3_v12_label10.pkl\n",
      "/home/work/kdg_folder/work_kisti/학습데이터/v12(분류,이상치제거)/node_train_3_v12_label10.pkl\n"
     ]
    }
   ],
   "source": [
    "edges, edges_attr, nodes, labels = train_dic()"
   ]
  },
  {
   "cell_type": "markdown",
   "metadata": {},
   "source": [
    "# 그래프 1개 추론용"
   ]
  },
  {
   "cell_type": "code",
   "execution_count": 15,
   "metadata": {},
   "outputs": [],
   "source": [
    "#test\n",
    "import pandas as pd\n",
    "\n",
    "# 딕셔너리를 사용하여 edge 데이터를 저장\n",
    "\n",
    "def test_dic():\n",
    "\n",
    "    testedges = {}\n",
    "    testedges_attr={}\n",
    "    testnodes = {}\n",
    "    testlabels = {}\n",
    "\n",
    "    for i in range(1):\n",
    "        cfg=config(i)\n",
    "        edge_file_path = cfg.test_edge_file_path\n",
    "        node_file_path = cfg.test_node_file_path\n",
    "        print(edge_file_path)\n",
    "        print(node_file_path)\n",
    "        \n",
    "        testedges[f'edge{i}'] = pd.read_pickle(edge_file_path)\n",
    "        testnodes[f'node{i}'] = pd.read_pickle(node_file_path)\n",
    "        \n",
    "        testlabels[f'label{i}'] = pd.DataFrame(testnodes[f'node{i}'].iloc[:,cfg.label_col])\n",
    "        testnodes[f'node{i}'] = testnodes[f'node{i}'].iloc[:,:cfg.label_col]\n",
    "        \n",
    "        # testedges_attr[f'edge_attr{i}'] = pd.DataFrame(testedges[f'edge{i}'].iloc[2,:])\n",
    "        testedges[f'edge{i}'] = testedges[f'edge{i}'].iloc[:2,:]\n",
    "    return testedges,testedges_attr,testnodes,testlabels"
   ]
  },
  {
   "cell_type": "code",
   "execution_count": 16,
   "metadata": {},
   "outputs": [
    {
     "name": "stdout",
     "output_type": "stream",
     "text": [
      "/home/work/kdg_folder/work_kisti/학습데이터/v12(분류,이상치제거)/edge_test_v12_label10.pkl\n",
      "/home/work/kdg_folder/work_kisti/학습데이터/v12(분류,이상치제거)/node_test_v12_label10.pkl\n"
     ]
    }
   ],
   "source": [
    "testedges,testedges_attr,testnodes,testlabels = test_dic()"
   ]
  },
  {
   "cell_type": "markdown",
   "metadata": {},
   "source": [
    "\n",
    "# 2021 그래프 추론용"
   ]
  },
  {
   "cell_type": "code",
   "execution_count": 17,
   "metadata": {},
   "outputs": [],
   "source": [
    "# #test\n",
    "# import pandas as pd\n",
    "\n",
    "# # 딕셔너리를 사용하여 edge 데이터를 저장\n",
    "# testedges = {}\n",
    "# testedges_attr={}\n",
    "# testnodes = {}\n",
    "# testlabels = {}\n",
    "\n",
    "# for i in range(1):\n",
    "#     edge_file_path = cfg.test_edge_file_path\n",
    "#     node_file_path = cfg.test_node_file_path\n",
    "    \n",
    "#     testedges[f'edge{i}'] = pd.read_pickle(edge_file_path)\n",
    "#     testnodes[f'node{i}'] = pd.read_pickle(node_file_path)\n",
    "    \n",
    "#     testlabels[f'label{i}'] = pd.DataFrame(testnodes[f'node{i}'].iloc[:,cfg.label_col])\n",
    "#     testnodes[f'node{i}'] = testnodes[f'node{i}'].iloc[:,:cfg.label_col]\n",
    "    \n",
    "#     testedges_attr[f'edge_attr{i}'] = pd.DataFrame(testedges[f'edge{i}'].iloc[2,:])\n",
    "#     testedges[f'edge{i}'] = testedges[f'edge{i}'].iloc[:2,:]"
   ]
  },
  {
   "cell_type": "code",
   "execution_count": 18,
   "metadata": {},
   "outputs": [],
   "source": [
    "for i in range(2,3):\n",
    "    edges[f'edge{i}'] = edges[f'edge{i}'].values\n",
    "    edges[f'edge{i}'] = torch.from_numpy(edges[f'edge{i}']).long()\n",
    "\n",
    "    nodes[f'node{i}'] = nodes[f'node{i}'].values\n",
    "    nodes[f'node{i}'] = torch.from_numpy(nodes[f'node{i}']).float()\n",
    "    \n",
    "    labels[f'label{i}'] = labels[f'label{i}'].values\n",
    "    labels[f'label{i}'] = torch.from_numpy(labels[f'label{i}']).float()  \n",
    "    \n",
    "    # edges_attr[f'edge_attr{i}'] = edges_attr[f'edge_attr{i}'].values\n",
    "    # edges_attr[f'edge_attr{i}'] = torch.from_numpy(edges_attr[f'edge_attr{i}']).float()  \n",
    "\n",
    "\n",
    "\n",
    "for i in range(1):\n",
    "    testedges[f'edge{i}'] = testedges[f'edge{i}'].values\n",
    "    testedges[f'edge{i}'] = torch.from_numpy(testedges[f'edge{i}']).long()\n",
    "\n",
    "    testnodes[f'node{i}'] = testnodes[f'node{i}'].values\n",
    "    testnodes[f'node{i}'] = torch.from_numpy(testnodes[f'node{i}']).float()\n",
    "    \n",
    "    testlabels[f'label{i}'] = testlabels[f'label{i}'].values\n",
    "    testlabels[f'label{i}'] = torch.from_numpy(testlabels[f'label{i}']).float()\n",
    "      \n",
    "    # testedges_attr[f'edge_attr{i}'] = testedges_attr[f'edge_attr{i}'].values\n",
    "    # testedges_attr[f'edge_attr{i}'] = torch.from_numpy(testedges_attr[f'edge_attr{i}']).float()     "
   ]
  },
  {
   "cell_type": "code",
   "execution_count": 23,
   "metadata": {},
   "outputs": [
    {
     "name": "stdout",
     "output_type": "stream",
     "text": [
      "torch.Size([14667, 1])\n",
      "torch.Size([9951, 1])\n"
     ]
    }
   ],
   "source": [
    "print(labels['label2'].size())\n",
    "print(testlabels['label0'].size())"
   ]
  },
  {
   "cell_type": "code",
   "execution_count": 24,
   "metadata": {},
   "outputs": [
    {
     "name": "stdout",
     "output_type": "stream",
     "text": [
      "torch.int64\n",
      "torch.float32\n",
      "torch.float32\n"
     ]
    }
   ],
   "source": [
    "for i in range(2,3):\n",
    "    print(edges[f'edge{i}'].dtype)\n",
    "    print(nodes[f'node{i}'].dtype)\n",
    "    print(labels[f'label{i}'].dtype)\n",
    "    # print(edges_attr[f'edge_attr{i}'].dtype)\n",
    "    \n",
    "    "
   ]
  },
  {
   "cell_type": "code",
   "execution_count": null,
   "metadata": {
    "colab": {
     "base_uri": "https://localhost:8080/"
    },
    "executionInfo": {
     "elapsed": 2,
     "status": "ok",
     "timestamp": 1715666793266,
     "user": {
      "displayName": "김대건",
      "userId": "14940767608385150906"
     },
     "user_tz": -540
    },
    "id": "b55JKcU0i_LM",
    "outputId": "b5f2659f-661b-4203-de21-8b8c0deed723"
   },
   "outputs": [],
   "source": [
    "# print(edge_tensor.size())\n",
    "# print(node_tensor.size())\n",
    "# print(label_tensor.size())\n",
    "# print(edge_tensor.dtype)\n",
    "# print(node_tensor.dtype)\n",
    "# print(label_tensor.dtype)"
   ]
  },
  {
   "cell_type": "markdown",
   "metadata": {},
   "source": [
    "# train data 리스트에 담기"
   ]
  },
  {
   "cell_type": "code",
   "execution_count": 25,
   "metadata": {},
   "outputs": [
    {
     "name": "stderr",
     "output_type": "stream",
     "text": [
      "/home/work/anaconda3/envs/main/lib/python3.10/site-packages/tqdm/auto.py:21: TqdmWarning: IProgress not found. Please update jupyter and ipywidgets. See https://ipywidgets.readthedocs.io/en/stable/user_install.html\n",
      "  from .autonotebook import tqdm as notebook_tqdm\n"
     ]
    }
   ],
   "source": [
    "import torch_geometric\n",
    "from torch_geometric.data import Data\n",
    "\n",
    "def uselst():\n",
    "\n",
    "    lst=[]\n",
    "\n",
    "    for i in range(2,3):\n",
    "        lst.append(Data(x=nodes[f'node{i}'], edge_index=edges[f'edge{i}'],  y=labels[f'label{i}']))\n",
    "\n",
    "    testlst=[] \n",
    "    for i in range(1):\n",
    "        testlst.append(Data(x=testnodes[f'node{i}'], edge_index=testedges[f'edge{i}'], y=testlabels[f'label{i}']))    \n",
    "\n",
    "    return lst, testlst\n",
    "    "
   ]
  },
  {
   "cell_type": "code",
   "execution_count": 26,
   "metadata": {},
   "outputs": [],
   "source": [
    "lst, testlst = uselst()"
   ]
  },
  {
   "cell_type": "code",
   "execution_count": 27,
   "metadata": {},
   "outputs": [
    {
     "name": "stdout",
     "output_type": "stream",
     "text": [
      "[Data(x=[14667, 19], edge_index=[2, 47418], y=[14667, 1])]\n",
      "None\n",
      "[Data(x=[9951, 19], edge_index=[2, 28507], y=[9951, 1])]\n",
      "None\n"
     ]
    }
   ],
   "source": [
    "print(lst)\n",
    "print(lst[0].edge_attr)\n",
    "print(testlst)\n",
    "print(testlst[0].edge_attr)"
   ]
  },
  {
   "cell_type": "code",
   "execution_count": 28,
   "metadata": {
    "executionInfo": {
     "elapsed": 1389,
     "status": "ok",
     "timestamp": 1715667253271,
     "user": {
      "displayName": "김대건",
      "userId": "14940767608385150906"
     },
     "user_tz": -540
    },
    "id": "Ov3Ie6o6oevE"
   },
   "outputs": [],
   "source": [
    "from torch_geometric.data import Batch\n",
    "from torch_geometric.loader import DataLoader, NeighborLoader\n",
    "\n",
    "# train_data = Batch.from_data_list(lst)\n",
    "# test_loader = NeighborLoader(testlst, batch_size=512, shuffle=True, num_neighbors=[20, 10], num_workers=2, persistent_workers=True)\n",
    "\n",
    "# train_loader = NeighborLoader(train_data, batch_size=512, shuffle=True, num_neighbors=[20, 10], num_workers=2, persistent_workers=True)\n",
    "# val_loader = DataLoader(val_dataset, batch_size=2)\n",
    "\n",
    "# train_loader = DataLoader(Batch.from_data_list(lst), batch_size=8, shuffle=True)\n",
    "# test_loader = DataLoader(Batch.from_data_list(testlst), batch_size=8, shuffle=False)\n",
    "\n",
    "\n",
    "from torch_geometric.data import Batch\n",
    "from torch_geometric.loader import DataLoader, NeighborLoader\n",
    "train_loader = DataLoader(lst, batch_size=1,shuffle=True)\n",
    "test_loader = DataLoader(testlst, batch_size=1, shuffle=False)\n",
    "\n",
    "\n",
    "# train_loader = NeighborLoader(Batch.from_data_list(lst), batch_size=1024, shuffle=True, num_neighbors=[30, 30], num_workers=2, persistent_workers=True)\n",
    "# test_loader = NeighborLoader(Batch.from_data_list(testlst), batch_size=1024, shuffle=False, num_neighbors=[30, 30], num_workers=2, persistent_workers=True)"
   ]
  },
  {
   "cell_type": "markdown",
   "metadata": {},
   "source": [
    "## PPI"
   ]
  },
  {
   "cell_type": "code",
   "execution_count": null,
   "metadata": {},
   "outputs": [],
   "source": [
    "# from torch_geometric.datasets import PPI\n",
    "# train_dataset = PPI(root=\".\", split='train')\n",
    "# val_dataset = PPI(root=\".\", split='val')\n",
    "# test_dataset = PPI(root=\".\", split='test')\n",
    " \n",
    "# from torch_geometric.data import Batch\n",
    "# from torch_geometric.loader import DataLoader, NeighborLoader\n",
    " \n",
    "\n",
    "# import torch_geometric\n",
    "# from torch_geometric.data import Data\n",
    "# lst=[]\n",
    "# for i in range(20):\n",
    "#     lst.append(Data(x=train_dataset[i].x, edge_index=train_dataset[i].edge_index, y=train_dataset[i].y[:,0].unsqueeze(1)))\n",
    "\n",
    "# test_dataset[1].y[:,0].unsqueeze(1)"
   ]
  },
  {
   "cell_type": "code",
   "execution_count": null,
   "metadata": {},
   "outputs": [],
   "source": [
    "# testdata1 = Data(x=test_dataset[0].x, edge_index=test_dataset[0].edge_index, y=test_dataset[0].y[:,0].unsqueeze(1))\n",
    "# testdata2 = Data(x=test_dataset[1].x, edge_index=test_dataset[1].edge_index, y=test_dataset[1].y[:,0].unsqueeze(1))\n"
   ]
  },
  {
   "cell_type": "code",
   "execution_count": null,
   "metadata": {},
   "outputs": [],
   "source": [
    "# train_loader = DataLoader(lst, batch_size=2)\n",
    "# test_loader = DataLoader([testdata1,testdata2], batch_size=2)"
   ]
  },
  {
   "cell_type": "code",
   "execution_count": null,
   "metadata": {},
   "outputs": [],
   "source": [
    "# train_data = Batch.from_data_list(lst)\n",
    "# train_loader = NeighborLoader(train_data, batch_size=2048, shuffle=True, num_neighbors=[20, 10], num_workers=2, persistent_workers=True)\n",
    "\n",
    "# test_data = Batch.from_data_list([testdata1,testdata2])\n",
    "# test_loader = NeighborLoader(test_data, batch_size=2048, shuffle=True, num_neighbors=[20, 10], num_workers=2, persistent_workers=True)"
   ]
  },
  {
   "cell_type": "markdown",
   "metadata": {},
   "source": [
    "# 모델 만들기 연습"
   ]
  },
  {
   "cell_type": "code",
   "execution_count": null,
   "metadata": {},
   "outputs": [],
   "source": [
    "# import torch\n",
    "# torch.manual_seed(-1)\n",
    "# import torch.nn.functional as F\n",
    "# from torch_geometric.nn import SAGEConv\n",
    "\n",
    "# from sklearn.metrics import f1_score\n",
    "\n",
    "# device = torch.device('cuda' if torch.cuda.is_available() else 'cpu')\n",
    "\n",
    "# class GraphSAGE(torch.nn.Module):\n",
    "    \n",
    "#     def __init__(self, dim_in, dim_h, dim_out):\n",
    "#         super().__init__()\n",
    "#         self.sage1 = SAGEConv(dim_in, dim_h)\n",
    "#         # self.sage2 = SAGEConv(dim_h, dim_h)\n",
    "#         self.sage3 = SAGEConv(dim_h, dim_out)\n",
    "        \n",
    "#     def forward(self, x, edge_index):\n",
    "#         h = self.sage1(x, edge_index)\n",
    "#         h = F.elu(h)\n",
    "#         h = F.dropout(h, p=0.6, training=True)\n",
    "#         # h = self.sage2(h,edge_index)\n",
    "#         # h = F.elu(h)\n",
    "#         h = self.sage3(h, edge_index)\n",
    "#         # h= F.sigmoid(h)\n",
    "\n",
    "#         return h"
   ]
  },
  {
   "cell_type": "code",
   "execution_count": null,
   "metadata": {},
   "outputs": [],
   "source": [
    "# import torch.nn.functional as F\n",
    "# from torch.nn import Linear, Dropout\n",
    "# from torch_geometric.nn import GCNConv, GATv2Conv\n",
    "# import torch\n",
    "# torch.manual_seed(-1)\n",
    "\n",
    "# from torch_geometric.nn import SAGEConv\n",
    "\n",
    "# from sklearn.metrics import f1_score\n",
    "\n",
    "# device = torch.device('cuda' if torch.cuda.is_available() else 'cpu')\n",
    "\n",
    "# class GAT(torch.nn.Module):\n",
    "#   \"\"\"Graph Attention Network\"\"\"\n",
    "#   def __init__(self, dim_in, dim_h, dim_out, heads=8):\n",
    "#     super().__init__()\n",
    "#     self.gat1 = GATv2Conv(dim_in, dim_h, heads=heads)\n",
    "#     self.gat2 = GATv2Conv(dim_h*heads, dim_out, heads=1)\n",
    "# #     self.gat3 = GATv2Conv(dim_h*heads, dim_h, heads=heads)\n",
    "# #     self.gat4 = GATv2Conv(dim_h*heads, dim_h, heads=heads)\n",
    "# #     self.gat5 = GATv2Conv(dim_h*heads, dim_out, heads=heads)\n",
    "\n",
    "\n",
    "#   def forward(self, data):\n",
    "#     h = self.gat1(x = data.x, edge_index= data.edge_index, edge_attr=data.edge_attr)\n",
    "#     # h = F.dropout(h, p=0.5, training=self.training)\n",
    "#     h = F.elu(h)\n",
    "#     h = self.gat2(x = h, edge_index= data.edge_index, edge_attr=data.edge_attr)\n",
    "# #     h = F.elu(h)\n",
    "# #     h = self.gat3(x = h, edge_index= data.edge_index, edge_attr=data.edge_attr)\n",
    "# #     h = F.elu(h)\n",
    "# #     h = self.gat4(x = h, edge_index= data.edge_index, edge_attr=data.edge_attr)\n",
    "# #     h = F.elu(h)\n",
    "# #     h = self.gat5(x = h, edge_index= data.edge_index, edge_attr=data.edge_attr)\n",
    "#     return h\n",
    "# device = torch.device('cuda' if torch.cuda.is_available() else 'cpu')\n",
    "# model= GAT(dim_h=cfg.h_dim,dim_in=cfg.in_dim,dim_out=cfg.out_dim,heads=12).to(device)"
   ]
  },
  {
   "cell_type": "markdown",
   "metadata": {},
   "source": [
    "# 모델 커스터마이징"
   ]
  },
  {
   "cell_type": "code",
   "execution_count": null,
   "metadata": {},
   "outputs": [],
   "source": [
    "from torch_geometric.nn import GIN, GAT,GraphSAGE\n",
    "\n",
    "import torch\n",
    "torch.manual_seed(-1)\n",
    "import torch.nn.functional as F\n",
    "from torch_geometric.nn import SAGEConv\n",
    "import torch.nn as nn\n",
    "from sklearn.metrics import f1_score, accuracy_score\n",
    "from torch_geometric.nn import GIN, GAT\n",
    "cfg = config(1)\n",
    "\n",
    "class customGraphSAGE(torch.nn.Module):\n",
    "    \n",
    "    def __init__(self, in_channels, hidden_channels, num_layers,out_channels):\n",
    "        super(customGraphSAGE,self).__init__()\n",
    "        self.sage = GraphSAGE(in_channels=in_channels,hidden_channels=hidden_channels,num_layers=num_layers,out_channels=out_channels)\n",
    "        # self.fc1 = nn.Linear(out_channels,out_channels)\n",
    "    def forward(self,data):\n",
    "        sage_output = self.sage(x = data.x, edge_index= data.edge_index)\n",
    "        # x = torch.relu(sage_output)\n",
    "        # x = self.fc1(x)\n",
    "        return sage_output\n",
    "    \n",
    "device = torch.device('cuda' if torch.cuda.is_available() else 'cpu')\n",
    "# model = customGAT(in_channels=cfg.in_dim,hidden_channels=cfg.h_dim,num_layers=cfg.num_layers,out_channels=cfg.out_dim).to(device)\n",
    "# model = customGAT(in_channels=50,hidden_channels=512,num_layers=cfg.num_layers,out_channels=cfg.out_dim).to(device)\n",
    "model = customGraphSAGE(in_channels=cfg.in_dim,hidden_channels=512,num_layers=3,out_channels=cfg.out_dim).to(device)"
   ]
  },
  {
   "cell_type": "code",
   "execution_count": 35,
   "metadata": {},
   "outputs": [],
   "source": [
    "import torch\n",
    "torch.manual_seed(-1)\n",
    "import torch.nn.functional as F\n",
    "from torch_geometric.nn import SAGEConv\n",
    "import torch.nn as nn\n",
    "from sklearn.metrics import f1_score, accuracy_score,recall_score, precision_score\n",
    "from torch_geometric.nn import GIN, GAT\n",
    "cfg = config(1)\n",
    "class customGAT(torch.nn.Module):\n",
    "    \n",
    "    def __init__(self, in_channels, hidden_channels, num_layers,out_channels):\n",
    "        super(customGAT,self).__init__()\n",
    "        self.GAT = GAT(in_channels=in_channels,hidden_channels=hidden_channels,num_layers=num_layers,out_channels=out_channels)\n",
    "        # self.fc1 = nn.Linear(out_channels,out_channels)\n",
    "    def forward(self, data):\n",
    "        GAT_output = self.GAT(x = data.x, edge_index= data.edge_index, edge_attr=data.edge_attr)\n",
    "\n",
    "        # GAT_output = self.GAT(x = data.x, edge_index= data.edge_index)\n",
    "        # x = torch.relu(sage_output)\n",
    "        # x = self.fc1(x)\n",
    "        return GAT_output\n",
    "    \n",
    "device = torch.device('cuda' if torch.cuda.is_available() else 'cpu')\n",
    "model = customGAT(in_channels=cfg.in_dim,hidden_channels=cfg.h_dim,num_layers=cfg.num_layers,out_channels=cfg.out_dim).to(device)"
   ]
  },
  {
   "cell_type": "markdown",
   "metadata": {},
   "source": [
    "# 모델 output 확인"
   ]
  },
  {
   "cell_type": "code",
   "execution_count": null,
   "metadata": {},
   "outputs": [],
   "source": [
    "# m= model(lst[0].to(device))\n",
    "# print(sum(F.sigmoid(m)>0.5))\n",
    "\n",
    "# print(m.size())\n",
    "# print(sum(lst[0].y))"
   ]
  },
  {
   "cell_type": "markdown",
   "metadata": {},
   "source": [
    "# Train"
   ]
  },
  {
   "cell_type": "code",
   "execution_count": null,
   "metadata": {
    "executionInfo": {
     "elapsed": 1,
     "status": "ok",
     "timestamp": 1715667255258,
     "user": {
      "displayName": "김대건",
      "userId": "14940767608385150906"
     },
     "user_tz": -540
    },
    "id": "WZHyTnwDlhh-"
   },
   "outputs": [],
   "source": [
    "# def accuracy(pred_y, y):\n",
    "#     \"\"\"정확도 계산\"\"\"\n",
    "#     return ((pred_y == y).sum() / len(y)).item()\n",
    "\n",
    "\n",
    "# def train():\n",
    "#     model.train()\n",
    "\n",
    "#     total_loss = 0\n",
    "#     for data in train_loader:\n",
    "        \n",
    "#         data = data.to(device)\n",
    "#         optimizer.zero_grad()\n",
    "        \n",
    "#         out = model(data.x, data.edge_index)\n",
    "#         loss = criterion(out, data.y)\n",
    "#         # total_loss += loss.item() * data.num_graphs\n",
    "#         loss.backward()\n",
    "#         optimizer.step()\n",
    "        \n",
    "#     return total_loss / len(train_loader.dataset)\n",
    "\n",
    "\n",
    "\n",
    "# @torch.no_grad()\n",
    "# def test(loader):\n",
    "#     model.eval()\n",
    "    \n",
    "#     ys, preds = [], [] \n",
    "    \n",
    "#     for data in loader:\n",
    "        \n",
    "#         out = model(data.x.to(device), data.edge_index.to(device))\n",
    "#         out = torch.argmax(out, dim=1)\n",
    "#         preds.append((out > 0).float().cpu())\n",
    "        \n",
    "#         y, pred = torch.cat(ys, dim=0).numpy().squeeze(), torch.cat(preds, dim=0).numpy()\n",
    "#     print(y.sum(), pred.sum())\n",
    "    \n",
    "#     return f1_score(y, pred, average='micro') if pred.sum() > 0 else 0"
   ]
  },
  {
   "cell_type": "code",
   "execution_count": 37,
   "metadata": {},
   "outputs": [],
   "source": [
    "def train(loader):\n",
    "    \n",
    "    model.train()\n",
    "    total_loss = 0\n",
    "    \n",
    "    for i,data in enumerate(loader,0):\n",
    "        \n",
    "        data = data.to(device)\n",
    "        optimizer.zero_grad()\n",
    "        \n",
    "        out = model(data)\n",
    "        loss = criterion(out, data.y)\n",
    "        loss.backward()\n",
    "        optimizer.step()\n",
    "        \n",
    "        total_loss += loss.item()\n",
    "    \n",
    "    return total_loss/ len(loader)\n",
    "    \n",
    "\n",
    "def test(loader):\n",
    "    \n",
    "\n",
    "    model.eval()\n",
    "    predict = list()\n",
    "    actual = list()\n",
    "    with torch.no_grad():\n",
    "        for _, data in enumerate(loader,0):\n",
    "            data = data.to(device)\n",
    "            out = model(data)\n",
    "            loss2 = criterion(out, data.y)\n",
    "            \n",
    "            \n",
    "            m = nn.Sigmoid()\n",
    "            preds = (m(out)>0.5).float().cpu().numpy()\n",
    "            y = data.y.cpu().numpy()\n",
    "            \n",
    "            predict.append(preds)\n",
    "            actual.append(y)\n",
    "            \n",
    "    predictions, actuals = vstack(predict), vstack(actual)\n",
    "    acc = accuracy_score(actuals, predictions)\n",
    "    f1 = f1_score(actuals, predictions)\n",
    "    recall = recall_score(actuals, predictions)\n",
    "    precision = precision_score(actuals, predictions)\n",
    "\n",
    "            # total += sum(out==data.y)/len(data.y)\n",
    "            # print(sum(out==data.y)/len(data.y))\n",
    "            # cnt +=1\n",
    "    return acc ,f1,recall,precision"
   ]
  },
  {
   "cell_type": "code",
   "execution_count": 38,
   "metadata": {},
   "outputs": [
    {
     "ename": "NameError",
     "evalue": "name 'testedges' is not defined",
     "output_type": "error",
     "traceback": [
      "\u001b[0;31m---------------------------------------------------------------------------\u001b[0m",
      "\u001b[0;31mNameError\u001b[0m                                 Traceback (most recent call last)",
      "Cell \u001b[0;32mIn[38], line 1\u001b[0m\n\u001b[0;32m----> 1\u001b[0m \u001b[38;5;28;01mdel\u001b[39;00m testedges\n\u001b[1;32m      2\u001b[0m \u001b[38;5;28;01mdel\u001b[39;00m testedges_attr\n\u001b[1;32m      3\u001b[0m \u001b[38;5;28;01mdel\u001b[39;00m testnodes\n",
      "\u001b[0;31mNameError\u001b[0m: name 'testedges' is not defined"
     ]
    }
   ],
   "source": [
    "del testedges\n",
    "del testedges_attr\n",
    "del testnodes\n",
    "del testlabels\n",
    "\n",
    "\n",
    "del edges\n",
    "del edges_attr\n",
    "del nodes\n",
    "del labels\n",
    "\n",
    "del lst\n",
    "del testlst"
   ]
  },
  {
   "cell_type": "code",
   "execution_count": 39,
   "metadata": {},
   "outputs": [
    {
     "name": "stderr",
     "output_type": "stream",
     "text": [
      "  0%|          | 2/2000 [00:00<02:11, 15.23it/s]"
     ]
    },
    {
     "name": "stdout",
     "output_type": "stream",
     "text": [
      "Train Loss: 0.693 | Acc: 0.500 | f1: 0.557| recall: 0.673 | precision: 0.475 \n",
      "Best_f1_epoch: 0.000|  Best_epoch: 0.000 | Best Acc: 0.500 |Best f1: 0.557 \n",
      "best_recall: 0.673|  best_precision: 0.475\n"
     ]
    },
    {
     "name": "stderr",
     "output_type": "stream",
     "text": [
      "  3%|▎         | 54/2000 [00:03<01:41, 19.13it/s]"
     ]
    },
    {
     "name": "stdout",
     "output_type": "stream",
     "text": [
      "Train Loss: 0.672 | Acc: 0.525 | f1: 0.518| recall: 0.548 | precision: 0.492 \n",
      "Best_f1_epoch: 0.000|  Best_epoch: 22.000 | Best Acc: 0.542 |Best f1: 0.557 \n",
      "best_recall: 0.673|  best_precision: 0.530\n"
     ]
    },
    {
     "name": "stderr",
     "output_type": "stream",
     "text": [
      "  5%|▌         | 104/2000 [00:05<01:37, 19.43it/s]"
     ]
    },
    {
     "name": "stdout",
     "output_type": "stream",
     "text": [
      "Train Loss: 0.662 | Acc: 0.522 | f1: 0.490| recall: 0.492 | precision: 0.488 \n",
      "Best_f1_epoch: 0.000|  Best_epoch: 22.000 | Best Acc: 0.542 |Best f1: 0.557 \n",
      "best_recall: 0.673|  best_precision: 0.530\n"
     ]
    },
    {
     "name": "stderr",
     "output_type": "stream",
     "text": [
      "  8%|▊         | 154/2000 [00:08<01:37, 19.03it/s]"
     ]
    },
    {
     "name": "stdout",
     "output_type": "stream",
     "text": [
      "Train Loss: 0.654 | Acc: 0.511 | f1: 0.544| recall: 0.625 | precision: 0.482 \n",
      "Best_f1_epoch: 137.000|  Best_epoch: 22.000 | Best Acc: 0.542 |Best f1: 0.559 \n",
      "best_recall: 0.673|  best_precision: 0.530\n"
     ]
    },
    {
     "name": "stderr",
     "output_type": "stream",
     "text": [
      " 10%|█         | 204/2000 [00:11<01:36, 18.57it/s]"
     ]
    },
    {
     "name": "stdout",
     "output_type": "stream",
     "text": [
      "Train Loss: 0.644 | Acc: 0.498 | f1: 0.551| recall: 0.660 | precision: 0.473 \n",
      "Best_f1_epoch: 162.000|  Best_epoch: 22.000 | Best Acc: 0.542 |Best f1: 0.599 \n",
      "best_recall: 0.822|  best_precision: 0.530\n"
     ]
    },
    {
     "name": "stderr",
     "output_type": "stream",
     "text": [
      " 13%|█▎        | 254/2000 [00:13<01:30, 19.34it/s]"
     ]
    },
    {
     "name": "stdout",
     "output_type": "stream",
     "text": [
      "Train Loss: 0.619 | Acc: 0.504 | f1: 0.483| recall: 0.495 | precision: 0.471 \n",
      "Best_f1_epoch: 162.000|  Best_epoch: 22.000 | Best Acc: 0.542 |Best f1: 0.599 \n",
      "best_recall: 0.822|  best_precision: 0.530\n"
     ]
    },
    {
     "name": "stderr",
     "output_type": "stream",
     "text": [
      " 15%|█▌        | 304/2000 [00:16<01:26, 19.54it/s]"
     ]
    },
    {
     "name": "stdout",
     "output_type": "stream",
     "text": [
      "Train Loss: 0.614 | Acc: 0.509 | f1: 0.471| recall: 0.468 | precision: 0.474 \n",
      "Best_f1_epoch: 162.000|  Best_epoch: 22.000 | Best Acc: 0.542 |Best f1: 0.599 \n",
      "best_recall: 0.822|  best_precision: 0.530\n"
     ]
    },
    {
     "name": "stderr",
     "output_type": "stream",
     "text": [
      " 18%|█▊        | 354/2000 [00:18<01:27, 18.90it/s]"
     ]
    },
    {
     "name": "stdout",
     "output_type": "stream",
     "text": [
      "Train Loss: 0.609 | Acc: 0.509 | f1: 0.475| recall: 0.475 | precision: 0.474 \n",
      "Best_f1_epoch: 162.000|  Best_epoch: 22.000 | Best Acc: 0.542 |Best f1: 0.599 \n",
      "best_recall: 0.822|  best_precision: 0.530\n"
     ]
    },
    {
     "name": "stderr",
     "output_type": "stream",
     "text": [
      " 20%|██        | 404/2000 [00:21<01:25, 18.59it/s]"
     ]
    },
    {
     "name": "stdout",
     "output_type": "stream",
     "text": [
      "Train Loss: 0.613 | Acc: 0.517 | f1: 0.435| recall: 0.399 | precision: 0.479 \n",
      "Best_f1_epoch: 354.000|  Best_epoch: 22.000 | Best Acc: 0.542 |Best f1: 0.629 \n",
      "best_recall: 0.963|  best_precision: 0.530\n"
     ]
    },
    {
     "name": "stderr",
     "output_type": "stream",
     "text": [
      " 23%|██▎       | 454/2000 [00:24<01:19, 19.36it/s]"
     ]
    },
    {
     "name": "stdout",
     "output_type": "stream",
     "text": [
      "Train Loss: 0.595 | Acc: 0.509 | f1: 0.474| recall: 0.473 | precision: 0.474 \n",
      "Best_f1_epoch: 354.000|  Best_epoch: 22.000 | Best Acc: 0.542 |Best f1: 0.629 \n",
      "best_recall: 0.963|  best_precision: 0.530\n"
     ]
    },
    {
     "name": "stderr",
     "output_type": "stream",
     "text": [
      " 25%|██▌       | 504/2000 [00:26<01:16, 19.53it/s]"
     ]
    },
    {
     "name": "stdout",
     "output_type": "stream",
     "text": [
      "Train Loss: 0.592 | Acc: 0.509 | f1: 0.471| recall: 0.468 | precision: 0.474 \n",
      "Best_f1_epoch: 354.000|  Best_epoch: 22.000 | Best Acc: 0.542 |Best f1: 0.629 \n",
      "best_recall: 0.963|  best_precision: 0.530\n"
     ]
    },
    {
     "name": "stderr",
     "output_type": "stream",
     "text": [
      " 28%|██▊       | 554/2000 [00:29<01:14, 19.46it/s]"
     ]
    },
    {
     "name": "stdout",
     "output_type": "stream",
     "text": [
      "Train Loss: 0.588 | Acc: 0.509 | f1: 0.469| recall: 0.464 | precision: 0.474 \n",
      "Best_f1_epoch: 354.000|  Best_epoch: 22.000 | Best Acc: 0.542 |Best f1: 0.629 \n",
      "best_recall: 0.963|  best_precision: 0.530\n"
     ]
    },
    {
     "name": "stderr",
     "output_type": "stream",
     "text": [
      " 30%|███       | 604/2000 [00:32<01:16, 18.26it/s]"
     ]
    },
    {
     "name": "stdout",
     "output_type": "stream",
     "text": [
      "Train Loss: 0.592 | Acc: 0.492 | f1: 0.557| recall: 0.683 | precision: 0.470 \n",
      "Best_f1_epoch: 354.000|  Best_epoch: 22.000 | Best Acc: 0.542 |Best f1: 0.629 \n",
      "best_recall: 0.963|  best_precision: 0.530\n"
     ]
    },
    {
     "name": "stderr",
     "output_type": "stream",
     "text": [
      " 33%|███▎      | 654/2000 [00:34<01:10, 19.08it/s]"
     ]
    },
    {
     "name": "stdout",
     "output_type": "stream",
     "text": [
      "Train Loss: 0.570 | Acc: 0.507 | f1: 0.464| recall: 0.456 | precision: 0.471 \n",
      "Best_f1_epoch: 354.000|  Best_epoch: 22.000 | Best Acc: 0.542 |Best f1: 0.629 \n",
      "best_recall: 0.963|  best_precision: 0.530\n"
     ]
    },
    {
     "name": "stderr",
     "output_type": "stream",
     "text": [
      " 35%|███▌      | 704/2000 [00:37<01:07, 19.07it/s]"
     ]
    },
    {
     "name": "stdout",
     "output_type": "stream",
     "text": [
      "Train Loss: 0.566 | Acc: 0.506 | f1: 0.469| recall: 0.467 | precision: 0.470 \n",
      "Best_f1_epoch: 354.000|  Best_epoch: 22.000 | Best Acc: 0.542 |Best f1: 0.629 \n",
      "best_recall: 0.963|  best_precision: 0.530\n"
     ]
    },
    {
     "name": "stderr",
     "output_type": "stream",
     "text": [
      " 38%|███▊      | 754/2000 [00:39<01:05, 19.08it/s]"
     ]
    },
    {
     "name": "stdout",
     "output_type": "stream",
     "text": [
      "Train Loss: 0.562 | Acc: 0.506 | f1: 0.459| recall: 0.448 | precision: 0.470 \n",
      "Best_f1_epoch: 354.000|  Best_epoch: 22.000 | Best Acc: 0.542 |Best f1: 0.629 \n",
      "best_recall: 0.963|  best_precision: 0.530\n"
     ]
    },
    {
     "name": "stderr",
     "output_type": "stream",
     "text": [
      " 40%|████      | 804/2000 [00:42<01:04, 18.67it/s]"
     ]
    },
    {
     "name": "stdout",
     "output_type": "stream",
     "text": [
      "Train Loss: 0.586 | Acc: 0.521 | f1: 0.362| recall: 0.291 | precision: 0.478 \n",
      "Best_f1_epoch: 354.000|  Best_epoch: 22.000 | Best Acc: 0.542 |Best f1: 0.629 \n",
      "best_recall: 0.963|  best_precision: 0.530\n"
     ]
    },
    {
     "name": "stderr",
     "output_type": "stream",
     "text": [
      " 43%|████▎     | 854/2000 [00:45<00:58, 19.47it/s]"
     ]
    },
    {
     "name": "stdout",
     "output_type": "stream",
     "text": [
      "Train Loss: 0.542 | Acc: 0.506 | f1: 0.474| recall: 0.477 | precision: 0.471 \n",
      "Best_f1_epoch: 354.000|  Best_epoch: 22.000 | Best Acc: 0.542 |Best f1: 0.629 \n",
      "best_recall: 0.963|  best_precision: 0.530\n"
     ]
    },
    {
     "name": "stderr",
     "output_type": "stream",
     "text": [
      " 45%|████▌     | 904/2000 [00:47<00:56, 19.40it/s]"
     ]
    },
    {
     "name": "stdout",
     "output_type": "stream",
     "text": [
      "Train Loss: 0.538 | Acc: 0.507 | f1: 0.471| recall: 0.471 | precision: 0.471 \n",
      "Best_f1_epoch: 354.000|  Best_epoch: 22.000 | Best Acc: 0.542 |Best f1: 0.629 \n",
      "best_recall: 0.963|  best_precision: 0.530\n"
     ]
    },
    {
     "name": "stderr",
     "output_type": "stream",
     "text": [
      " 48%|████▊     | 954/2000 [00:50<00:53, 19.45it/s]"
     ]
    },
    {
     "name": "stdout",
     "output_type": "stream",
     "text": [
      "Train Loss: 0.534 | Acc: 0.508 | f1: 0.465| recall: 0.458 | precision: 0.472 \n",
      "Best_f1_epoch: 354.000|  Best_epoch: 22.000 | Best Acc: 0.542 |Best f1: 0.629 \n",
      "best_recall: 0.963|  best_precision: 0.530\n"
     ]
    },
    {
     "name": "stderr",
     "output_type": "stream",
     "text": [
      " 50%|█████     | 1004/2000 [00:53<00:53, 18.51it/s]"
     ]
    },
    {
     "name": "stdout",
     "output_type": "stream",
     "text": [
      "Train Loss: 0.546 | Acc: 0.497 | f1: 0.548| recall: 0.653 | precision: 0.472 \n",
      "Best_f1_epoch: 354.000|  Best_epoch: 22.000 | Best Acc: 0.542 |Best f1: 0.629 \n",
      "best_recall: 0.963|  best_precision: 0.530\n"
     ]
    },
    {
     "name": "stderr",
     "output_type": "stream",
     "text": [
      " 53%|█████▎    | 1054/2000 [00:55<00:48, 19.35it/s]"
     ]
    },
    {
     "name": "stdout",
     "output_type": "stream",
     "text": [
      "Train Loss: 0.513 | Acc: 0.504 | f1: 0.472| recall: 0.475 | precision: 0.469 \n",
      "Best_f1_epoch: 354.000|  Best_epoch: 22.000 | Best Acc: 0.542 |Best f1: 0.629 \n",
      "best_recall: 0.963|  best_precision: 0.530\n"
     ]
    },
    {
     "name": "stderr",
     "output_type": "stream",
     "text": [
      " 55%|█████▌    | 1104/2000 [00:58<00:46, 19.37it/s]"
     ]
    },
    {
     "name": "stdout",
     "output_type": "stream",
     "text": [
      "Train Loss: 0.508 | Acc: 0.505 | f1: 0.467| recall: 0.465 | precision: 0.469 \n",
      "Best_f1_epoch: 354.000|  Best_epoch: 22.000 | Best Acc: 0.542 |Best f1: 0.629 \n",
      "best_recall: 0.963|  best_precision: 0.530\n"
     ]
    },
    {
     "name": "stderr",
     "output_type": "stream",
     "text": [
      " 58%|█████▊    | 1154/2000 [01:00<00:46, 18.06it/s]"
     ]
    },
    {
     "name": "stdout",
     "output_type": "stream",
     "text": [
      "Train Loss: 0.505 | Acc: 0.501 | f1: 0.475| recall: 0.483 | precision: 0.467 \n",
      "Best_f1_epoch: 354.000|  Best_epoch: 22.000 | Best Acc: 0.542 |Best f1: 0.629 \n",
      "best_recall: 0.963|  best_precision: 0.530\n"
     ]
    },
    {
     "name": "stderr",
     "output_type": "stream",
     "text": [
      " 60%|██████    | 1204/2000 [01:03<00:42, 18.86it/s]"
     ]
    },
    {
     "name": "stdout",
     "output_type": "stream",
     "text": [
      "Train Loss: 0.536 | Acc: 0.497 | f1: 0.533| recall: 0.614 | precision: 0.471 \n",
      "Best_f1_epoch: 354.000|  Best_epoch: 22.000 | Best Acc: 0.542 |Best f1: 0.629 \n",
      "best_recall: 0.963|  best_precision: 0.530\n"
     ]
    },
    {
     "name": "stderr",
     "output_type": "stream",
     "text": [
      " 63%|██████▎   | 1254/2000 [01:06<00:42, 17.65it/s]"
     ]
    },
    {
     "name": "stdout",
     "output_type": "stream",
     "text": [
      "Train Loss: 0.484 | Acc: 0.504 | f1: 0.460| recall: 0.453 | precision: 0.467 \n",
      "Best_f1_epoch: 354.000|  Best_epoch: 22.000 | Best Acc: 0.542 |Best f1: 0.629 \n",
      "best_recall: 0.963|  best_precision: 0.530\n"
     ]
    },
    {
     "name": "stderr",
     "output_type": "stream",
     "text": [
      " 65%|██████▌   | 1304/2000 [01:09<00:39, 17.56it/s]"
     ]
    },
    {
     "name": "stdout",
     "output_type": "stream",
     "text": [
      "Train Loss: 0.480 | Acc: 0.504 | f1: 0.464| recall: 0.460 | precision: 0.468 \n",
      "Best_f1_epoch: 354.000|  Best_epoch: 22.000 | Best Acc: 0.542 |Best f1: 0.629 \n",
      "best_recall: 0.963|  best_precision: 0.530\n"
     ]
    },
    {
     "name": "stderr",
     "output_type": "stream",
     "text": [
      " 68%|██████▊   | 1354/2000 [01:12<00:36, 17.77it/s]"
     ]
    },
    {
     "name": "stdout",
     "output_type": "stream",
     "text": [
      "Train Loss: 0.476 | Acc: 0.506 | f1: 0.458| recall: 0.447 | precision: 0.470 \n",
      "Best_f1_epoch: 354.000|  Best_epoch: 22.000 | Best Acc: 0.542 |Best f1: 0.629 \n",
      "best_recall: 0.963|  best_precision: 0.530\n"
     ]
    },
    {
     "name": "stderr",
     "output_type": "stream",
     "text": [
      " 70%|███████   | 1404/2000 [01:14<00:32, 18.11it/s]"
     ]
    },
    {
     "name": "stdout",
     "output_type": "stream",
     "text": [
      "Train Loss: 0.482 | Acc: 0.499 | f1: 0.508| recall: 0.555 | precision: 0.469 \n",
      "Best_f1_epoch: 354.000|  Best_epoch: 22.000 | Best Acc: 0.542 |Best f1: 0.629 \n",
      "best_recall: 0.963|  best_precision: 0.530\n"
     ]
    },
    {
     "name": "stderr",
     "output_type": "stream",
     "text": [
      " 73%|███████▎  | 1454/2000 [01:17<00:31, 17.51it/s]"
     ]
    },
    {
     "name": "stdout",
     "output_type": "stream",
     "text": [
      "Train Loss: 0.459 | Acc: 0.506 | f1: 0.463| recall: 0.456 | precision: 0.470 \n",
      "Best_f1_epoch: 354.000|  Best_epoch: 22.000 | Best Acc: 0.542 |Best f1: 0.629 \n",
      "best_recall: 0.963|  best_precision: 0.530\n"
     ]
    },
    {
     "name": "stderr",
     "output_type": "stream",
     "text": [
      " 75%|███████▌  | 1504/2000 [01:20<00:28, 17.47it/s]"
     ]
    },
    {
     "name": "stdout",
     "output_type": "stream",
     "text": [
      "Train Loss: 0.455 | Acc: 0.506 | f1: 0.467| recall: 0.464 | precision: 0.471 \n",
      "Best_f1_epoch: 354.000|  Best_epoch: 22.000 | Best Acc: 0.542 |Best f1: 0.629 \n",
      "best_recall: 0.963|  best_precision: 0.530\n"
     ]
    },
    {
     "name": "stderr",
     "output_type": "stream",
     "text": [
      " 78%|███████▊  | 1554/2000 [01:23<00:24, 18.07it/s]"
     ]
    },
    {
     "name": "stdout",
     "output_type": "stream",
     "text": [
      "Train Loss: 0.452 | Acc: 0.510 | f1: 0.462| recall: 0.451 | precision: 0.474 \n",
      "Best_f1_epoch: 354.000|  Best_epoch: 22.000 | Best Acc: 0.542 |Best f1: 0.629 \n",
      "best_recall: 0.963|  best_precision: 0.530\n"
     ]
    },
    {
     "name": "stderr",
     "output_type": "stream",
     "text": [
      " 80%|████████  | 1604/2000 [01:26<00:22, 17.99it/s]"
     ]
    },
    {
     "name": "stdout",
     "output_type": "stream",
     "text": [
      "Train Loss: 0.520 | Acc: 0.519 | f1: 0.385| recall: 0.323 | precision: 0.477 \n",
      "Best_f1_epoch: 354.000|  Best_epoch: 22.000 | Best Acc: 0.542 |Best f1: 0.629 \n",
      "best_recall: 0.963|  best_precision: 0.530\n"
     ]
    },
    {
     "name": "stderr",
     "output_type": "stream",
     "text": [
      " 83%|████████▎ | 1654/2000 [01:28<00:19, 17.84it/s]"
     ]
    },
    {
     "name": "stdout",
     "output_type": "stream",
     "text": [
      "Train Loss: 0.434 | Acc: 0.508 | f1: 0.468| recall: 0.465 | precision: 0.472 \n",
      "Best_f1_epoch: 354.000|  Best_epoch: 22.000 | Best Acc: 0.542 |Best f1: 0.629 \n",
      "best_recall: 0.963|  best_precision: 0.530\n"
     ]
    },
    {
     "name": "stderr",
     "output_type": "stream",
     "text": [
      " 85%|████████▌ | 1704/2000 [01:31<00:15, 19.33it/s]"
     ]
    },
    {
     "name": "stdout",
     "output_type": "stream",
     "text": [
      "Train Loss: 0.431 | Acc: 0.508 | f1: 0.472| recall: 0.471 | precision: 0.473 \n",
      "Best_f1_epoch: 354.000|  Best_epoch: 22.000 | Best Acc: 0.542 |Best f1: 0.629 \n",
      "best_recall: 0.963|  best_precision: 0.530\n"
     ]
    },
    {
     "name": "stderr",
     "output_type": "stream",
     "text": [
      " 88%|████████▊ | 1754/2000 [01:34<00:12, 19.12it/s]"
     ]
    },
    {
     "name": "stdout",
     "output_type": "stream",
     "text": [
      "Train Loss: 0.428 | Acc: 0.507 | f1: 0.464| recall: 0.456 | precision: 0.471 \n",
      "Best_f1_epoch: 354.000|  Best_epoch: 22.000 | Best Acc: 0.542 |Best f1: 0.629 \n",
      "best_recall: 0.963|  best_precision: 0.530\n"
     ]
    },
    {
     "name": "stderr",
     "output_type": "stream",
     "text": [
      " 90%|█████████ | 1804/2000 [01:36<00:10, 18.43it/s]"
     ]
    },
    {
     "name": "stdout",
     "output_type": "stream",
     "text": [
      "Train Loss: 0.490 | Acc: 0.521 | f1: 0.368| recall: 0.299 | precision: 0.479 \n",
      "Best_f1_epoch: 354.000|  Best_epoch: 22.000 | Best Acc: 0.542 |Best f1: 0.629 \n",
      "best_recall: 0.963|  best_precision: 0.530\n"
     ]
    },
    {
     "name": "stderr",
     "output_type": "stream",
     "text": [
      " 93%|█████████▎| 1854/2000 [01:39<00:07, 18.29it/s]"
     ]
    },
    {
     "name": "stdout",
     "output_type": "stream",
     "text": [
      "Train Loss: 0.412 | Acc: 0.507 | f1: 0.469| recall: 0.467 | precision: 0.471 \n",
      "Best_f1_epoch: 354.000|  Best_epoch: 22.000 | Best Acc: 0.542 |Best f1: 0.629 \n",
      "best_recall: 0.963|  best_precision: 0.530\n"
     ]
    },
    {
     "name": "stderr",
     "output_type": "stream",
     "text": [
      " 95%|█████████▌| 1904/2000 [01:42<00:05, 17.59it/s]"
     ]
    },
    {
     "name": "stdout",
     "output_type": "stream",
     "text": [
      "Train Loss: 0.408 | Acc: 0.507 | f1: 0.471| recall: 0.470 | precision: 0.472 \n",
      "Best_f1_epoch: 354.000|  Best_epoch: 22.000 | Best Acc: 0.542 |Best f1: 0.629 \n",
      "best_recall: 0.963|  best_precision: 0.530\n"
     ]
    },
    {
     "name": "stderr",
     "output_type": "stream",
     "text": [
      " 98%|█████████▊| 1954/2000 [01:45<00:02, 19.05it/s]"
     ]
    },
    {
     "name": "stdout",
     "output_type": "stream",
     "text": [
      "Train Loss: 0.406 | Acc: 0.507 | f1: 0.478| recall: 0.482 | precision: 0.473 \n",
      "Best_f1_epoch: 354.000|  Best_epoch: 22.000 | Best Acc: 0.542 |Best f1: 0.629 \n",
      "best_recall: 0.963|  best_precision: 0.530\n"
     ]
    },
    {
     "name": "stderr",
     "output_type": "stream",
     "text": [
      "100%|██████████| 2000/2000 [01:47<00:00, 18.60it/s]\n"
     ]
    }
   ],
   "source": [
    "from tqdm import tqdm\n",
    "from numpy import vstack\n",
    "\n",
    "\n",
    "# model = GraphSAGE(dim_in=lst[0].num_features,dim_h=128,dim_out=1).to(device)\n",
    "# model = GAT(dim_in=lst[0].num_features,dim_h=64,dim_out=1).to(device)\n",
    "criterion = torch.nn.BCEWithLogitsLoss().to(device)\n",
    "optimizer = torch.optim.AdamW(model.parameters(), lr=0.0005)\n",
    "scheduler = torch.optim.lr_scheduler.CosineAnnealingLR(optimizer, T_max=100, eta_min=0)\n",
    "best_acc = 0\n",
    "best_epoch = 0\n",
    "f1_epoch=0\n",
    "best_f1 = 0\n",
    "\n",
    "best_recall = 0\n",
    "best_precision = 0\n",
    "\n",
    "\n",
    "for epoch in tqdm(range(2000)):\n",
    "    loss = train(train_loader)\n",
    "    acc ,f1,recall,precision = test(test_loader)\n",
    "    \n",
    "    scheduler.step()\n",
    "    \n",
    "    if f1 > best_f1 :\n",
    "        best_f1 = f1\n",
    "        f1_epoch=epoch\n",
    "    if recall> best_recall:\n",
    "        best_recall=recall\n",
    "    \n",
    "    if precision> best_precision:\n",
    "        best_precision=precision    \n",
    "        \n",
    "        \n",
    "        \n",
    "\n",
    "    if acc > best_acc :\n",
    "        \n",
    "        best_acc = acc\n",
    "        best_epoch=epoch\n",
    "        \n",
    "        torch.save(model.state_dict(), '/home/work/kdg_folder/work_kisti/kisti-GraphSAGE/best_model(no_attr).pth')\n",
    "\n",
    "    if epoch %50 == 0:\n",
    "        print(f'Train Loss: {loss:.3f} | Acc: {acc:.3f} | f1: {f1:.3f}| recall: {recall:.3f} | precision: {precision:.3f} ')  \n",
    "        print(f'Best_f1_epoch: {f1_epoch:.3f}|  Best_epoch: {best_epoch:.3f} | Best Acc: {best_acc:.3f} |Best f1: {best_f1:.3f} ')\n",
    "        print(f'best_recall: {best_recall:.3f}|  best_precision: {best_precision:.3f}')\n",
    "        \n",
    "        # print(f'Train Loss: {loss:.3f} | Test acc: {acc.item():.3f} ')\n",
    "        # print(f'Train Loss: {loss:.3f}')\n",
    "    \n",
    "    "
   ]
  },
  {
   "cell_type": "code",
   "execution_count": null,
   "metadata": {},
   "outputs": [
    {
     "name": "stdout",
     "output_type": "stream",
     "text": [
      "1.0\n",
      "1.0\n",
      "[2730.]\n",
      "[2730.]\n"
     ]
    }
   ],
   "source": [
    "for i in range(1):\n",
    "    acc,f1,pred,y = test(train_loader)\n",
    "    print(acc)\n",
    "    print(f1)\n",
    "    print(sum(pred))\n",
    "    print(sum(y))\n",
    "    \n",
    "    "
   ]
  },
  {
   "cell_type": "markdown",
   "metadata": {},
   "source": [
    "# example"
   ]
  },
  {
   "cell_type": "code",
   "execution_count": null,
   "metadata": {},
   "outputs": [],
   "source": [
    "# import torch\n",
    "# from sklearn.metrics import f1_score\n",
    "# from torch_geometric.nn import GraphSAGE\n",
    " \n",
    "# device = torch.device('cuda' if torch.cuda.is_available() else 'cpu')\n",
    " \n",
    "# model = GraphSAGE(\n",
    "#     in_channels=train_dataset.num_features,\n",
    "#     hidden_channels=512,\n",
    "#     num_layers=2,\n",
    "#     out_channels=train_dataset.num_classes,\n",
    "# ).to(device)"
   ]
  },
  {
   "cell_type": "code",
   "execution_count": null,
   "metadata": {},
   "outputs": [],
   "source": [
    "# criterion = torch.nn.BCEWithLogitsLoss()\n",
    "# optimizer = torch.optim.Adam(model.parameters(), lr=0.005)\n",
    " \n",
    "# def fit():\n",
    "#     model.train()\n",
    " \n",
    "#     total_loss = 0\n",
    "#     for data in train_loader:\n",
    "#         data = data.to(device)\n",
    "#         optimizer.zero_grad()\n",
    "        \n",
    "#         out = model(data.x, data.edge_index)\n",
    "#         loss = criterion(out, data.y)\n",
    "        \n",
    "#         total_loss += loss.item() * data.num_graphs\n",
    "        \n",
    "#         loss.backward()\n",
    "#         optimizer.step()\n",
    "        \n",
    "#     return total_loss / len(train_loader.dataset)\n",
    " \n",
    "# @torch.no_grad()\n",
    "# def test(loader):\n",
    "#     model.eval()\n",
    " \n",
    "#     data = next(iter(loader))\n",
    "#     out = model(data.x.to(device), data.edge_index.to(device))\n",
    "#     preds = (out > 0).float().cpu()\n",
    "#     print(preds)\n",
    " \n",
    "#     y, pred = data.y.numpy(), preds.numpy()\n",
    "#     return f1_score(y, pred, average='micro') if pred.sum() > 0 else 0\n",
    " \n",
    "# for epoch in range(301):\n",
    "#     loss = fit()\n",
    "#     val_f1 = test(val_loader)\n",
    "#     if epoch % 50 == 0:\n",
    "#         print(f'Epoch {epoch:>3} | Train Loss: {loss:.3f} | Val F1-score: {val_f1:.4f}')\n",
    " \n",
    "# print(f'Test F1-score: {test(test_loader):.4f}')"
   ]
  },
  {
   "cell_type": "code",
   "execution_count": null,
   "metadata": {},
   "outputs": [],
   "source": [
    "# import torch\n",
    "\n",
    "# def test(test_loader):\n",
    "#     model.eval()\n",
    "#     correct = 0\n",
    "#     total = 0\n",
    "#     with torch.no_grad():\n",
    "#         for data in test_loader:\n",
    "#             data = data.to(device)\n",
    "#             out = model(data)\n",
    "#             preds = (out > 0).float().cpu()  # .cpu()를 추가하여 GPU에서 CPU로 이동\n",
    "#             acc = accuracy_score(data.y.cpu(), preds)  # .cpu()를 추가하여 GPU에서 CPU로 이동\n",
    "#             print(acc)\n",
    "#             total += len(data.y)\n",
    "#             correct += (preds == data.y.cpu()).sum().item()\n",
    "#     return correct / total\n",
    "\n",
    "# # 학습 및 테스트 코드\n",
    "# for epoch in tqdm(range(100)):\n",
    "#     loss = train(train_loader)\n",
    "#     acc = test(test_loader)\n",
    "#     if epoch % 1 == 0:\n",
    "#         print(f'Train Loss: {loss:.3f} | Test acc: {acc:.3f}')\n"
   ]
  }
 ],
 "metadata": {
  "accelerator": "GPU",
  "colab": {
   "gpuType": "T4",
   "provenance": []
  },
  "kernelspec": {
   "display_name": "Python 3",
   "language": "python",
   "name": "python3"
  },
  "language_info": {
   "codemirror_mode": {
    "name": "ipython",
    "version": 3
   },
   "file_extension": ".py",
   "mimetype": "text/x-python",
   "name": "python",
   "nbconvert_exporter": "python",
   "pygments_lexer": "ipython3",
   "version": "3.10.14"
  }
 },
 "nbformat": 4,
 "nbformat_minor": 4
}
