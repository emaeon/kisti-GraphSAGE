{
 "cells": [
  {
   "cell_type": "code",
   "execution_count": 22,
   "metadata": {},
   "outputs": [
    {
     "data": {
      "text/plain": [
       "1740"
      ]
     },
     "execution_count": 22,
     "metadata": {},
     "output_type": "execute_result"
    }
   ],
   "source": [
    "import torch, gc\n",
    "gc.collect()\n",
    "# torch.cuda.empty_cache()"
   ]
  },
  {
   "cell_type": "code",
   "execution_count": 23,
   "metadata": {},
   "outputs": [],
   "source": [
    "torch.cuda.empty_cache()"
   ]
  },
  {
   "cell_type": "code",
   "execution_count": 1,
   "metadata": {},
   "outputs": [
    {
     "name": "stdout",
     "output_type": "stream",
     "text": [
      "2.3.0\n"
     ]
    }
   ],
   "source": [
    "import os\n",
    "import torch\n",
    "os.environ['TORCH'] = torch.__version__\n",
    "print(torch.__version__)"
   ]
  },
  {
   "cell_type": "code",
   "execution_count": 3,
   "metadata": {},
   "outputs": [],
   "source": [
    "# import os\n",
    "# os.environ['CUDA_LAUNCH_BLOCKING'] = \"1\""
   ]
  },
  {
   "cell_type": "markdown",
   "metadata": {},
   "source": [
    "# 데이터 로드"
   ]
  },
  {
   "cell_type": "code",
   "execution_count": 2,
   "metadata": {},
   "outputs": [],
   "source": [
    "class config():\n",
    "    def __init__(self, i):\n",
    "        self.i = i\n",
    "        self.train_edge_file_path = f'/home/work/kdg_folder/work_kisti/학습데이터/양방향,edgeattr/edge_train_{self.i+1}_v7.pkl'\n",
    "        self.train_node_file_path = f'/home/work/kdg_folder/work_kisti/학습데이터/양방향,edgeattr/node_train_{self.i+1}_v7.pkl'\n",
    "        self.test_edge_file_path = f'/home/work/kdg_folder/work_kisti/학습데이터/양방향,edgeattr/edge_test_v7.pkl'\n",
    "        self.test_node_file_path = f'/home/work/kdg_folder/work_kisti/학습데이터/양방향,edgeattr/node_test_v7.pkl'  \n",
    "        self.label_col=19      \n",
    "        self.batch_size=8\n",
    "        self.in_dim=19\n",
    "        self.h_dim=256\n",
    "        self.num_layers=6\n",
    "        self.out_dim=1\n"
   ]
  },
  {
   "cell_type": "code",
   "execution_count": 3,
   "metadata": {},
   "outputs": [],
   "source": [
    "# import pandas as pd\n",
    "# edges = {}\n",
    "# nodes = {}\n",
    "# for i in range(3):\n",
    "#     cfg=config(i)\n",
    "#     edge_file_path = cfg.train_edge_file_path\n",
    "#     node_file_path = cfg.train_node_file_path\n",
    "    \n",
    "#     edges[f'edge{i}'] = pd.read_csv(edge_file_path)\n",
    "#     nodes[f'node{i}'] = pd.read_csv(node_file_path)\n",
    "#     edges[f'edge{i}'].to_pickle(f'/home/work/kdg_folder/work_kisti/학습데이터/양방향,edgeattr/edge_train_{i+1}_v7.pkl')\n",
    "#     nodes[f'node{i}'].to_pickle(f'/home/work/kdg_folder/work_kisti/학습데이터/양방향,edgeattr/node_train_{i+1}_v7.pkl')\n",
    "    "
   ]
  },
  {
   "cell_type": "code",
   "execution_count": 4,
   "metadata": {},
   "outputs": [],
   "source": [
    "# import pandas as pd\n",
    "# testedges = {}\n",
    "# testnodes = {}\n",
    "# testlabels = {}\n",
    "\n",
    "# for i in range(1):\n",
    "#     edge_file_path = cfg.test_edge_file_path\n",
    "#     node_file_path = cfg.test_node_file_path\n",
    "    \n",
    "#     testedges[f'edge{i}'] = pd.read_csv(edge_file_path)\n",
    "#     testnodes[f'node{i}'] = pd.read_csv(node_file_path)\n",
    "\n",
    "#     testedges[f'edge{i}'].to_pickle(f'/home/work/kdg_folder/work_kisti/학습데이터/양방향,edgeattr/edge_test_v7.pkl')\n",
    "#     testnodes[f'node{i}'].to_pickle(f'/home/work/kdg_folder/work_kisti/학습데이터/양방향,edgeattr/node_test_v7.pkl')\n",
    "    "
   ]
  },
  {
   "cell_type": "code",
   "execution_count": 3,
   "metadata": {},
   "outputs": [],
   "source": [
    "#train\n",
    "import pandas as pd\n",
    "\n",
    "# 딕셔너리를 사용하여 edge 데이터를 저장\n",
    "edges = {}\n",
    "edges_attr = {}\n",
    "nodes = {}\n",
    "labels = {}\n",
    "\n",
    "for i in range(0,1):\n",
    "    cfg=config(i)\n",
    "    edge_file_path = cfg.train_edge_file_path\n",
    "    node_file_path = cfg.train_node_file_path\n",
    "    \n",
    "    edges[f'edge{i}'] = pd.read_pickle(edge_file_path)\n",
    "    nodes[f'node{i}'] = pd.read_pickle(node_file_path)\n",
    "    \n",
    "    labels[f'label{i}'] = pd.DataFrame(nodes[f'node{i}'].iloc[:,cfg.label_col])\n",
    "    nodes[f'node{i}'] = nodes[f'node{i}'].iloc[:,:cfg.label_col]\n",
    "    \n",
    "    # edges_attr[f'edge_attr{i}'] = pd.DataFrame(edges[f'edge{i}'].iloc[2,:])\n",
    "    edges[f'edge{i}'] = edges[f'edge{i}'].iloc[:2,:]"
   ]
  },
  {
   "cell_type": "markdown",
   "metadata": {},
   "source": [
    "# 그래프 1개 추론용"
   ]
  },
  {
   "cell_type": "code",
   "execution_count": 4,
   "metadata": {},
   "outputs": [],
   "source": [
    "#test\n",
    "import pandas as pd\n",
    "\n",
    "# 딕셔너리를 사용하여 edge 데이터를 저장\n",
    "testedges = {}\n",
    "testedges_attr={}\n",
    "testnodes = {}\n",
    "testlabels = {}\n",
    "\n",
    "for i in range(1,2):\n",
    "    edge_file_path = cfg.train_edge_file_path\n",
    "    node_file_path = cfg.train_node_file_path\n",
    "    \n",
    "    testedges[f'edge{i}'] = pd.read_pickle(edge_file_path)\n",
    "    testnodes[f'node{i}'] = pd.read_pickle(node_file_path)\n",
    "    \n",
    "    testlabels[f'label{i}'] = pd.DataFrame(testnodes[f'node{i}'].iloc[:,cfg.label_col])\n",
    "    testnodes[f'node{i}'] = testnodes[f'node{i}'].iloc[:,:cfg.label_col]\n",
    "    \n",
    "    # testedges_attr[f'edge_attr{i}'] = pd.DataFrame(testedges[f'edge{i}'].iloc[2,:])\n",
    "    testedges[f'edge{i}'] = testedges[f'edge{i}'].iloc[:2,:]"
   ]
  },
  {
   "cell_type": "markdown",
   "metadata": {},
   "source": [
    "# 2021 그래프 추론용"
   ]
  },
  {
   "cell_type": "code",
   "execution_count": 7,
   "metadata": {},
   "outputs": [],
   "source": [
    "# #test\n",
    "# import pandas as pd\n",
    "\n",
    "# # 딕셔너리를 사용하여 edge 데이터를 저장\n",
    "# testedges = {}\n",
    "# testedges_attr={}\n",
    "# testnodes = {}\n",
    "# testlabels = {}\n",
    "\n",
    "# for i in range(1):\n",
    "#     edge_file_path = cfg.test_edge_file_path\n",
    "#     node_file_path = cfg.test_node_file_path\n",
    "    \n",
    "#     testedges[f'edge{i}'] = pd.read_pickle(edge_file_path)\n",
    "#     testnodes[f'node{i}'] = pd.read_pickle(node_file_path)\n",
    "    \n",
    "#     testlabels[f'label{i}'] = pd.DataFrame(testnodes[f'node{i}'].iloc[:,cfg.label_col])\n",
    "#     testnodes[f'node{i}'] = testnodes[f'node{i}'].iloc[:,:cfg.label_col]\n",
    "    \n",
    "#     testedges_attr[f'edge_attr{i}'] = pd.DataFrame(testedges[f'edge{i}'].iloc[2,:])\n",
    "#     testedges[f'edge{i}'] = testedges[f'edge{i}'].iloc[:2,:]"
   ]
  },
  {
   "cell_type": "code",
   "execution_count": 8,
   "metadata": {},
   "outputs": [
    {
     "data": {
      "text/html": [
       "<div>\n",
       "<style scoped>\n",
       "    .dataframe tbody tr th:only-of-type {\n",
       "        vertical-align: middle;\n",
       "    }\n",
       "\n",
       "    .dataframe tbody tr th {\n",
       "        vertical-align: top;\n",
       "    }\n",
       "\n",
       "    .dataframe thead th {\n",
       "        text-align: right;\n",
       "    }\n",
       "</style>\n",
       "<table border=\"1\" class=\"dataframe\">\n",
       "  <thead>\n",
       "    <tr style=\"text-align: right;\">\n",
       "      <th></th>\n",
       "      <th>19</th>\n",
       "    </tr>\n",
       "  </thead>\n",
       "  <tbody>\n",
       "    <tr>\n",
       "      <th>0</th>\n",
       "      <td>0.0</td>\n",
       "    </tr>\n",
       "    <tr>\n",
       "      <th>1</th>\n",
       "      <td>1.0</td>\n",
       "    </tr>\n",
       "    <tr>\n",
       "      <th>2</th>\n",
       "      <td>0.0</td>\n",
       "    </tr>\n",
       "    <tr>\n",
       "      <th>3</th>\n",
       "      <td>1.0</td>\n",
       "    </tr>\n",
       "    <tr>\n",
       "      <th>4</th>\n",
       "      <td>0.0</td>\n",
       "    </tr>\n",
       "    <tr>\n",
       "      <th>...</th>\n",
       "      <td>...</td>\n",
       "    </tr>\n",
       "    <tr>\n",
       "      <th>145780</th>\n",
       "      <td>1.0</td>\n",
       "    </tr>\n",
       "    <tr>\n",
       "      <th>145781</th>\n",
       "      <td>1.0</td>\n",
       "    </tr>\n",
       "    <tr>\n",
       "      <th>145782</th>\n",
       "      <td>1.0</td>\n",
       "    </tr>\n",
       "    <tr>\n",
       "      <th>145783</th>\n",
       "      <td>1.0</td>\n",
       "    </tr>\n",
       "    <tr>\n",
       "      <th>145784</th>\n",
       "      <td>1.0</td>\n",
       "    </tr>\n",
       "  </tbody>\n",
       "</table>\n",
       "<p>145785 rows × 1 columns</p>\n",
       "</div>"
      ],
      "text/plain": [
       "         19\n",
       "0       0.0\n",
       "1       1.0\n",
       "2       0.0\n",
       "3       1.0\n",
       "4       0.0\n",
       "...     ...\n",
       "145780  1.0\n",
       "145781  1.0\n",
       "145782  1.0\n",
       "145783  1.0\n",
       "145784  1.0\n",
       "\n",
       "[145785 rows x 1 columns]"
      ]
     },
     "execution_count": 8,
     "metadata": {},
     "output_type": "execute_result"
    }
   ],
   "source": [
    "labels['label0']"
   ]
  },
  {
   "cell_type": "code",
   "execution_count": 5,
   "metadata": {},
   "outputs": [],
   "source": [
    "for i in range(0,1):\n",
    "    edges[f'edge{i}'] = edges[f'edge{i}'].values\n",
    "    edges[f'edge{i}'] = torch.from_numpy(edges[f'edge{i}']).long()\n",
    "\n",
    "    nodes[f'node{i}'] = nodes[f'node{i}'].values\n",
    "    nodes[f'node{i}'] = torch.from_numpy(nodes[f'node{i}']).float()\n",
    "    \n",
    "    labels[f'label{i}'] = labels[f'label{i}'].values\n",
    "    labels[f'label{i}'] = torch.from_numpy(labels[f'label{i}']).float()  \n",
    "    \n",
    "    # edges_attr[f'edge_attr{i}'] = edges_attr[f'edge_attr{i}'].values\n",
    "    # edges_attr[f'edge_attr{i}'] = torch.from_numpy(edges_attr[f'edge_attr{i}']).float()  \n",
    "\n",
    "\n",
    "\n",
    "for i in range(1,2):\n",
    "    testedges[f'edge{i}'] = testedges[f'edge{i}'].values\n",
    "    testedges[f'edge{i}'] = torch.from_numpy(testedges[f'edge{i}']).long()\n",
    "\n",
    "    testnodes[f'node{i}'] = testnodes[f'node{i}'].values\n",
    "    testnodes[f'node{i}'] = torch.from_numpy(testnodes[f'node{i}']).float()\n",
    "    \n",
    "    testlabels[f'label{i}'] = testlabels[f'label{i}'].values\n",
    "    testlabels[f'label{i}'] = torch.from_numpy(testlabels[f'label{i}']).float()\n",
    "      \n",
    "    # testedges_attr[f'edge_attr{i}'] = testedges_attr[f'edge_attr{i}'].values\n",
    "    # testedges_attr[f'edge_attr{i}'] = torch.from_numpy(testedges_attr[f'edge_attr{i}']).float()     "
   ]
  },
  {
   "cell_type": "code",
   "execution_count": 10,
   "metadata": {},
   "outputs": [
    {
     "data": {
      "text/plain": [
       "torch.Size([145785, 1])"
      ]
     },
     "execution_count": 10,
     "metadata": {},
     "output_type": "execute_result"
    }
   ],
   "source": [
    "labels['label0'].size()"
   ]
  },
  {
   "cell_type": "code",
   "execution_count": 11,
   "metadata": {},
   "outputs": [
    {
     "name": "stdout",
     "output_type": "stream",
     "text": [
      "torch.int64\n",
      "torch.float32\n",
      "torch.float32\n"
     ]
    }
   ],
   "source": [
    "for i in range(0,1):\n",
    "    print(edges[f'edge{i}'].dtype)\n",
    "    print(nodes[f'node{i}'].dtype)\n",
    "    print(labels[f'label{i}'].dtype)\n",
    "    # print(edges_attr[f'edge_attr{i}'].dtype)\n",
    "    \n",
    "    "
   ]
  },
  {
   "cell_type": "code",
   "execution_count": 12,
   "metadata": {
    "colab": {
     "base_uri": "https://localhost:8080/"
    },
    "executionInfo": {
     "elapsed": 2,
     "status": "ok",
     "timestamp": 1715666793266,
     "user": {
      "displayName": "김대건",
      "userId": "14940767608385150906"
     },
     "user_tz": -540
    },
    "id": "b55JKcU0i_LM",
    "outputId": "b5f2659f-661b-4203-de21-8b8c0deed723"
   },
   "outputs": [],
   "source": [
    "# print(edge_tensor.size())\n",
    "# print(node_tensor.size())\n",
    "# print(label_tensor.size())\n",
    "# print(edge_tensor.dtype)\n",
    "# print(node_tensor.dtype)\n",
    "# print(label_tensor.dtype)"
   ]
  },
  {
   "cell_type": "markdown",
   "metadata": {},
   "source": [
    "# train data 리스트에 담기"
   ]
  },
  {
   "cell_type": "code",
   "execution_count": 6,
   "metadata": {
    "executionInfo": {
     "elapsed": 340,
     "status": "ok",
     "timestamp": 1715666802337,
     "user": {
      "displayName": "김대건",
      "userId": "14940767608385150906"
     },
     "user_tz": -540
    },
    "id": "LsttAXN1jdmb"
   },
   "outputs": [
    {
     "name": "stderr",
     "output_type": "stream",
     "text": [
      "/home/work/anaconda3/envs/main/lib/python3.10/site-packages/tqdm/auto.py:21: TqdmWarning: IProgress not found. Please update jupyter and ipywidgets. See https://ipywidgets.readthedocs.io/en/stable/user_install.html\n",
      "  from .autonotebook import tqdm as notebook_tqdm\n"
     ]
    }
   ],
   "source": [
    "import torch_geometric\n",
    "from torch_geometric.data import Data\n",
    "\n",
    "lst=[]\n",
    "\n",
    "\n",
    "for i in range(0,1):\n",
    "    lst.append(Data(x=nodes[f'node{i}'], edge_index=edges[f'edge{i}'],  y=labels[f'label{i}']))\n",
    "\n",
    "testlst=[]\n",
    "for i in range(1,2):\n",
    "    testlst.append(Data(x=testnodes[f'node{i}'], edge_index=testedges[f'edge{i}'], y=testlabels[f'label{i}']))    \n"
   ]
  },
  {
   "cell_type": "code",
   "execution_count": 15,
   "metadata": {},
   "outputs": [
    {
     "data": {
      "text/plain": [
       "tensor([[ 4391700.],\n",
       "        [   95000.],\n",
       "        [14783800.],\n",
       "        ...,\n",
       "        [  972800.],\n",
       "        [15737500.],\n",
       "        [  260000.]])"
      ]
     },
     "execution_count": 15,
     "metadata": {},
     "output_type": "execute_result"
    }
   ],
   "source": [
    "lst[0].edge_attr"
   ]
  },
  {
   "cell_type": "code",
   "execution_count": 16,
   "metadata": {},
   "outputs": [
    {
     "data": {
      "text/plain": [
       "tensor([[1.5425e+06],\n",
       "        [1.8900e+05],\n",
       "        [2.4418e+06],\n",
       "        ...,\n",
       "        [7.0200e+05],\n",
       "        [7.0700e+06],\n",
       "        [1.3439e+09]])"
      ]
     },
     "execution_count": 16,
     "metadata": {},
     "output_type": "execute_result"
    }
   ],
   "source": [
    "testlst[0].edge_attr"
   ]
  },
  {
   "cell_type": "code",
   "execution_count": 7,
   "metadata": {
    "executionInfo": {
     "elapsed": 1389,
     "status": "ok",
     "timestamp": 1715667253271,
     "user": {
      "displayName": "김대건",
      "userId": "14940767608385150906"
     },
     "user_tz": -540
    },
    "id": "Ov3Ie6o6oevE"
   },
   "outputs": [],
   "source": [
    "from torch_geometric.data import Batch\n",
    "from torch_geometric.loader import DataLoader, NeighborLoader\n",
    "\n",
    "# train_data = Batch.from_data_list(lst)\n",
    "# test_loader = NeighborLoader(testlst, batch_size=512, shuffle=True, num_neighbors=[20, 10], num_workers=2, persistent_workers=True)\n",
    "\n",
    "# train_loader = NeighborLoader(train_data, batch_size=512, shuffle=True, num_neighbors=[20, 10], num_workers=2, persistent_workers=True)\n",
    "# val_loader = DataLoader(val_dataset, batch_size=2)\n",
    "\n",
    "# train_loader = DataLoader(Batch.from_data_list(lst), batch_size=8, shuffle=True)\n",
    "# test_loader = DataLoader(Batch.from_data_list(testlst), batch_size=8, shuffle=False)\n",
    "\n",
    "\n",
    "# from torch_geometric.data import Batch\n",
    "# from torch_geometric.loader import DataLoader, NeighborLoader\n",
    "train_loader = DataLoader(lst, batch_size=16,shuffle=True)\n",
    "test_loader = DataLoader(testlst, batch_size=16, shuffle=False)\n",
    "\n",
    "\n",
    "# train_loader = NeighborLoader(Batch.from_data_list(lst), batch_size=cfg.batch_size, shuffle=True, num_neighbors=[20, 10], num_workers=2, persistent_workers=True)\n",
    "# test_loader = NeighborLoader(Batch.from_data_list(testlst), batch_size=cfg.batch_size, shuffle=False, num_neighbors=[20, 10], num_workers=2, persistent_workers=True)"
   ]
  },
  {
   "cell_type": "markdown",
   "metadata": {},
   "source": [
    "## PPI"
   ]
  },
  {
   "cell_type": "code",
   "execution_count": 18,
   "metadata": {},
   "outputs": [],
   "source": [
    "# from torch_geometric.datasets import PPI\n",
    "# train_dataset = PPI(root=\".\", split='train')\n",
    "# val_dataset = PPI(root=\".\", split='val')\n",
    "# test_dataset = PPI(root=\".\", split='test')\n",
    " \n",
    "# from torch_geometric.data import Batch\n",
    "# from torch_geometric.loader import DataLoader, NeighborLoader\n",
    " \n",
    "\n",
    "# import torch_geometric\n",
    "# from torch_geometric.data import Data\n",
    "# lst=[]\n",
    "# for i in range(20):\n",
    "#     lst.append(Data(x=train_dataset[i].x, edge_index=train_dataset[i].edge_index, y=train_dataset[i].y[:,0].unsqueeze(1)))\n",
    "\n",
    "# test_dataset[1].y[:,0].unsqueeze(1)"
   ]
  },
  {
   "cell_type": "code",
   "execution_count": 19,
   "metadata": {},
   "outputs": [],
   "source": [
    "# testdata1 = Data(x=test_dataset[0].x, edge_index=test_dataset[0].edge_index, y=test_dataset[0].y[:,0].unsqueeze(1))\n",
    "# testdata2 = Data(x=test_dataset[1].x, edge_index=test_dataset[1].edge_index, y=test_dataset[1].y[:,0].unsqueeze(1))\n"
   ]
  },
  {
   "cell_type": "code",
   "execution_count": 20,
   "metadata": {},
   "outputs": [],
   "source": [
    "# train_loader = DataLoader(lst, batch_size=2)\n",
    "# test_loader = DataLoader([testdata1,testdata2], batch_size=2)"
   ]
  },
  {
   "cell_type": "code",
   "execution_count": 21,
   "metadata": {},
   "outputs": [],
   "source": [
    "# train_data = Batch.from_data_list(lst)\n",
    "# train_loader = NeighborLoader(train_data, batch_size=2048, shuffle=True, num_neighbors=[20, 10], num_workers=2, persistent_workers=True)\n",
    "\n",
    "# test_data = Batch.from_data_list([testdata1,testdata2])\n",
    "# test_loader = NeighborLoader(test_data, batch_size=2048, shuffle=True, num_neighbors=[20, 10], num_workers=2, persistent_workers=True)"
   ]
  },
  {
   "cell_type": "markdown",
   "metadata": {},
   "source": [
    "# 모델 만들기 연습"
   ]
  },
  {
   "cell_type": "code",
   "execution_count": 22,
   "metadata": {},
   "outputs": [],
   "source": [
    "# import torch\n",
    "# torch.manual_seed(-1)\n",
    "# import torch.nn.functional as F\n",
    "# from torch_geometric.nn import SAGEConv\n",
    "\n",
    "# from sklearn.metrics import f1_score\n",
    "\n",
    "# device = torch.device('cuda' if torch.cuda.is_available() else 'cpu')\n",
    "\n",
    "# class GraphSAGE(torch.nn.Module):\n",
    "    \n",
    "#     def __init__(self, dim_in, dim_h, dim_out):\n",
    "#         super().__init__()\n",
    "#         self.sage1 = SAGEConv(dim_in, dim_h)\n",
    "#         # self.sage2 = SAGEConv(dim_h, dim_h)\n",
    "#         self.sage3 = SAGEConv(dim_h, dim_out)\n",
    "        \n",
    "#     def forward(self, x, edge_index):\n",
    "#         h = self.sage1(x, edge_index)\n",
    "#         h = F.elu(h)\n",
    "#         h = F.dropout(h, p=0.6, training=True)\n",
    "#         # h = self.sage2(h,edge_index)\n",
    "#         # h = F.elu(h)\n",
    "#         h = self.sage3(h, edge_index)\n",
    "#         # h= F.sigmoid(h)\n",
    "\n",
    "#         return h"
   ]
  },
  {
   "cell_type": "code",
   "execution_count": 23,
   "metadata": {},
   "outputs": [],
   "source": [
    "# import torch.nn.functional as F\n",
    "# from torch.nn import Linear, Dropout\n",
    "# from torch_geometric.nn import GCNConv, GATv2Conv\n",
    "# import torch\n",
    "# torch.manual_seed(-1)\n",
    "\n",
    "# from torch_geometric.nn import SAGEConv\n",
    "\n",
    "# from sklearn.metrics import f1_score\n",
    "\n",
    "# device = torch.device('cuda' if torch.cuda.is_available() else 'cpu')\n",
    "\n",
    "# class GAT(torch.nn.Module):\n",
    "#   \"\"\"Graph Attention Network\"\"\"\n",
    "#   def __init__(self, dim_in, dim_h, dim_out, heads=8):\n",
    "#     super().__init__()\n",
    "#     self.gat1 = GATv2Conv(dim_in, dim_h, heads=heads)\n",
    "#     self.gat2 = GATv2Conv(dim_h*heads, dim_out, heads=1)\n",
    "# #     self.gat3 = GATv2Conv(dim_h*heads, dim_h, heads=heads)\n",
    "# #     self.gat4 = GATv2Conv(dim_h*heads, dim_h, heads=heads)\n",
    "# #     self.gat5 = GATv2Conv(dim_h*heads, dim_out, heads=heads)\n",
    "\n",
    "\n",
    "#   def forward(self, data):\n",
    "#     h = self.gat1(x = data.x, edge_index= data.edge_index, edge_attr=data.edge_attr)\n",
    "#     # h = F.dropout(h, p=0.5, training=self.training)\n",
    "#     h = F.elu(h)\n",
    "#     h = self.gat2(x = h, edge_index= data.edge_index, edge_attr=data.edge_attr)\n",
    "# #     h = F.elu(h)\n",
    "# #     h = self.gat3(x = h, edge_index= data.edge_index, edge_attr=data.edge_attr)\n",
    "# #     h = F.elu(h)\n",
    "# #     h = self.gat4(x = h, edge_index= data.edge_index, edge_attr=data.edge_attr)\n",
    "# #     h = F.elu(h)\n",
    "# #     h = self.gat5(x = h, edge_index= data.edge_index, edge_attr=data.edge_attr)\n",
    "#     return h\n",
    "# device = torch.device('cuda' if torch.cuda.is_available() else 'cpu')\n",
    "# model= GAT(dim_h=cfg.h_dim,dim_in=cfg.in_dim,dim_out=cfg.out_dim,heads=12).to(device)"
   ]
  },
  {
   "cell_type": "markdown",
   "metadata": {},
   "source": [
    "# 모델 커스터마이징"
   ]
  },
  {
   "cell_type": "code",
   "execution_count": 8,
   "metadata": {},
   "outputs": [],
   "source": [
    "import torch\n",
    "torch.manual_seed(-1)\n",
    "import torch.nn.functional as F\n",
    "from torch_geometric.nn import SAGEConv\n",
    "import torch.nn as nn\n",
    "from sklearn.metrics import f1_score, accuracy_score\n",
    "from torch_geometric.nn import GIN, GAT\n",
    "\n",
    "class customGAT(torch.nn.Module):\n",
    "    \n",
    "    def __init__(self, in_channels, hidden_channels, num_layers,out_channels):\n",
    "        super(customGAT,self).__init__()\n",
    "        self.GAT = GAT(in_channels=in_channels,hidden_channels=hidden_channels,num_layers=num_layers,out_channels=out_channels)\n",
    "        # self.fc1 = nn.Linear(out_channels,out_channels)\n",
    "    def forward(self,data):\n",
    "        GAT_output = self.GAT(x = data.x, edge_index= data.edge_index)\n",
    "        # x = torch.relu(sage_output)\n",
    "        # x = self.fc1(x)\n",
    "        return GAT_output\n",
    "    \n",
    "device = torch.device('cuda' if torch.cuda.is_available() else 'cpu')\n",
    "model = customGAT(in_channels=cfg.in_dim,hidden_channels=cfg.h_dim,num_layers=cfg.num_layers,out_channels=cfg.out_dim).to(device)"
   ]
  },
  {
   "cell_type": "markdown",
   "metadata": {},
   "source": [
    "# 모델 output 확인"
   ]
  },
  {
   "cell_type": "code",
   "execution_count": 16,
   "metadata": {},
   "outputs": [],
   "source": [
    "# m= model(lst[0].to(device))\n",
    "# print(sum(F.sigmoid(m)>0.5))\n",
    "\n",
    "# print(m.size())\n",
    "# print(sum(lst[0].y))"
   ]
  },
  {
   "cell_type": "markdown",
   "metadata": {},
   "source": [
    "# Train"
   ]
  },
  {
   "cell_type": "code",
   "execution_count": 17,
   "metadata": {
    "executionInfo": {
     "elapsed": 1,
     "status": "ok",
     "timestamp": 1715667255258,
     "user": {
      "displayName": "김대건",
      "userId": "14940767608385150906"
     },
     "user_tz": -540
    },
    "id": "WZHyTnwDlhh-"
   },
   "outputs": [],
   "source": [
    "# def accuracy(pred_y, y):\n",
    "#     \"\"\"정확도 계산\"\"\"\n",
    "#     return ((pred_y == y).sum() / len(y)).item()\n",
    "\n",
    "\n",
    "# def train():\n",
    "#     model.train()\n",
    "\n",
    "#     total_loss = 0\n",
    "#     for data in train_loader:\n",
    "        \n",
    "#         data = data.to(device)\n",
    "#         optimizer.zero_grad()\n",
    "        \n",
    "#         out = model(data.x, data.edge_index)\n",
    "#         loss = criterion(out, data.y)\n",
    "#         # total_loss += loss.item() * data.num_graphs\n",
    "#         loss.backward()\n",
    "#         optimizer.step()\n",
    "        \n",
    "#     return total_loss / len(train_loader.dataset)\n",
    "\n",
    "\n",
    "\n",
    "# @torch.no_grad()\n",
    "# def test(loader):\n",
    "#     model.eval()\n",
    "    \n",
    "#     ys, preds = [], [] \n",
    "    \n",
    "#     for data in loader:\n",
    "        \n",
    "#         out = model(data.x.to(device), data.edge_index.to(device))\n",
    "#         out = torch.argmax(out, dim=1)\n",
    "#         preds.append((out > 0).float().cpu())\n",
    "        \n",
    "#         y, pred = torch.cat(ys, dim=0).numpy().squeeze(), torch.cat(preds, dim=0).numpy()\n",
    "#     print(y.sum(), pred.sum())\n",
    "    \n",
    "#     return f1_score(y, pred, average='micro') if pred.sum() > 0 else 0"
   ]
  },
  {
   "cell_type": "code",
   "execution_count": 18,
   "metadata": {
    "colab": {
     "base_uri": "https://localhost:8080/"
    },
    "executionInfo": {
     "elapsed": 635962,
     "status": "ok",
     "timestamp": 1715667892402,
     "user": {
      "displayName": "김대건",
      "userId": "14940767608385150906"
     },
     "user_tz": -540
    },
    "id": "tA2-1zqglk1O",
    "outputId": "26c7191d-f2f5-442e-8904-842a2300150f"
   },
   "outputs": [],
   "source": [
    "# from tqdm import tqdm\n",
    "# for epoch in tqdm(range(10)):\n",
    "#     loss = fit()\n",
    "#     val_f1 = test(test_loader)\n",
    "#     if epoch % 1 == 0:\n",
    "#         print(f'Epoch {epoch:>3} | Train Loss: {loss:.3f} | Test F1-score: {val_f1:.4f}')\n",
    "#         # print(f'Epoch {epoch:>3} | Train Loss: {loss:.3f} | Val F1-score: {val_f1:.4f}')\n",
    "\n",
    "# # print(f'Test F1-score: {test(test_loader):.4f}')"
   ]
  },
  {
   "cell_type": "code",
   "execution_count": 11,
   "metadata": {},
   "outputs": [],
   "source": [
    "def train(loader):\n",
    "    \n",
    "    model.train()\n",
    "    total_loss = 0\n",
    "    \n",
    "    for i,data in enumerate(loader,0):\n",
    "        \n",
    "        data = data.to(device)\n",
    "        optimizer.zero_grad()\n",
    "        \n",
    "        out = model(data)\n",
    "        loss = criterion(out, data.y)\n",
    "        loss.backward()\n",
    "        optimizer.step()\n",
    "        \n",
    "        total_loss += loss.item()\n",
    "    \n",
    "    return total_loss/ len(loader)\n",
    "    \n",
    "\n",
    "def test(loader):\n",
    "    \n",
    "\n",
    "    model.eval()\n",
    "    predict = list()\n",
    "    actual = list()\n",
    "    with torch.no_grad():\n",
    "        for _, data in enumerate(loader,0):\n",
    "            data = data.to(device)\n",
    "            out = model(data)\n",
    "            m = nn.Sigmoid()\n",
    "            preds = (m(out)>0.5).float().cpu().numpy()\n",
    "            y = data.y.cpu().numpy()\n",
    "            \n",
    "            predict.append(preds)\n",
    "            actual.append(y)\n",
    "            \n",
    "    predictions, actuals = vstack(predict), vstack(actual)\n",
    "    acc = accuracy_score(actuals, predictions),f1_score(actuals, predictions,pos_label=1,average='binary')\n",
    "\n",
    "            # total += sum(out==data.y)/len(data.y)\n",
    "            # print(sum(out==data.y)/len(data.y))\n",
    "            # cnt +=1\n",
    "    return acc "
   ]
  },
  {
   "cell_type": "code",
   "execution_count": 10,
   "metadata": {},
   "outputs": [],
   "source": [
    "del testedges\n",
    "del testedges_attr\n",
    "del testnodes\n",
    "del testlabels\n",
    "\n",
    "\n",
    "del edges\n",
    "del edges_attr\n",
    "del nodes\n",
    "del labels\n",
    "\n",
    "del lst\n",
    "del testlst"
   ]
  },
  {
   "cell_type": "code",
   "execution_count": 12,
   "metadata": {},
   "outputs": [
    {
     "name": "stderr",
     "output_type": "stream",
     "text": [
      "  0%|          | 1/2000 [00:01<43:17,  1.30s/it]"
     ]
    },
    {
     "name": "stdout",
     "output_type": "stream",
     "text": [
      "Train Loss: 1129.852 | Test acc: 0.379 | Test f1: 0.549| best_epoch: 0.000 | Best Acc: 0.379 \n"
     ]
    },
    {
     "name": "stderr",
     "output_type": "stream",
     "text": [
      "  3%|▎         | 51/2000 [00:27<16:59,  1.91it/s]"
     ]
    },
    {
     "name": "stdout",
     "output_type": "stream",
     "text": [
      "Train Loss: 1.405 | Test acc: 0.611 | Test f1: 0.078| best_epoch: 46.000 | Best Acc: 0.620 \n"
     ]
    },
    {
     "name": "stderr",
     "output_type": "stream",
     "text": [
      "  5%|▌         | 101/2000 [00:53<16:38,  1.90it/s]"
     ]
    },
    {
     "name": "stdout",
     "output_type": "stream",
     "text": [
      "Train Loss: 0.680 | Test acc: 0.620 | Test f1: 0.018| best_epoch: 95.000 | Best Acc: 0.620 \n"
     ]
    },
    {
     "name": "stderr",
     "output_type": "stream",
     "text": [
      "  8%|▊         | 151/2000 [01:19<16:14,  1.90it/s]"
     ]
    },
    {
     "name": "stdout",
     "output_type": "stream",
     "text": [
      "Train Loss: 1.123 | Test acc: 0.620 | Test f1: 0.018| best_epoch: 134.000 | Best Acc: 0.620 \n"
     ]
    },
    {
     "name": "stderr",
     "output_type": "stream",
     "text": [
      " 10%|█         | 201/2000 [01:46<15:50,  1.89it/s]"
     ]
    },
    {
     "name": "stdout",
     "output_type": "stream",
     "text": [
      "Train Loss: 3.692 | Test acc: 0.593 | Test f1: 0.185| best_epoch: 170.000 | Best Acc: 0.621 \n"
     ]
    },
    {
     "name": "stderr",
     "output_type": "stream",
     "text": [
      " 13%|█▎        | 251/2000 [02:12<15:08,  1.93it/s]"
     ]
    },
    {
     "name": "stdout",
     "output_type": "stream",
     "text": [
      "Train Loss: 3.186 | Test acc: 0.618 | Test f1: 0.037| best_epoch: 170.000 | Best Acc: 0.621 \n"
     ]
    },
    {
     "name": "stderr",
     "output_type": "stream",
     "text": [
      " 15%|█▌        | 301/2000 [02:38<14:43,  1.92it/s]"
     ]
    },
    {
     "name": "stdout",
     "output_type": "stream",
     "text": [
      "Train Loss: 0.664 | Test acc: 0.620 | Test f1: 0.018| best_epoch: 170.000 | Best Acc: 0.621 \n"
     ]
    },
    {
     "name": "stderr",
     "output_type": "stream",
     "text": [
      " 18%|█▊        | 351/2000 [03:04<14:29,  1.90it/s]"
     ]
    },
    {
     "name": "stdout",
     "output_type": "stream",
     "text": [
      "Train Loss: 0.664 | Test acc: 0.620 | Test f1: 0.018| best_epoch: 170.000 | Best Acc: 0.621 \n"
     ]
    },
    {
     "name": "stderr",
     "output_type": "stream",
     "text": [
      " 20%|██        | 401/2000 [03:30<13:56,  1.91it/s]"
     ]
    },
    {
     "name": "stdout",
     "output_type": "stream",
     "text": [
      "Train Loss: 0.663 | Test acc: 0.621 | Test f1: 0.015| best_epoch: 400.000 | Best Acc: 0.621 \n"
     ]
    },
    {
     "name": "stderr",
     "output_type": "stream",
     "text": [
      " 23%|██▎       | 451/2000 [03:56<13:24,  1.92it/s]"
     ]
    },
    {
     "name": "stdout",
     "output_type": "stream",
     "text": [
      "Train Loss: 0.663 | Test acc: 0.621 | Test f1: 0.014| best_epoch: 444.000 | Best Acc: 0.621 \n"
     ]
    },
    {
     "name": "stderr",
     "output_type": "stream",
     "text": [
      " 25%|██▌       | 501/2000 [04:22<13:03,  1.91it/s]"
     ]
    },
    {
     "name": "stdout",
     "output_type": "stream",
     "text": [
      "Train Loss: 0.665 | Test acc: 0.620 | Test f1: 0.016| best_epoch: 444.000 | Best Acc: 0.621 \n"
     ]
    },
    {
     "name": "stderr",
     "output_type": "stream",
     "text": [
      " 28%|██▊       | 551/2000 [04:48<12:29,  1.93it/s]"
     ]
    },
    {
     "name": "stdout",
     "output_type": "stream",
     "text": [
      "Train Loss: 0.664 | Test acc: 0.620 | Test f1: 0.016| best_epoch: 444.000 | Best Acc: 0.621 \n"
     ]
    },
    {
     "name": "stderr",
     "output_type": "stream",
     "text": [
      " 30%|███       | 601/2000 [05:14<12:08,  1.92it/s]"
     ]
    },
    {
     "name": "stdout",
     "output_type": "stream",
     "text": [
      "Train Loss: 0.664 | Test acc: 0.620 | Test f1: 0.017| best_epoch: 559.000 | Best Acc: 0.621 \n"
     ]
    },
    {
     "name": "stderr",
     "output_type": "stream",
     "text": [
      " 33%|███▎      | 651/2000 [05:40<11:46,  1.91it/s]"
     ]
    },
    {
     "name": "stdout",
     "output_type": "stream",
     "text": [
      "Train Loss: 0.664 | Test acc: 0.620 | Test f1: 0.016| best_epoch: 559.000 | Best Acc: 0.621 \n"
     ]
    },
    {
     "name": "stderr",
     "output_type": "stream",
     "text": [
      " 35%|███▌      | 701/2000 [06:06<11:15,  1.92it/s]"
     ]
    },
    {
     "name": "stdout",
     "output_type": "stream",
     "text": [
      "Train Loss: 0.663 | Test acc: 0.621 | Test f1: 0.019| best_epoch: 559.000 | Best Acc: 0.621 \n"
     ]
    },
    {
     "name": "stderr",
     "output_type": "stream",
     "text": [
      " 38%|███▊      | 751/2000 [06:32<10:48,  1.93it/s]"
     ]
    },
    {
     "name": "stdout",
     "output_type": "stream",
     "text": [
      "Train Loss: 0.663 | Test acc: 0.620 | Test f1: 0.018| best_epoch: 559.000 | Best Acc: 0.621 \n"
     ]
    },
    {
     "name": "stderr",
     "output_type": "stream",
     "text": [
      " 40%|████      | 801/2000 [06:58<10:20,  1.93it/s]"
     ]
    },
    {
     "name": "stdout",
     "output_type": "stream",
     "text": [
      "Train Loss: 0.663 | Test acc: 0.620 | Test f1: 0.022| best_epoch: 774.000 | Best Acc: 0.621 \n"
     ]
    },
    {
     "name": "stderr",
     "output_type": "stream",
     "text": [
      " 43%|████▎     | 851/2000 [07:24<09:57,  1.92it/s]"
     ]
    },
    {
     "name": "stdout",
     "output_type": "stream",
     "text": [
      "Train Loss: 0.661 | Test acc: 0.621 | Test f1: 0.031| best_epoch: 840.000 | Best Acc: 0.622 \n"
     ]
    },
    {
     "name": "stderr",
     "output_type": "stream",
     "text": [
      " 45%|████▌     | 901/2000 [07:50<09:35,  1.91it/s]"
     ]
    },
    {
     "name": "stdout",
     "output_type": "stream",
     "text": [
      "Train Loss: 0.661 | Test acc: 0.621 | Test f1: 0.031| best_epoch: 840.000 | Best Acc: 0.622 \n"
     ]
    },
    {
     "name": "stderr",
     "output_type": "stream",
     "text": [
      " 48%|████▊     | 951/2000 [08:16<09:04,  1.93it/s]"
     ]
    },
    {
     "name": "stdout",
     "output_type": "stream",
     "text": [
      "Train Loss: 0.660 | Test acc: 0.621 | Test f1: 0.032| best_epoch: 840.000 | Best Acc: 0.622 \n"
     ]
    },
    {
     "name": "stderr",
     "output_type": "stream",
     "text": [
      " 50%|█████     | 1001/2000 [08:42<08:37,  1.93it/s]"
     ]
    },
    {
     "name": "stdout",
     "output_type": "stream",
     "text": [
      "Train Loss: 0.660 | Test acc: 0.621 | Test f1: 0.032| best_epoch: 968.000 | Best Acc: 0.622 \n"
     ]
    },
    {
     "name": "stderr",
     "output_type": "stream",
     "text": [
      " 53%|█████▎    | 1051/2000 [09:08<08:16,  1.91it/s]"
     ]
    },
    {
     "name": "stdout",
     "output_type": "stream",
     "text": [
      "Train Loss: 0.660 | Test acc: 0.621 | Test f1: 0.042| best_epoch: 1026.000 | Best Acc: 0.622 \n"
     ]
    },
    {
     "name": "stderr",
     "output_type": "stream",
     "text": [
      " 55%|█████▌    | 1101/2000 [09:34<07:55,  1.89it/s]"
     ]
    },
    {
     "name": "stdout",
     "output_type": "stream",
     "text": [
      "Train Loss: 0.657 | Test acc: 0.622 | Test f1: 0.043| best_epoch: 1026.000 | Best Acc: 0.622 \n"
     ]
    },
    {
     "name": "stderr",
     "output_type": "stream",
     "text": [
      " 58%|█████▊    | 1151/2000 [10:00<07:21,  1.92it/s]"
     ]
    },
    {
     "name": "stdout",
     "output_type": "stream",
     "text": [
      "Train Loss: 0.657 | Test acc: 0.622 | Test f1: 0.044| best_epoch: 1026.000 | Best Acc: 0.622 \n"
     ]
    },
    {
     "name": "stderr",
     "output_type": "stream",
     "text": [
      " 60%|██████    | 1201/2000 [10:26<06:55,  1.92it/s]"
     ]
    },
    {
     "name": "stdout",
     "output_type": "stream",
     "text": [
      "Train Loss: 0.659 | Test acc: 0.622 | Test f1: 0.049| best_epoch: 1177.000 | Best Acc: 0.622 \n"
     ]
    },
    {
     "name": "stderr",
     "output_type": "stream",
     "text": [
      " 63%|██████▎   | 1251/2000 [10:52<06:33,  1.91it/s]"
     ]
    },
    {
     "name": "stdout",
     "output_type": "stream",
     "text": [
      "Train Loss: 0.658 | Test acc: 0.622 | Test f1: 0.057| best_epoch: 1228.000 | Best Acc: 0.623 \n"
     ]
    },
    {
     "name": "stderr",
     "output_type": "stream",
     "text": [
      " 65%|██████▌   | 1301/2000 [11:18<06:02,  1.93it/s]"
     ]
    },
    {
     "name": "stdout",
     "output_type": "stream",
     "text": [
      "Train Loss: 0.657 | Test acc: 0.622 | Test f1: 0.058| best_epoch: 1228.000 | Best Acc: 0.623 \n"
     ]
    },
    {
     "name": "stderr",
     "output_type": "stream",
     "text": [
      " 68%|██████▊   | 1351/2000 [11:45<05:41,  1.90it/s]"
     ]
    },
    {
     "name": "stdout",
     "output_type": "stream",
     "text": [
      "Train Loss: 0.657 | Test acc: 0.623 | Test f1: 0.061| best_epoch: 1228.000 | Best Acc: 0.623 \n"
     ]
    },
    {
     "name": "stderr",
     "output_type": "stream",
     "text": [
      " 70%|███████   | 1401/2000 [12:11<05:10,  1.93it/s]"
     ]
    },
    {
     "name": "stdout",
     "output_type": "stream",
     "text": [
      "Train Loss: 0.658 | Test acc: 0.624 | Test f1: 0.070| best_epoch: 1377.000 | Best Acc: 0.624 \n"
     ]
    },
    {
     "name": "stderr",
     "output_type": "stream",
     "text": [
      " 73%|███████▎  | 1451/2000 [12:37<04:45,  1.92it/s]"
     ]
    },
    {
     "name": "stdout",
     "output_type": "stream",
     "text": [
      "Train Loss: 0.658 | Test acc: 0.622 | Test f1: 0.040| best_epoch: 1377.000 | Best Acc: 0.624 \n"
     ]
    },
    {
     "name": "stderr",
     "output_type": "stream",
     "text": [
      " 75%|███████▌  | 1501/2000 [13:03<04:22,  1.90it/s]"
     ]
    },
    {
     "name": "stdout",
     "output_type": "stream",
     "text": [
      "Train Loss: 0.657 | Test acc: 0.622 | Test f1: 0.046| best_epoch: 1377.000 | Best Acc: 0.624 \n"
     ]
    },
    {
     "name": "stderr",
     "output_type": "stream",
     "text": [
      " 78%|███████▊  | 1551/2000 [13:29<03:52,  1.93it/s]"
     ]
    },
    {
     "name": "stdout",
     "output_type": "stream",
     "text": [
      "Train Loss: 0.657 | Test acc: 0.623 | Test f1: 0.051| best_epoch: 1377.000 | Best Acc: 0.624 \n"
     ]
    },
    {
     "name": "stderr",
     "output_type": "stream",
     "text": [
      " 80%|████████  | 1601/2000 [13:55<03:28,  1.91it/s]"
     ]
    },
    {
     "name": "stdout",
     "output_type": "stream",
     "text": [
      "Train Loss: 0.660 | Test acc: 0.619 | Test f1: 0.051| best_epoch: 1377.000 | Best Acc: 0.624 \n"
     ]
    },
    {
     "name": "stderr",
     "output_type": "stream",
     "text": [
      " 83%|████████▎ | 1651/2000 [14:21<03:01,  1.92it/s]"
     ]
    },
    {
     "name": "stdout",
     "output_type": "stream",
     "text": [
      "Train Loss: 0.656 | Test acc: 0.623 | Test f1: 0.067| best_epoch: 1377.000 | Best Acc: 0.624 \n"
     ]
    },
    {
     "name": "stderr",
     "output_type": "stream",
     "text": [
      " 85%|████████▌ | 1701/2000 [14:47<02:34,  1.93it/s]"
     ]
    },
    {
     "name": "stdout",
     "output_type": "stream",
     "text": [
      "Train Loss: 0.655 | Test acc: 0.623 | Test f1: 0.067| best_epoch: 1377.000 | Best Acc: 0.624 \n"
     ]
    },
    {
     "name": "stderr",
     "output_type": "stream",
     "text": [
      " 88%|████████▊ | 1751/2000 [15:13<02:09,  1.92it/s]"
     ]
    },
    {
     "name": "stdout",
     "output_type": "stream",
     "text": [
      "Train Loss: 0.655 | Test acc: 0.624 | Test f1: 0.069| best_epoch: 1377.000 | Best Acc: 0.624 \n"
     ]
    },
    {
     "name": "stderr",
     "output_type": "stream",
     "text": [
      " 90%|█████████ | 1801/2000 [15:39<01:44,  1.90it/s]"
     ]
    },
    {
     "name": "stdout",
     "output_type": "stream",
     "text": [
      "Train Loss: 0.653 | Test acc: 0.624 | Test f1: 0.079| best_epoch: 1798.000 | Best Acc: 0.624 \n"
     ]
    },
    {
     "name": "stderr",
     "output_type": "stream",
     "text": [
      " 93%|█████████▎| 1851/2000 [16:05<01:17,  1.92it/s]"
     ]
    },
    {
     "name": "stdout",
     "output_type": "stream",
     "text": [
      "Train Loss: 0.652 | Test acc: 0.625 | Test f1: 0.087| best_epoch: 1846.000 | Best Acc: 0.625 \n"
     ]
    },
    {
     "name": "stderr",
     "output_type": "stream",
     "text": [
      " 95%|█████████▌| 1901/2000 [16:31<00:51,  1.93it/s]"
     ]
    },
    {
     "name": "stdout",
     "output_type": "stream",
     "text": [
      "Train Loss: 0.652 | Test acc: 0.625 | Test f1: 0.090| best_epoch: 1888.000 | Best Acc: 0.625 \n"
     ]
    },
    {
     "name": "stderr",
     "output_type": "stream",
     "text": [
      " 98%|█████████▊| 1951/2000 [16:58<00:25,  1.92it/s]"
     ]
    },
    {
     "name": "stdout",
     "output_type": "stream",
     "text": [
      "Train Loss: 0.652 | Test acc: 0.625 | Test f1: 0.092| best_epoch: 1950.000 | Best Acc: 0.625 \n"
     ]
    },
    {
     "name": "stderr",
     "output_type": "stream",
     "text": [
      "100%|██████████| 2000/2000 [17:23<00:00,  1.92it/s]\n"
     ]
    }
   ],
   "source": [
    "from tqdm import tqdm\n",
    "from numpy import vstack\n",
    "\n",
    "\n",
    "# model = GraphSAGE(dim_in=lst[0].num_features,dim_h=128,dim_out=1).to(device)\n",
    "# model = GAT(dim_in=lst[0].num_features,dim_h=64,dim_out=1).to(device)\n",
    "criterion = torch.nn.BCEWithLogitsLoss().to(device)\n",
    "optimizer = torch.optim.AdamW(model.parameters(), lr=0.0005)\n",
    "scheduler = torch.optim.lr_scheduler.CosineAnnealingLR(optimizer, T_max=100, eta_min=0)\n",
    "best_acc = 0\n",
    "best_epoch = 0\n",
    "best_f1 = 0\n",
    "for epoch in tqdm(range(2000)):\n",
    "    loss = train(train_loader)\n",
    "    acc,f1 = test(test_loader)\n",
    "    \n",
    "    scheduler.step()\n",
    "    \n",
    "    \n",
    "    if acc > best_acc :\n",
    "        best_f1 = f1\n",
    "        best_acc = acc\n",
    "        best_epoch=epoch\n",
    "        \n",
    "        torch.save(model.state_dict(), '/home/work/kdg_folder/work_kisti/kisti-GraphSAGE-1/best_model(no_attr).pth')\n",
    "\n",
    "    if epoch %50 == 0:\n",
    "        print(f'Train Loss: {loss:.3f} |  Best_epoch: {best_epoch:.3f} | Best Acc: {best_acc:.3f} |Best f1: {best_f1:.3f} ')\n",
    "        # print(f'Train Loss: {loss:.3f} | Test acc: {acc.item():.3f} ')\n",
    "        # print(f'Train Loss: {loss:.3f}')\n",
    "    \n",
    "    "
   ]
  },
  {
   "cell_type": "code",
   "execution_count": null,
   "metadata": {},
   "outputs": [
    {
     "data": {
      "text/plain": [
       "tensor([50347.])"
      ]
     },
     "execution_count": 17,
     "metadata": {},
     "output_type": "execute_result"
    }
   ],
   "source": [
    "sum(testlabels['label0'])"
   ]
  },
  {
   "cell_type": "code",
   "execution_count": null,
   "metadata": {},
   "outputs": [
    {
     "data": {
      "text/plain": [
       "0.47286610564279813"
      ]
     },
     "execution_count": 18,
     "metadata": {},
     "output_type": "execute_result"
    }
   ],
   "source": [
    "50347/106472"
   ]
  },
  {
   "cell_type": "code",
   "execution_count": null,
   "metadata": {},
   "outputs": [
    {
     "data": {
      "text/plain": [
       "0.5271338943572019"
      ]
     },
     "execution_count": 19,
     "metadata": {},
     "output_type": "execute_result"
    }
   ],
   "source": [
    "1-0.47286610564279813"
   ]
  },
  {
   "cell_type": "code",
   "execution_count": null,
   "metadata": {},
   "outputs": [
    {
     "data": {
      "text/plain": [
       "False"
      ]
     },
     "execution_count": 29,
     "metadata": {},
     "output_type": "execute_result"
    }
   ],
   "source": [
    "lst[0].is_undirected()"
   ]
  },
  {
   "cell_type": "markdown",
   "metadata": {},
   "source": [
    "# example"
   ]
  },
  {
   "cell_type": "code",
   "execution_count": null,
   "metadata": {},
   "outputs": [],
   "source": [
    "# import torch\n",
    "# from sklearn.metrics import f1_score\n",
    "# from torch_geometric.nn import GraphSAGE\n",
    " \n",
    "# device = torch.device('cuda' if torch.cuda.is_available() else 'cpu')\n",
    " \n",
    "# model = GraphSAGE(\n",
    "#     in_channels=train_dataset.num_features,\n",
    "#     hidden_channels=512,\n",
    "#     num_layers=2,\n",
    "#     out_channels=train_dataset.num_classes,\n",
    "# ).to(device)"
   ]
  },
  {
   "cell_type": "code",
   "execution_count": null,
   "metadata": {},
   "outputs": [],
   "source": [
    "# criterion = torch.nn.BCEWithLogitsLoss()\n",
    "# optimizer = torch.optim.Adam(model.parameters(), lr=0.005)\n",
    " \n",
    "# def fit():\n",
    "#     model.train()\n",
    " \n",
    "#     total_loss = 0\n",
    "#     for data in train_loader:\n",
    "#         data = data.to(device)\n",
    "#         optimizer.zero_grad()\n",
    "        \n",
    "#         out = model(data.x, data.edge_index)\n",
    "#         loss = criterion(out, data.y)\n",
    "        \n",
    "#         total_loss += loss.item() * data.num_graphs\n",
    "        \n",
    "#         loss.backward()\n",
    "#         optimizer.step()\n",
    "        \n",
    "#     return total_loss / len(train_loader.dataset)\n",
    " \n",
    "# @torch.no_grad()\n",
    "# def test(loader):\n",
    "#     model.eval()\n",
    " \n",
    "#     data = next(iter(loader))\n",
    "#     out = model(data.x.to(device), data.edge_index.to(device))\n",
    "#     preds = (out > 0).float().cpu()\n",
    "#     print(preds)\n",
    " \n",
    "#     y, pred = data.y.numpy(), preds.numpy()\n",
    "#     return f1_score(y, pred, average='micro') if pred.sum() > 0 else 0\n",
    " \n",
    "# for epoch in range(301):\n",
    "#     loss = fit()\n",
    "#     val_f1 = test(val_loader)\n",
    "#     if epoch % 50 == 0:\n",
    "#         print(f'Epoch {epoch:>3} | Train Loss: {loss:.3f} | Val F1-score: {val_f1:.4f}')\n",
    " \n",
    "# print(f'Test F1-score: {test(test_loader):.4f}')"
   ]
  },
  {
   "cell_type": "code",
   "execution_count": null,
   "metadata": {},
   "outputs": [],
   "source": [
    "# import torch\n",
    "\n",
    "# def test(test_loader):\n",
    "#     model.eval()\n",
    "#     correct = 0\n",
    "#     total = 0\n",
    "#     with torch.no_grad():\n",
    "#         for data in test_loader:\n",
    "#             data = data.to(device)\n",
    "#             out = model(data)\n",
    "#             preds = (out > 0).float().cpu()  # .cpu()를 추가하여 GPU에서 CPU로 이동\n",
    "#             acc = accuracy_score(data.y.cpu(), preds)  # .cpu()를 추가하여 GPU에서 CPU로 이동\n",
    "#             print(acc)\n",
    "#             total += len(data.y)\n",
    "#             correct += (preds == data.y.cpu()).sum().item()\n",
    "#     return correct / total\n",
    "\n",
    "# # 학습 및 테스트 코드\n",
    "# for epoch in tqdm(range(100)):\n",
    "#     loss = train(train_loader)\n",
    "#     acc = test(test_loader)\n",
    "#     if epoch % 1 == 0:\n",
    "#         print(f'Train Loss: {loss:.3f} | Test acc: {acc:.3f}')\n"
   ]
  }
 ],
 "metadata": {
  "accelerator": "GPU",
  "colab": {
   "gpuType": "T4",
   "provenance": []
  },
  "kernelspec": {
   "display_name": "Python 3",
   "language": "python",
   "name": "python3"
  },
  "language_info": {
   "codemirror_mode": {
    "name": "ipython",
    "version": 3
   },
   "file_extension": ".py",
   "mimetype": "text/x-python",
   "name": "python",
   "nbconvert_exporter": "python",
   "pygments_lexer": "ipython3",
   "version": "3.10.14"
  }
 },
 "nbformat": 4,
 "nbformat_minor": 4
}
