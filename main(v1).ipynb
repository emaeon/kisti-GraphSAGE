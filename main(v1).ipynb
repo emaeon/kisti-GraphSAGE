{
 "cells": [
  {
   "cell_type": "code",
   "execution_count": 46,
   "metadata": {},
   "outputs": [
    {
     "ename": "RuntimeError",
     "evalue": "CUDA error: device-side assert triggered\nCUDA kernel errors might be asynchronously reported at some other API call, so the stacktrace below might be incorrect.\nFor debugging consider passing CUDA_LAUNCH_BLOCKING=1.\nCompile with `TORCH_USE_CUDA_DSA` to enable device-side assertions.\n",
     "output_type": "error",
     "traceback": [
      "\u001b[0;31m---------------------------------------------------------------------------\u001b[0m",
      "\u001b[0;31mRuntimeError\u001b[0m                              Traceback (most recent call last)",
      "\u001b[1;32m/home/work/kdg_folder/work_kisti/main(v1).ipynb Cell 1\u001b[0m line \u001b[0;36m3\n\u001b[1;32m      <a href='vscode-notebook-cell://proxy2.aitrain.ktcloud.com:10423/home/work/kdg_folder/work_kisti/main%28v1%29.ipynb#W0sdnNjb2RlLXJlbW90ZQ%3D%3D?line=0'>1</a>\u001b[0m \u001b[39mimport\u001b[39;00m \u001b[39mtorch\u001b[39;00m\u001b[39m,\u001b[39m \u001b[39mgc\u001b[39;00m\n\u001b[1;32m      <a href='vscode-notebook-cell://proxy2.aitrain.ktcloud.com:10423/home/work/kdg_folder/work_kisti/main%28v1%29.ipynb#W0sdnNjb2RlLXJlbW90ZQ%3D%3D?line=1'>2</a>\u001b[0m gc\u001b[39m.\u001b[39mcollect()\n\u001b[0;32m----> <a href='vscode-notebook-cell://proxy2.aitrain.ktcloud.com:10423/home/work/kdg_folder/work_kisti/main%28v1%29.ipynb#W0sdnNjb2RlLXJlbW90ZQ%3D%3D?line=2'>3</a>\u001b[0m torch\u001b[39m.\u001b[39;49mcuda\u001b[39m.\u001b[39;49mempty_cache()\n",
      "File \u001b[0;32m~/anaconda3/envs/main/lib/python3.10/site-packages/torch/cuda/memory.py:162\u001b[0m, in \u001b[0;36mempty_cache\u001b[0;34m()\u001b[0m\n\u001b[1;32m    151\u001b[0m \u001b[39m\u001b[39m\u001b[39mr\u001b[39m\u001b[39m\"\"\"Release all unoccupied cached memory currently held by the caching\u001b[39;00m\n\u001b[1;32m    152\u001b[0m \u001b[39mallocator so that those can be used in other GPU application and visible in\u001b[39;00m\n\u001b[1;32m    153\u001b[0m \u001b[39m`nvidia-smi`.\u001b[39;00m\n\u001b[0;32m   (...)\u001b[0m\n\u001b[1;32m    159\u001b[0m \u001b[39m    more details about GPU memory management.\u001b[39;00m\n\u001b[1;32m    160\u001b[0m \u001b[39m\"\"\"\u001b[39;00m\n\u001b[1;32m    161\u001b[0m \u001b[39mif\u001b[39;00m is_initialized():\n\u001b[0;32m--> 162\u001b[0m     torch\u001b[39m.\u001b[39;49m_C\u001b[39m.\u001b[39;49m_cuda_emptyCache()\n",
      "\u001b[0;31mRuntimeError\u001b[0m: CUDA error: device-side assert triggered\nCUDA kernel errors might be asynchronously reported at some other API call, so the stacktrace below might be incorrect.\nFor debugging consider passing CUDA_LAUNCH_BLOCKING=1.\nCompile with `TORCH_USE_CUDA_DSA` to enable device-side assertions.\n"
     ]
    }
   ],
   "source": [
    "# import torch, gc\n",
    "# gc.collect()\n",
    "# torch.cuda.empty_cache()"
   ]
  },
  {
   "cell_type": "code",
   "execution_count": 1,
   "metadata": {},
   "outputs": [
    {
     "name": "stdout",
     "output_type": "stream",
     "text": [
      "2.3.0\n"
     ]
    }
   ],
   "source": [
    "import os\n",
    "import torch\n",
    "os.environ['TORCH'] = torch.__version__\n",
    "print(torch.__version__)"
   ]
  },
  {
   "cell_type": "code",
   "execution_count": 2,
   "metadata": {},
   "outputs": [],
   "source": [
    "import os\n",
    "os.environ['CUDA_LAUNCH_BLOCKING'] = \"1\""
   ]
  },
  {
   "cell_type": "markdown",
   "metadata": {},
   "source": [
    "# 데이터 로드"
   ]
  },
  {
   "cell_type": "code",
   "execution_count": 2,
   "metadata": {},
   "outputs": [],
   "source": [
    "class config():\n",
    "    def __init__(self):\n",
    "        self.train_edge_file_path = f'/home/work/kdg_folder/work_kisti/학습데이터/edge_train_vs_1.pkl'\n",
    "        self.train_node_file_path = f'/home/work/kdg_folder/work_kisti/학습데이터/node_train_vs_1.pkl'\n",
    "        self.test_edge_file_path = f'/home/work/kdg_folder/work_kisti/학습데이터/edge_test_vs_1.pkl'\n",
    "        self.test_node_file_path = f'/home/work/kdg_folder/work_kisti/학습데이터/node_test_vs_1.pkl'  \n",
    "        self.label_col=19      \n",
    "        self.batch_size=64\n",
    "        self.in_dim=19\n",
    "        self.h_dim=256\n",
    "        self.num_layers=5\n",
    "        self.out_dim=1\n",
    "\n",
    "cfg = config()"
   ]
  },
  {
   "cell_type": "code",
   "execution_count": 3,
   "metadata": {},
   "outputs": [],
   "source": [
    "#train\n",
    "import pandas as pd\n",
    "\n",
    "# 딕셔너리를 사용하여 edge 데이터를 저장\n",
    "edges = {}\n",
    "nodes = {}\n",
    "labels = {}\n",
    "\n",
    "for i in range(1):\n",
    "    edge_file_path = cfg.train_edge_file_path\n",
    "    node_file_path = cfg.train_node_file_path\n",
    "    \n",
    "    edges[f'edge{i}'] = pd.read_pickle(edge_file_path)\n",
    "    nodes[f'node{i}'] = pd.read_pickle(node_file_path)\n",
    "    \n",
    "    labels[f'label{i}'] = pd.DataFrame(nodes[f'node{i}'].iloc[:,cfg.label_col])\n",
    "    nodes[f'node{i}'] = nodes[f'node{i}'].iloc[:,:cfg.label_col]"
   ]
  },
  {
   "cell_type": "code",
   "execution_count": 5,
   "metadata": {},
   "outputs": [],
   "source": [
    "#test\n",
    "import pandas as pd\n",
    "\n",
    "# 딕셔너리를 사용하여 edge 데이터를 저장\n",
    "testedges = {}\n",
    "testnodes = {}\n",
    "testlabels = {}\n",
    "\n",
    "for i in range(1):\n",
    "    edge_file_path = cfg.test_edge_file_path\n",
    "    node_file_path = cfg.test_node_file_path\n",
    "    \n",
    "    testedges[f'edge{i}'] = pd.read_pickle(edge_file_path)\n",
    "    testnodes[f'node{i}'] = pd.read_pickle(node_file_path)\n",
    "    \n",
    "    testlabels[f'label{i}'] = pd.DataFrame(testnodes[f'node{i}'].iloc[:,cfg.label_col])\n",
    "    testnodes[f'node{i}'] = testnodes[f'node{i}'].iloc[:,:cfg.label_col]"
   ]
  },
  {
   "cell_type": "code",
   "execution_count": 6,
   "metadata": {},
   "outputs": [
    {
     "data": {
      "text/html": [
       "<div>\n",
       "<style scoped>\n",
       "    .dataframe tbody tr th:only-of-type {\n",
       "        vertical-align: middle;\n",
       "    }\n",
       "\n",
       "    .dataframe tbody tr th {\n",
       "        vertical-align: top;\n",
       "    }\n",
       "\n",
       "    .dataframe thead th {\n",
       "        text-align: right;\n",
       "    }\n",
       "</style>\n",
       "<table border=\"1\" class=\"dataframe\">\n",
       "  <thead>\n",
       "    <tr style=\"text-align: right;\">\n",
       "      <th></th>\n",
       "      <th>19</th>\n",
       "    </tr>\n",
       "  </thead>\n",
       "  <tbody>\n",
       "    <tr>\n",
       "      <th>0</th>\n",
       "      <td>0.0</td>\n",
       "    </tr>\n",
       "    <tr>\n",
       "      <th>1</th>\n",
       "      <td>1.0</td>\n",
       "    </tr>\n",
       "    <tr>\n",
       "      <th>2</th>\n",
       "      <td>0.0</td>\n",
       "    </tr>\n",
       "    <tr>\n",
       "      <th>3</th>\n",
       "      <td>1.0</td>\n",
       "    </tr>\n",
       "    <tr>\n",
       "      <th>4</th>\n",
       "      <td>0.0</td>\n",
       "    </tr>\n",
       "    <tr>\n",
       "      <th>...</th>\n",
       "      <td>...</td>\n",
       "    </tr>\n",
       "    <tr>\n",
       "      <th>145780</th>\n",
       "      <td>0.0</td>\n",
       "    </tr>\n",
       "    <tr>\n",
       "      <th>145781</th>\n",
       "      <td>0.0</td>\n",
       "    </tr>\n",
       "    <tr>\n",
       "      <th>145782</th>\n",
       "      <td>0.0</td>\n",
       "    </tr>\n",
       "    <tr>\n",
       "      <th>145783</th>\n",
       "      <td>1.0</td>\n",
       "    </tr>\n",
       "    <tr>\n",
       "      <th>145784</th>\n",
       "      <td>1.0</td>\n",
       "    </tr>\n",
       "  </tbody>\n",
       "</table>\n",
       "<p>145785 rows × 1 columns</p>\n",
       "</div>"
      ],
      "text/plain": [
       "         19\n",
       "0       0.0\n",
       "1       1.0\n",
       "2       0.0\n",
       "3       1.0\n",
       "4       0.0\n",
       "...     ...\n",
       "145780  0.0\n",
       "145781  0.0\n",
       "145782  0.0\n",
       "145783  1.0\n",
       "145784  1.0\n",
       "\n",
       "[145785 rows x 1 columns]"
      ]
     },
     "execution_count": 6,
     "metadata": {},
     "output_type": "execute_result"
    }
   ],
   "source": [
    "labels['label0']"
   ]
  },
  {
   "cell_type": "code",
   "execution_count": 6,
   "metadata": {},
   "outputs": [],
   "source": [
    "for i in range(1):\n",
    "    edges[f'edge{i}'] = edges[f'edge{i}'].values\n",
    "    edges[f'edge{i}'] = torch.from_numpy(edges[f'edge{i}']).long()\n",
    "\n",
    "    nodes[f'node{i}'] = nodes[f'node{i}'].values\n",
    "    nodes[f'node{i}'] = torch.from_numpy(nodes[f'node{i}']).float()\n",
    "    \n",
    "    labels[f'label{i}'] = labels[f'label{i}'].values\n",
    "    labels[f'label{i}'] = torch.from_numpy(labels[f'label{i}']).float()    \n",
    "\n",
    "\n",
    "\n",
    "for i in range(1):\n",
    "    testedges[f'edge{i}'] = testedges[f'edge{i}'].values\n",
    "    testedges[f'edge{i}'] = torch.from_numpy(testedges[f'edge{i}']).long()\n",
    "\n",
    "    testnodes[f'node{i}'] = testnodes[f'node{i}'].values\n",
    "    testnodes[f'node{i}'] = torch.from_numpy(testnodes[f'node{i}']).float()\n",
    "    \n",
    "    testlabels[f'label{i}'] = testlabels[f'label{i}'].values\n",
    "    testlabels[f'label{i}'] = torch.from_numpy(testlabels[f'label{i}']).float()     "
   ]
  },
  {
   "cell_type": "code",
   "execution_count": 8,
   "metadata": {},
   "outputs": [
    {
     "data": {
      "text/plain": [
       "torch.Size([145785, 1])"
      ]
     },
     "execution_count": 8,
     "metadata": {},
     "output_type": "execute_result"
    }
   ],
   "source": [
    "labels['label0'].size()"
   ]
  },
  {
   "cell_type": "code",
   "execution_count": 7,
   "metadata": {},
   "outputs": [
    {
     "name": "stdout",
     "output_type": "stream",
     "text": [
      "torch.int64\n",
      "torch.float32\n",
      "torch.float32\n"
     ]
    }
   ],
   "source": [
    "for i in range(1):\n",
    "    print(edges[f'edge{i}'].dtype)\n",
    "    print(nodes[f'node{i}'].dtype)\n",
    "    print(labels[f'label{i}'].dtype)\n",
    "    "
   ]
  },
  {
   "cell_type": "code",
   "execution_count": 10,
   "metadata": {
    "colab": {
     "base_uri": "https://localhost:8080/"
    },
    "executionInfo": {
     "elapsed": 2,
     "status": "ok",
     "timestamp": 1715666793266,
     "user": {
      "displayName": "김대건",
      "userId": "14940767608385150906"
     },
     "user_tz": -540
    },
    "id": "b55JKcU0i_LM",
    "outputId": "b5f2659f-661b-4203-de21-8b8c0deed723"
   },
   "outputs": [],
   "source": [
    "# print(edge_tensor.size())\n",
    "# print(node_tensor.size())\n",
    "# print(label_tensor.size())\n",
    "# print(edge_tensor.dtype)\n",
    "# print(node_tensor.dtype)\n",
    "# print(label_tensor.dtype)"
   ]
  },
  {
   "cell_type": "markdown",
   "metadata": {},
   "source": [
    "# train data 리스트에 담기"
   ]
  },
  {
   "cell_type": "code",
   "execution_count": 21,
   "metadata": {},
   "outputs": [
    {
     "data": {
      "text/plain": [
       "tensor([[27044],\n",
       "        [23143],\n",
       "        [47466],\n",
       "        ...,\n",
       "        [35066],\n",
       "        [37472],\n",
       "        [43092]])"
      ]
     },
     "execution_count": 21,
     "metadata": {},
     "output_type": "execute_result"
    }
   ],
   "source": [
    "torch.randint(1000,50000,(edges['edge0'].size(1),1))"
   ]
  },
  {
   "cell_type": "code",
   "execution_count": 24,
   "metadata": {
    "executionInfo": {
     "elapsed": 340,
     "status": "ok",
     "timestamp": 1715666802337,
     "user": {
      "displayName": "김대건",
      "userId": "14940767608385150906"
     },
     "user_tz": -540
    },
    "id": "LsttAXN1jdmb"
   },
   "outputs": [],
   "source": [
    "import torch_geometric\n",
    "from torch_geometric.data import Data\n",
    "\n",
    "lst=[]\n",
    "\n",
    "\n",
    "for i in range(1):\n",
    "    lst.append(Data(x=nodes[f'node{i}'], edge_index=edges[f'edge{i}'], edge_attr=torch.randint(1000,50000,(edges['edge0'].size(1),1)), y=labels[f'label{i}']))\n",
    "\n",
    "testlst=[]\n",
    "for i in range(1):\n",
    "    testlst.append(Data(x=testnodes[f'node{i}'], edge_index=testedges[f'edge{i}'], edge_attr=torch.randint(1000,50000,(testedges['edge0'].size(1),1)),y=testlabels[f'label{i}']))    \n"
   ]
  },
  {
   "cell_type": "code",
   "execution_count": 25,
   "metadata": {},
   "outputs": [
    {
     "data": {
      "text/plain": [
       "tensor([[ 9567],\n",
       "        [33990],\n",
       "        [31333],\n",
       "        ...,\n",
       "        [22074],\n",
       "        [47028],\n",
       "        [ 5095]])"
      ]
     },
     "execution_count": 25,
     "metadata": {},
     "output_type": "execute_result"
    }
   ],
   "source": [
    "lst[0].edge_attr"
   ]
  },
  {
   "cell_type": "code",
   "execution_count": 26,
   "metadata": {},
   "outputs": [
    {
     "data": {
      "text/plain": [
       "tensor([[11016],\n",
       "        [47561],\n",
       "        [49894],\n",
       "        ...,\n",
       "        [25775],\n",
       "        [48480],\n",
       "        [ 9570]])"
      ]
     },
     "execution_count": 26,
     "metadata": {},
     "output_type": "execute_result"
    }
   ],
   "source": [
    "testlst[0].edge_attr"
   ]
  },
  {
   "cell_type": "code",
   "execution_count": 27,
   "metadata": {
    "executionInfo": {
     "elapsed": 1389,
     "status": "ok",
     "timestamp": 1715667253271,
     "user": {
      "displayName": "김대건",
      "userId": "14940767608385150906"
     },
     "user_tz": -540
    },
    "id": "Ov3Ie6o6oevE"
   },
   "outputs": [],
   "source": [
    "from torch_geometric.data import Batch\n",
    "from torch_geometric.loader import DataLoader, NeighborLoader\n",
    "\n",
    "# train_data = Batch.from_data_list(lst)\n",
    "# test_loader = NeighborLoader(testlst, batch_size=512, shuffle=True, num_neighbors=[20, 10], num_workers=2, persistent_workers=True)\n",
    "\n",
    "# train_loader = NeighborLoader(train_data, batch_size=512, shuffle=True, num_neighbors=[20, 10], num_workers=2, persistent_workers=True)\n",
    "# val_loader = DataLoader(val_dataset, batch_size=2)\n",
    "\n",
    "# train_loader = DataLoader(Batch.from_data_list(lst), batch_size=64, shuffle=True)\n",
    "# test_loader = DataLoader(Batch.from_data_list(testlst), batch_size=64, shuffle=False)\n",
    "\n",
    "\n",
    "# from torch_geometric.data import Batch\n",
    "# from torch_geometric.loader import DataLoader, NeighborLoader\n",
    "train_loader = DataLoader(lst, batch_size=16,shuffle=True)\n",
    "test_loader = DataLoader(testlst, batch_size=16, shuffle=False)\n",
    "\n",
    "\n",
    "# train_loader = NeighborLoader(Batch.from_data_list(lst), batch_size=cfg.batch_size, shuffle=True, num_neighbors=[20, 10], num_workers=2, persistent_workers=True)\n",
    "# test_loader = NeighborLoader(Batch.from_data_list(testlst), batch_size=cfg.batch_size, shuffle=False, num_neighbors=[20, 10], num_workers=2, persistent_workers=True)"
   ]
  },
  {
   "cell_type": "markdown",
   "metadata": {},
   "source": [
    "## PPI"
   ]
  },
  {
   "cell_type": "code",
   "execution_count": 28,
   "metadata": {},
   "outputs": [],
   "source": [
    "# from torch_geometric.datasets import PPI\n",
    "# train_dataset = PPI(root=\".\", split='train')\n",
    "# val_dataset = PPI(root=\".\", split='val')\n",
    "# test_dataset = PPI(root=\".\", split='test')\n",
    " \n",
    "# from torch_geometric.data import Batch\n",
    "# from torch_geometric.loader import DataLoader, NeighborLoader\n",
    " \n",
    "\n",
    "# import torch_geometric\n",
    "# from torch_geometric.data import Data\n",
    "# lst=[]\n",
    "# for i in range(20):\n",
    "#     lst.append(Data(x=train_dataset[i].x, edge_index=train_dataset[i].edge_index, y=train_dataset[i].y[:,0].unsqueeze(1)))\n",
    "\n",
    "# test_dataset[1].y[:,0].unsqueeze(1)"
   ]
  },
  {
   "cell_type": "code",
   "execution_count": 29,
   "metadata": {},
   "outputs": [],
   "source": [
    "# testdata1 = Data(x=test_dataset[0].x, edge_index=test_dataset[0].edge_index, y=test_dataset[0].y[:,0].unsqueeze(1))\n",
    "# testdata2 = Data(x=test_dataset[1].x, edge_index=test_dataset[1].edge_index, y=test_dataset[1].y[:,0].unsqueeze(1))\n"
   ]
  },
  {
   "cell_type": "code",
   "execution_count": 30,
   "metadata": {},
   "outputs": [],
   "source": [
    "# train_loader = DataLoader(lst, batch_size=2)\n",
    "# test_loader = DataLoader([testdata1,testdata2], batch_size=2)"
   ]
  },
  {
   "cell_type": "code",
   "execution_count": 31,
   "metadata": {},
   "outputs": [],
   "source": [
    "# train_data = Batch.from_data_list(lst)\n",
    "# train_loader = NeighborLoader(train_data, batch_size=2048, shuffle=True, num_neighbors=[20, 10], num_workers=2, persistent_workers=True)\n",
    "\n",
    "# test_data = Batch.from_data_list([testdata1,testdata2])\n",
    "# test_loader = NeighborLoader(test_data, batch_size=2048, shuffle=True, num_neighbors=[20, 10], num_workers=2, persistent_workers=True)"
   ]
  },
  {
   "cell_type": "markdown",
   "metadata": {},
   "source": [
    "# 모델 만들기 연습"
   ]
  },
  {
   "cell_type": "code",
   "execution_count": 32,
   "metadata": {},
   "outputs": [],
   "source": [
    "# import torch\n",
    "# torch.manual_seed(-1)\n",
    "# import torch.nn.functional as F\n",
    "# from torch_geometric.nn import SAGEConv\n",
    "\n",
    "# from sklearn.metrics import f1_score\n",
    "\n",
    "# device = torch.device('cuda' if torch.cuda.is_available() else 'cpu')\n",
    "\n",
    "# class GraphSAGE(torch.nn.Module):\n",
    "    \n",
    "#     def __init__(self, dim_in, dim_h, dim_out):\n",
    "#         super().__init__()\n",
    "#         self.sage1 = SAGEConv(dim_in, dim_h)\n",
    "#         # self.sage2 = SAGEConv(dim_h, dim_h)\n",
    "#         self.sage3 = SAGEConv(dim_h, dim_out)\n",
    "        \n",
    "#     def forward(self, x, edge_index):\n",
    "#         h = self.sage1(x, edge_index)\n",
    "#         h = F.elu(h)\n",
    "#         h = F.dropout(h, p=0.6, training=True)\n",
    "#         # h = self.sage2(h,edge_index)\n",
    "#         # h = F.elu(h)\n",
    "#         h = self.sage3(h, edge_index)\n",
    "#         # h= F.sigmoid(h)\n",
    "\n",
    "#         return h"
   ]
  },
  {
   "cell_type": "code",
   "execution_count": 33,
   "metadata": {},
   "outputs": [],
   "source": [
    "# import torch.nn.functional as F\n",
    "# from torch.nn import Linear, Dropout\n",
    "# from torch_geometric.nn import GCNConv, GATv2Conv\n",
    "# import torch\n",
    "# torch.manual_seed(-1)\n",
    "\n",
    "# from torch_geometric.nn import SAGEConv\n",
    "\n",
    "# from sklearn.metrics import f1_score\n",
    "\n",
    "# device = torch.device('cuda' if torch.cuda.is_available() else 'cpu')\n",
    "\n",
    "# class GAT(torch.nn.Module):\n",
    "#   \"\"\"Graph Attention Network\"\"\"\n",
    "#   def __init__(self, dim_in, dim_h, dim_out, heads=8):\n",
    "#     super().__init__()\n",
    "#     self.gat1 = GATv2Conv(dim_in, dim_h, heads=heads)\n",
    "#     self.gat2 = GATv2Conv(dim_h*heads, dim_out, heads=1)\n",
    "\n",
    "\n",
    "#   def forward(self, x, edge_index):\n",
    "#     h = F.dropout(x, p=0.6, training=self.training)\n",
    "#     h = self.gat1(x, edge_index)\n",
    "#     h = F.relu(h)\n",
    "#     h = F.dropout(h, p=0.6, training=self.training)\n",
    "#     h = self.gat2(h, edge_index)\n",
    "#     h= F.sigmoid(h)\n",
    "#     return h"
   ]
  },
  {
   "cell_type": "markdown",
   "metadata": {},
   "source": [
    "# 모델 커스터마이징"
   ]
  },
  {
   "cell_type": "code",
   "execution_count": 34,
   "metadata": {},
   "outputs": [],
   "source": [
    "import torch\n",
    "torch.manual_seed(-1)\n",
    "import torch.nn.functional as F\n",
    "from torch_geometric.nn import SAGEConv\n",
    "import torch.nn as nn\n",
    "from sklearn.metrics import f1_score, accuracy_score\n",
    "from torch_geometric.nn import GIN, GAT\n",
    "\n",
    "class customSAGE(torch.nn.Module):\n",
    "    \n",
    "    def __init__(self, in_channels, hidden_channels, num_layers,out_channels):\n",
    "        super(customSAGE,self).__init__()\n",
    "        self.sage = GAT(in_channels=in_channels,hidden_channels=hidden_channels,num_layers=num_layers,out_channels=out_channels)\n",
    "        # self.fc1 = nn.Linear(out_channels,out_channels)\n",
    "    def forward(self,data):\n",
    "        sage_output = self.sage(x = data.x, edge_index= data.edge_index, edge_attr=data.edge_attr)\n",
    "        # x = torch.relu(sage_output)\n",
    "        # x = self.fc1(x)\n",
    "        return sage_output\n",
    "    \n",
    "device = torch.device('cuda' if torch.cuda.is_available() else 'cpu')\n",
    "model = customSAGE(in_channels=cfg.in_dim,hidden_channels=cfg.h_dim,num_layers=cfg.num_layers,out_channels=cfg.out_dim).to(device)"
   ]
  },
  {
   "cell_type": "markdown",
   "metadata": {},
   "source": [
    "# 모델 output 확인"
   ]
  },
  {
   "cell_type": "code",
   "execution_count": 35,
   "metadata": {},
   "outputs": [],
   "source": [
    "# model(lst[0].to(device))"
   ]
  },
  {
   "cell_type": "markdown",
   "metadata": {},
   "source": []
  },
  {
   "cell_type": "markdown",
   "metadata": {},
   "source": [
    "# Train"
   ]
  },
  {
   "cell_type": "code",
   "execution_count": 36,
   "metadata": {
    "executionInfo": {
     "elapsed": 1,
     "status": "ok",
     "timestamp": 1715667255258,
     "user": {
      "displayName": "김대건",
      "userId": "14940767608385150906"
     },
     "user_tz": -540
    },
    "id": "WZHyTnwDlhh-"
   },
   "outputs": [],
   "source": [
    "# def accuracy(pred_y, y):\n",
    "#     \"\"\"정확도 계산\"\"\"\n",
    "#     return ((pred_y == y).sum() / len(y)).item()\n",
    "\n",
    "\n",
    "# def train():\n",
    "#     model.train()\n",
    "\n",
    "#     total_loss = 0\n",
    "#     for data in train_loader:\n",
    "        \n",
    "#         data = data.to(device)\n",
    "#         optimizer.zero_grad()\n",
    "        \n",
    "#         out = model(data.x, data.edge_index)\n",
    "#         loss = criterion(out, data.y)\n",
    "#         # total_loss += loss.item() * data.num_graphs\n",
    "#         loss.backward()\n",
    "#         optimizer.step()\n",
    "        \n",
    "#     return total_loss / len(train_loader.dataset)\n",
    "\n",
    "\n",
    "\n",
    "# @torch.no_grad()\n",
    "# def test(loader):\n",
    "#     model.eval()\n",
    "    \n",
    "#     ys, preds = [], [] \n",
    "    \n",
    "#     for data in loader:\n",
    "        \n",
    "#         out = model(data.x.to(device), data.edge_index.to(device))\n",
    "#         out = torch.argmax(out, dim=1)\n",
    "#         preds.append((out > 0).float().cpu())\n",
    "        \n",
    "#         y, pred = torch.cat(ys, dim=0).numpy().squeeze(), torch.cat(preds, dim=0).numpy()\n",
    "#     print(y.sum(), pred.sum())\n",
    "    \n",
    "#     return f1_score(y, pred, average='micro') if pred.sum() > 0 else 0"
   ]
  },
  {
   "cell_type": "code",
   "execution_count": 37,
   "metadata": {
    "colab": {
     "base_uri": "https://localhost:8080/"
    },
    "executionInfo": {
     "elapsed": 635962,
     "status": "ok",
     "timestamp": 1715667892402,
     "user": {
      "displayName": "김대건",
      "userId": "14940767608385150906"
     },
     "user_tz": -540
    },
    "id": "tA2-1zqglk1O",
    "outputId": "26c7191d-f2f5-442e-8904-842a2300150f"
   },
   "outputs": [],
   "source": [
    "# from tqdm import tqdm\n",
    "# for epoch in tqdm(range(10)):\n",
    "#     loss = fit()\n",
    "#     val_f1 = test(test_loader)\n",
    "#     if epoch % 1 == 0:\n",
    "#         print(f'Epoch {epoch:>3} | Train Loss: {loss:.3f} | Test F1-score: {val_f1:.4f}')\n",
    "#         # print(f'Epoch {epoch:>3} | Train Loss: {loss:.3f} | Val F1-score: {val_f1:.4f}')\n",
    "\n",
    "# # print(f'Test F1-score: {test(test_loader):.4f}')"
   ]
  },
  {
   "cell_type": "code",
   "execution_count": 38,
   "metadata": {},
   "outputs": [],
   "source": [
    "def train(loader):\n",
    "    \n",
    "    model.train()\n",
    "    total_loss = 0\n",
    "    \n",
    "    for i,data in enumerate(loader,0):\n",
    "        \n",
    "        data = data.to(device)\n",
    "        optimizer.zero_grad()\n",
    "        \n",
    "        out = model(data)\n",
    "        loss = criterion(out, data.y)\n",
    "        loss.backward()\n",
    "        optimizer.step()\n",
    "        \n",
    "        total_loss += loss.item()\n",
    "    \n",
    "    return total_loss/ len(loader)\n",
    "    \n",
    "\n",
    "def test(loader):\n",
    "    \n",
    "\n",
    "    model.eval()\n",
    "    predict = list()\n",
    "    actual = list()\n",
    "    with torch.no_grad():\n",
    "        for _, data in enumerate(loader,0):\n",
    "            data = data.to(device)\n",
    "            out = model(data)\n",
    "            m = nn.Sigmoid()\n",
    "            preds = (m(out)>0.5).float().cpu().numpy()\n",
    "            y = data.y.cpu().numpy()\n",
    "            \n",
    "            predict.append(preds)\n",
    "            actual.append(y)\n",
    "            \n",
    "    predictions, actuals = vstack(predict), vstack(actual)\n",
    "    acc = accuracy_score(actuals, predictions),f1_score(actuals, predictions,average='micro')\n",
    "\n",
    "            # total += sum(out==data.y)/len(data.y)\n",
    "            # print(sum(out==data.y)/len(data.y))\n",
    "            # cnt +=1\n",
    "    return acc "
   ]
  },
  {
   "cell_type": "code",
   "execution_count": 39,
   "metadata": {},
   "outputs": [
    {
     "name": "stderr",
     "output_type": "stream",
     "text": [
      "  0%|          | 1/300 [00:00<02:21,  2.11it/s]"
     ]
    },
    {
     "name": "stdout",
     "output_type": "stream",
     "text": [
      "Train Loss: 18647.857 | Test acc: 0.534 | Test f1: 0.534 \n"
     ]
    },
    {
     "name": "stderr",
     "output_type": "stream",
     "text": [
      "  7%|▋         | 21/300 [00:09<02:12,  2.11it/s]"
     ]
    },
    {
     "name": "stdout",
     "output_type": "stream",
     "text": [
      "Train Loss: 55.677 | Test acc: 0.484 | Test f1: 0.484 \n"
     ]
    },
    {
     "name": "stderr",
     "output_type": "stream",
     "text": [
      " 14%|█▎        | 41/300 [00:19<01:55,  2.25it/s]"
     ]
    },
    {
     "name": "stdout",
     "output_type": "stream",
     "text": [
      "Train Loss: 33.308 | Test acc: 0.424 | Test f1: 0.424 \n"
     ]
    },
    {
     "name": "stderr",
     "output_type": "stream",
     "text": [
      " 20%|██        | 61/300 [00:29<01:59,  2.01it/s]"
     ]
    },
    {
     "name": "stdout",
     "output_type": "stream",
     "text": [
      "Train Loss: 0.823 | Test acc: 0.610 | Test f1: 0.610 \n"
     ]
    },
    {
     "name": "stderr",
     "output_type": "stream",
     "text": [
      " 27%|██▋       | 81/300 [00:39<01:47,  2.04it/s]"
     ]
    },
    {
     "name": "stdout",
     "output_type": "stream",
     "text": [
      "Train Loss: 0.755 | Test acc: 0.547 | Test f1: 0.547 \n"
     ]
    },
    {
     "name": "stderr",
     "output_type": "stream",
     "text": [
      " 34%|███▎      | 101/300 [00:48<01:40,  1.97it/s]"
     ]
    },
    {
     "name": "stdout",
     "output_type": "stream",
     "text": [
      "Train Loss: 0.738 | Test acc: 0.581 | Test f1: 0.581 \n"
     ]
    },
    {
     "name": "stderr",
     "output_type": "stream",
     "text": [
      " 40%|████      | 121/300 [00:58<01:28,  2.03it/s]"
     ]
    },
    {
     "name": "stdout",
     "output_type": "stream",
     "text": [
      "Train Loss: 0.717 | Test acc: 0.618 | Test f1: 0.618 \n"
     ]
    },
    {
     "name": "stderr",
     "output_type": "stream",
     "text": [
      " 47%|████▋     | 141/300 [01:08<01:19,  2.01it/s]"
     ]
    },
    {
     "name": "stdout",
     "output_type": "stream",
     "text": [
      "Train Loss: 0.696 | Test acc: 0.629 | Test f1: 0.629 \n"
     ]
    },
    {
     "name": "stderr",
     "output_type": "stream",
     "text": [
      " 54%|█████▎    | 161/300 [01:18<01:07,  2.06it/s]"
     ]
    },
    {
     "name": "stdout",
     "output_type": "stream",
     "text": [
      "Train Loss: 0.678 | Test acc: 0.632 | Test f1: 0.632 \n"
     ]
    },
    {
     "name": "stderr",
     "output_type": "stream",
     "text": [
      " 60%|██████    | 181/300 [01:27<00:57,  2.06it/s]"
     ]
    },
    {
     "name": "stdout",
     "output_type": "stream",
     "text": [
      "Train Loss: 0.881 | Test acc: 0.639 | Test f1: 0.639 \n"
     ]
    },
    {
     "name": "stderr",
     "output_type": "stream",
     "text": [
      " 67%|██████▋   | 201/300 [01:37<00:47,  2.08it/s]"
     ]
    },
    {
     "name": "stdout",
     "output_type": "stream",
     "text": [
      "Train Loss: 0.812 | Test acc: 0.638 | Test f1: 0.638 \n"
     ]
    },
    {
     "name": "stderr",
     "output_type": "stream",
     "text": [
      " 74%|███████▎  | 221/300 [01:47<00:38,  2.07it/s]"
     ]
    },
    {
     "name": "stdout",
     "output_type": "stream",
     "text": [
      "Train Loss: 0.756 | Test acc: 0.637 | Test f1: 0.637 \n"
     ]
    },
    {
     "name": "stderr",
     "output_type": "stream",
     "text": [
      " 80%|████████  | 241/300 [01:57<00:28,  2.04it/s]"
     ]
    },
    {
     "name": "stdout",
     "output_type": "stream",
     "text": [
      "Train Loss: 0.675 | Test acc: 0.624 | Test f1: 0.624 \n"
     ]
    },
    {
     "name": "stderr",
     "output_type": "stream",
     "text": [
      " 87%|████████▋ | 261/300 [02:06<00:18,  2.05it/s]"
     ]
    },
    {
     "name": "stdout",
     "output_type": "stream",
     "text": [
      "Train Loss: 0.917 | Test acc: 0.640 | Test f1: 0.640 \n"
     ]
    },
    {
     "name": "stderr",
     "output_type": "stream",
     "text": [
      " 94%|█████████▎| 281/300 [02:16<00:09,  2.06it/s]"
     ]
    },
    {
     "name": "stdout",
     "output_type": "stream",
     "text": [
      "Train Loss: 0.863 | Test acc: 0.574 | Test f1: 0.574 \n"
     ]
    },
    {
     "name": "stderr",
     "output_type": "stream",
     "text": [
      "100%|██████████| 300/300 [02:25<00:00,  2.06it/s]\n"
     ]
    }
   ],
   "source": [
    "from tqdm import tqdm\n",
    "from numpy import vstack\n",
    "\n",
    "\n",
    "# model = GraphSAGE(dim_in=lst[0].num_features,dim_h=128,dim_out=1).to(device)\n",
    "# model = GAT(dim_in=lst[0].num_features,dim_h=64,dim_out=1).to(device)\n",
    "criterion = torch.nn.BCEWithLogitsLoss().to(device)\n",
    "optimizer = torch.optim.AdamW(model.parameters(), lr=0.0005)\n",
    "\n",
    "for epoch in tqdm(range(300)):\n",
    "    loss = train(train_loader)\n",
    "    acc,f1 = test(test_loader)\n",
    "    if epoch %20 == 0:\n",
    "        print(f'Train Loss: {loss:.3f} | Test acc: {acc:.3f} | Test f1: {f1:.3f} ')\n",
    "        # print(f'Train Loss: {loss:.3f} | Test acc: {acc.item():.3f} ')\n",
    "        # print(f'Train Loss: {loss:.3f}')\n",
    "    \n",
    "    "
   ]
  },
  {
   "cell_type": "code",
   "execution_count": 46,
   "metadata": {},
   "outputs": [
    {
     "data": {
      "text/plain": [
       "False"
      ]
     },
     "execution_count": 46,
     "metadata": {},
     "output_type": "execute_result"
    }
   ],
   "source": [
    "lst[0].is_undirected()"
   ]
  },
  {
   "cell_type": "markdown",
   "metadata": {},
   "source": [
    "# example"
   ]
  },
  {
   "cell_type": "code",
   "execution_count": null,
   "metadata": {},
   "outputs": [],
   "source": [
    "# import torch\n",
    "# from sklearn.metrics import f1_score\n",
    "# from torch_geometric.nn import GraphSAGE\n",
    " \n",
    "# device = torch.device('cuda' if torch.cuda.is_available() else 'cpu')\n",
    " \n",
    "# model = GraphSAGE(\n",
    "#     in_channels=train_dataset.num_features,\n",
    "#     hidden_channels=512,\n",
    "#     num_layers=2,\n",
    "#     out_channels=train_dataset.num_classes,\n",
    "# ).to(device)"
   ]
  },
  {
   "cell_type": "code",
   "execution_count": null,
   "metadata": {},
   "outputs": [],
   "source": [
    "# criterion = torch.nn.BCEWithLogitsLoss()\n",
    "# optimizer = torch.optim.Adam(model.parameters(), lr=0.005)\n",
    " \n",
    "# def fit():\n",
    "#     model.train()\n",
    " \n",
    "#     total_loss = 0\n",
    "#     for data in train_loader:\n",
    "#         data = data.to(device)\n",
    "#         optimizer.zero_grad()\n",
    "        \n",
    "#         out = model(data.x, data.edge_index)\n",
    "#         loss = criterion(out, data.y)\n",
    "        \n",
    "#         total_loss += loss.item() * data.num_graphs\n",
    "        \n",
    "#         loss.backward()\n",
    "#         optimizer.step()\n",
    "        \n",
    "#     return total_loss / len(train_loader.dataset)\n",
    " \n",
    "# @torch.no_grad()\n",
    "# def test(loader):\n",
    "#     model.eval()\n",
    " \n",
    "#     data = next(iter(loader))\n",
    "#     out = model(data.x.to(device), data.edge_index.to(device))\n",
    "#     preds = (out > 0).float().cpu()\n",
    "#     print(preds)\n",
    " \n",
    "#     y, pred = data.y.numpy(), preds.numpy()\n",
    "#     return f1_score(y, pred, average='micro') if pred.sum() > 0 else 0\n",
    " \n",
    "# for epoch in range(301):\n",
    "#     loss = fit()\n",
    "#     val_f1 = test(val_loader)\n",
    "#     if epoch % 50 == 0:\n",
    "#         print(f'Epoch {epoch:>3} | Train Loss: {loss:.3f} | Val F1-score: {val_f1:.4f}')\n",
    " \n",
    "# print(f'Test F1-score: {test(test_loader):.4f}')"
   ]
  },
  {
   "cell_type": "code",
   "execution_count": null,
   "metadata": {},
   "outputs": [],
   "source": [
    "# import torch\n",
    "\n",
    "# def test(test_loader):\n",
    "#     model.eval()\n",
    "#     correct = 0\n",
    "#     total = 0\n",
    "#     with torch.no_grad():\n",
    "#         for data in test_loader:\n",
    "#             data = data.to(device)\n",
    "#             out = model(data)\n",
    "#             preds = (out > 0).float().cpu()  # .cpu()를 추가하여 GPU에서 CPU로 이동\n",
    "#             acc = accuracy_score(data.y.cpu(), preds)  # .cpu()를 추가하여 GPU에서 CPU로 이동\n",
    "#             print(acc)\n",
    "#             total += len(data.y)\n",
    "#             correct += (preds == data.y.cpu()).sum().item()\n",
    "#     return correct / total\n",
    "\n",
    "# # 학습 및 테스트 코드\n",
    "# for epoch in tqdm(range(100)):\n",
    "#     loss = train(train_loader)\n",
    "#     acc = test(test_loader)\n",
    "#     if epoch % 1 == 0:\n",
    "#         print(f'Train Loss: {loss:.3f} | Test acc: {acc:.3f}')\n"
   ]
  }
 ],
 "metadata": {
  "accelerator": "GPU",
  "colab": {
   "gpuType": "T4",
   "provenance": []
  },
  "kernelspec": {
   "display_name": "Python 3",
   "language": "python",
   "name": "python3"
  },
  "language_info": {
   "codemirror_mode": {
    "name": "ipython",
    "version": 3
   },
   "file_extension": ".py",
   "mimetype": "text/x-python",
   "name": "python",
   "nbconvert_exporter": "python",
   "pygments_lexer": "ipython3",
   "version": "3.10.14"
  }
 },
 "nbformat": 4,
 "nbformat_minor": 4
}
