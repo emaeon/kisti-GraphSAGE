{
 "cells": [
  {
   "cell_type": "code",
   "execution_count": 143,
   "metadata": {},
   "outputs": [
    {
     "data": {
      "text/plain": [
       "793"
      ]
     },
     "execution_count": 143,
     "metadata": {},
     "output_type": "execute_result"
    }
   ],
   "source": [
    "import torch, gc\n",
    "gc.collect()\n",
    "# torch.cuda.empty_cache()|"
   ]
  },
  {
   "cell_type": "code",
   "execution_count": 144,
   "metadata": {},
   "outputs": [],
   "source": [
    "torch.cuda.empty_cache()"
   ]
  },
  {
   "cell_type": "code",
   "execution_count": 147,
   "metadata": {},
   "outputs": [
    {
     "name": "stdout",
     "output_type": "stream",
     "text": [
      "2.3.0\n"
     ]
    }
   ],
   "source": [
    "import os\n",
    "import torch\n",
    "os.environ['TORCH'] = torch.__version__\n",
    "print(torch.__version__)"
   ]
  },
  {
   "cell_type": "code",
   "execution_count": 32,
   "metadata": {},
   "outputs": [],
   "source": [
    "\n",
    "\n",
    "\n",
    "\n",
    "# import os\n",
    "# os.environ['CUDA_LAUNCH_BLOCKING'] = \"1\""
   ]
  },
  {
   "cell_type": "markdown",
   "metadata": {},
   "source": [
    "# 데이터 로드"
   ]
  },
  {
   "cell_type": "code",
   "execution_count": 148,
   "metadata": {},
   "outputs": [],
   "source": [
    "class config():\n",
    "    def __init__(self, i):\n",
    "        self.i = i\n",
    "        self.train_edge_file_path = f'/home/work/kdg_folder/work_kisti/학습데이터/v11(회귀,이상치제거)/edge_train_{self.i+1}_v11.pkl'\n",
    "        self.train_node_file_path = f'/home/work/kdg_folder/work_kisti/학습데이터/v11(회귀,이상치제거)/node_train_{self.i+1}_v11.pkl'\n",
    "        self.test_edge_file_path = f'/home/work/kdg_folder/work_kisti/학습데이터/v11(회귀,이상치제거)/edge_test_v11.pkl'\n",
    "        self.test_node_file_path = f'/home/work/kdg_folder/work_kisti/학습데이터/v11(회귀,이상치제거)/node_test_v11.pkl'  \n",
    "        self.label_col=19      \n",
    "        self.batch_size=2\n",
    "        self.in_dim=19\n",
    "        self.h_dim=256\n",
    "        self.num_layers=6\n",
    "        self.out_dim=1\n"
   ]
  },
  {
   "cell_type": "code",
   "execution_count": 92,
   "metadata": {},
   "outputs": [],
   "source": [
    "# import pandas as pd\n",
    "# edges = {}\n",
    "# nodes = {}\n",
    "# for i in range(3):\n",
    "#     cfg=config(i)\n",
    "#     edge_file_path = cfg.train_edge_file_path\n",
    "#     node_file_path = cfg.train_node_file_path\n",
    "    \n",
    "#     edges[f'edge{i}'] = pd.read_csv(edge_file_path)\n",
    "#     nodes[f'node{i}'] = pd.read_csv(node_file_path)\n",
    "#     edges[f'edge{i}'].to_pickle(f'/home/work/kdg_folder/work_kisti/학습데이터/v11(회귀,이상치제거)/edge_train_{i+1}_v11.pkl')\n",
    "#     nodes[f'node{i}'].to_pickle(f'/home/work/kdg_folder/work_kisti/학습데이터/v11(회귀,이상치제거)/node_train_{i+1}_v11.pkl')\n",
    "    "
   ]
  },
  {
   "cell_type": "code",
   "execution_count": 93,
   "metadata": {},
   "outputs": [],
   "source": [
    "# import pandas as pd\n",
    "# testedges = {}\n",
    "# testnodes = {}\n",
    "# testlabels = {}\n",
    "\n",
    "# for i in range(1):\n",
    "#     cfg=config(i)\n",
    "#     edge_file_path = cfg.test_edge_file_path\n",
    "#     node_file_path = cfg.test_node_file_path\n",
    "    \n",
    "#     testedges[f'edge{i}'] = pd.read_csv(edge_file_path)\n",
    "#     testnodes[f'node{i}'] = pd.read_csv(node_file_path)\n",
    "\n",
    "#     testedges[f'edge{i}'].to_pickle(f'/home/work/kdg_folder/work_kisti/학습데이터/v11(회귀,이상치제거)/edge_test_v11.pkl')\n",
    "#     testnodes[f'node{i}'].to_pickle(f'/home/work/kdg_folder/work_kisti/학습데이터/v11(회귀,이상치제거)/node_test_v11.pkl')\n",
    "    "
   ]
  },
  {
   "cell_type": "code",
   "execution_count": 146,
   "metadata": {},
   "outputs": [],
   "source": [
    "#train\n",
    "import pandas as pd\n",
    "\n",
    "# 딕셔너리를 사용하여 edge 데이터를 저장\n",
    "def train_dic():\n",
    "    edges = {}\n",
    "    edges_attr = {}\n",
    "    nodes = {}\n",
    "    labels = {}\n",
    "\n",
    "    for i in range(2,3):\n",
    "        cfg=config(i)\n",
    "        edge_file_path = cfg.train_edge_file_path\n",
    "        node_file_path = cfg.train_node_file_path\n",
    "        print(edge_file_path)\n",
    "        print(node_file_path) \n",
    "        \n",
    "        edges[f'edge{i}'] = pd.read_pickle(edge_file_path)\n",
    "        nodes[f'node{i}'] = pd.read_pickle(node_file_path)\n",
    "        \n",
    "        labels[f'label{i}'] = pd.DataFrame(nodes[f'node{i}'].iloc[:,cfg.label_col])\n",
    "        nodes[f'node{i}'] = nodes[f'node{i}'].iloc[:,:cfg.label_col]\n",
    "        \n",
    "        edges_attr[f'edge_attr{i}'] = pd.DataFrame(edges[f'edge{i}'].iloc[2,:])\n",
    "        edges[f'edge{i}'] = edges[f'edge{i}'].iloc[:2,:]\n",
    "    return edges, edges_attr, nodes, labels\n"
   ]
  },
  {
   "cell_type": "code",
   "execution_count": 149,
   "metadata": {},
   "outputs": [
    {
     "name": "stdout",
     "output_type": "stream",
     "text": [
      "/home/work/kdg_folder/work_kisti/학습데이터/v11(회귀,이상치제거)/edge_train_3_v11.pkl\n",
      "/home/work/kdg_folder/work_kisti/학습데이터/v11(회귀,이상치제거)/node_train_3_v11.pkl\n"
     ]
    }
   ],
   "source": [
    "edges, edges_attr, nodes, labels = train_dic()"
   ]
  },
  {
   "cell_type": "markdown",
   "metadata": {},
   "source": [
    "# 그래프 1개 추론용"
   ]
  },
  {
   "cell_type": "code",
   "execution_count": 190,
   "metadata": {},
   "outputs": [],
   "source": [
    "#test\n",
    "import pandas as pd\n",
    "\n",
    "# 딕셔너리를 사용하여 edge 데이터를 저장\n",
    "\n",
    "def test_dic():\n",
    "    testedges = {}\n",
    "    testedges_attr={}\n",
    "    testnodes = {}\n",
    "    testlabels = {}\n",
    "\n",
    "    for i in range(1):\n",
    "        cfg=config(i)\n",
    "        edge_file_path = cfg.test_edge_file_path\n",
    "        node_file_path = cfg.test_node_file_path\n",
    "        print(edge_file_path)\n",
    "        print(node_file_path)        \n",
    "        testedges[f'edge{i}'] = pd.read_pickle(edge_file_path)\n",
    "        testnodes[f'node{i}'] = pd.read_pickle(node_file_path)\n",
    "        \n",
    "        testlabels[f'label{i}'] = pd.DataFrame(testnodes[f'node{i}'].iloc[:,cfg.label_col])\n",
    "        testnodes[f'node{i}'] = testnodes[f'node{i}'].iloc[:,:cfg.label_col]\n",
    "        \n",
    "        testedges_attr[f'edge_attr{i}'] = pd.DataFrame(testedges[f'edge{i}'].iloc[2,:])\n",
    "        testedges[f'edge{i}'] = testedges[f'edge{i}'].iloc[:2,:]\n",
    "    return testedges,testedges_attr,testnodes,testlabels"
   ]
  },
  {
   "cell_type": "code",
   "execution_count": 191,
   "metadata": {},
   "outputs": [],
   "source": [
    "testdata = pd.read_pickle(cfg.test_node_file_path)"
   ]
  },
  {
   "cell_type": "code",
   "execution_count": 193,
   "metadata": {},
   "outputs": [],
   "source": [
    "idx = testdata.iloc[:,19].sort_values(ascending=False).index"
   ]
  },
  {
   "cell_type": "code",
   "execution_count": 153,
   "metadata": {},
   "outputs": [
    {
     "data": {
      "text/plain": [
       "9078"
      ]
     },
     "execution_count": 153,
     "metadata": {},
     "output_type": "execute_result"
    }
   ],
   "source": [
    "len(testdata.iloc[:,19])"
   ]
  },
  {
   "cell_type": "code",
   "execution_count": 194,
   "metadata": {},
   "outputs": [
    {
     "name": "stdout",
     "output_type": "stream",
     "text": [
      "/home/work/kdg_folder/work_kisti/학습데이터/v11(회귀,이상치제거)/edge_test_v11.pkl\n",
      "/home/work/kdg_folder/work_kisti/학습데이터/v11(회귀,이상치제거)/node_test_v11.pkl\n"
     ]
    }
   ],
   "source": [
    "testedges,testedges_attr,testnodes,testlabels = test_dic()"
   ]
  },
  {
   "cell_type": "markdown",
   "metadata": {},
   "source": [
    "# 2021 그래프 추론용"
   ]
  },
  {
   "cell_type": "code",
   "execution_count": 101,
   "metadata": {},
   "outputs": [],
   "source": [
    "# #test\n",
    "# import pandas as pd\n",
    "\n",
    "# # 딕셔너리를 사용하여 edge 데이터를 저장\n",
    "# testedges = {}\n",
    "# testedges_attr={}\n",
    "# testnodes = {}\n",
    "# testlabels = {}\n",
    "\n",
    "# for i in range(1):\n",
    "#     edge_file_path = cfg.test_edge_file_path\n",
    "#     node_file_path = cfg.test_node_file_path\n",
    "    \n",
    "#     testedges[f'edge{i}'] = pd.read_pickle(edge_file_path)\n",
    "#     testnodes[f'node{i}'] = pd.read_pickle(node_file_path)\n",
    "    \n",
    "#     testlabels[f'label{i}'] = pd.DataFrame(testnodes[f'node{i}'].iloc[:,cfg.label_col])\n",
    "#     testnodes[f'node{i}'] = testnodes[f'node{i}'].iloc[:,:cfg.label_col]\n",
    "    \n",
    "#     testedges_attr[f'edge_attr{i}'] = pd.DataFrame(testedges[f'edge{i}'].iloc[2,:])\n",
    "#     testedges[f'edge{i}'] = testedges[f'edge{i}'].iloc[:2,:]"
   ]
  },
  {
   "cell_type": "code",
   "execution_count": 102,
   "metadata": {},
   "outputs": [
    {
     "ename": "KeyError",
     "evalue": "'label0'",
     "output_type": "error",
     "traceback": [
      "\u001b[0;31m---------------------------------------------------------------------------\u001b[0m",
      "\u001b[0;31mKeyError\u001b[0m                                  Traceback (most recent call last)",
      "Cell \u001b[0;32mIn[102], line 1\u001b[0m\n\u001b[0;32m----> 1\u001b[0m \u001b[43mlabels\u001b[49m\u001b[43m[\u001b[49m\u001b[38;5;124;43m'\u001b[39;49m\u001b[38;5;124;43mlabel0\u001b[39;49m\u001b[38;5;124;43m'\u001b[39;49m\u001b[43m]\u001b[49m\n",
      "\u001b[0;31mKeyError\u001b[0m: 'label0'"
     ]
    }
   ],
   "source": [
    "labels['label0']"
   ]
  },
  {
   "cell_type": "code",
   "execution_count": 155,
   "metadata": {},
   "outputs": [],
   "source": [
    "for i in range(2,3):\n",
    "    edges[f'edge{i}'] = edges[f'edge{i}'].values\n",
    "    edges[f'edge{i}'] = torch.from_numpy(edges[f'edge{i}']).long()\n",
    "\n",
    "    nodes[f'node{i}'] = nodes[f'node{i}'].values\n",
    "    nodes[f'node{i}'] = torch.from_numpy(nodes[f'node{i}']).float()\n",
    "    \n",
    "    labels[f'label{i}'] = labels[f'label{i}'].values\n",
    "    labels[f'label{i}'] = torch.from_numpy(labels[f'label{i}']).float()  \n",
    "    \n",
    "    edges_attr[f'edge_attr{i}'] = edges_attr[f'edge_attr{i}'].values\n",
    "    edges_attr[f'edge_attr{i}'] = torch.from_numpy(edges_attr[f'edge_attr{i}']).float()  \n",
    "\n",
    "\n",
    "\n",
    "for i in range(1):\n",
    "    testedges[f'edge{i}'] = testedges[f'edge{i}'].values\n",
    "    testedges[f'edge{i}'] = torch.from_numpy(testedges[f'edge{i}']).long()\n",
    "\n",
    "    testnodes[f'node{i}'] = testnodes[f'node{i}'].values\n",
    "    testnodes[f'node{i}'] = torch.from_numpy(testnodes[f'node{i}']).float()\n",
    "    \n",
    "    testlabels[f'label{i}'] = testlabels[f'label{i}'].values\n",
    "    testlabels[f'label{i}'] = torch.from_numpy(testlabels[f'label{i}']).float()\n",
    "      \n",
    "    testedges_attr[f'edge_attr{i}'] = testedges_attr[f'edge_attr{i}'].values\n",
    "    testedges_attr[f'edge_attr{i}'] = torch.from_numpy(testedges_attr[f'edge_attr{i}']).float()     "
   ]
  },
  {
   "cell_type": "code",
   "execution_count": 156,
   "metadata": {},
   "outputs": [
    {
     "name": "stdout",
     "output_type": "stream",
     "text": [
      "torch.Size([13270, 1])\n",
      "torch.Size([9078, 1])\n"
     ]
    }
   ],
   "source": [
    "print(labels['label2'].size())\n",
    "print(testlabels['label0'].size())"
   ]
  },
  {
   "cell_type": "code",
   "execution_count": 157,
   "metadata": {},
   "outputs": [
    {
     "name": "stdout",
     "output_type": "stream",
     "text": [
      "torch.int64\n",
      "torch.float32\n",
      "torch.float32\n",
      "torch.float32\n"
     ]
    }
   ],
   "source": [
    "for i in range(2,3):\n",
    "    print(edges[f'edge{i}'].dtype)\n",
    "    print(nodes[f'node{i}'].dtype)\n",
    "    print(labels[f'label{i}'].dtype)\n",
    "    print(edges_attr[f'edge_attr{i}'].dtype)\n",
    "    \n",
    "    "
   ]
  },
  {
   "cell_type": "code",
   "execution_count": 30,
   "metadata": {
    "colab": {
     "base_uri": "https://localhost:8080/"
    },
    "executionInfo": {
     "elapsed": 2,
     "status": "ok",
     "timestamp": 1715666793266,
     "user": {
      "displayName": "김대건",
      "userId": "14940767608385150906"
     },
     "user_tz": -540
    },
    "id": "b55JKcU0i_LM",
    "outputId": "b5f2659f-661b-4203-de21-8b8c0deed723"
   },
   "outputs": [],
   "source": [
    "# print(edge_tensor.size())\n",
    "# print(node_tensor.size())\n",
    "# print(label_tensor.size())\n",
    "# print(edge_tensor.dtype)\n",
    "# print(node_tensor.dtype)\n",
    "# print(label_tensor.dtype)"
   ]
  },
  {
   "cell_type": "markdown",
   "metadata": {},
   "source": [
    "# train data 리스트에 담기"
   ]
  },
  {
   "cell_type": "code",
   "execution_count": 158,
   "metadata": {
    "executionInfo": {
     "elapsed": 340,
     "status": "ok",
     "timestamp": 1715666802337,
     "user": {
      "displayName": "김대건",
      "userId": "14940767608385150906"
     },
     "user_tz": -540
    },
    "id": "LsttAXN1jdmb"
   },
   "outputs": [],
   "source": [
    "import torch_geometric\n",
    "from torch_geometric.data import Data\n",
    "\n",
    "def uselst():\n",
    "    lst=[]\n",
    "\n",
    "\n",
    "    for i in range(2,3):\n",
    "        lst.append(Data(x=nodes[f'node{i}'], edge_index=edges[f'edge{i}'], edge_attr=edges_attr[f'edge_attr{i}'], y=labels[f'label{i}']))\n",
    "\n",
    "    testlst=[]\n",
    "    for i in range(1):\n",
    "        testlst.append(Data(x=testnodes[f'node{i}'], edge_index=testedges[f'edge{i}'], edge_attr=testedges_attr[f'edge_attr{i}'],y=testlabels[f'label{i}']))    \n",
    "\n",
    "    return lst, testlst"
   ]
  },
  {
   "cell_type": "code",
   "execution_count": 159,
   "metadata": {},
   "outputs": [],
   "source": [
    "lst, testlst = uselst()"
   ]
  },
  {
   "cell_type": "code",
   "execution_count": 160,
   "metadata": {},
   "outputs": [
    {
     "name": "stdout",
     "output_type": "stream",
     "text": [
      "[Data(x=[13270, 19], edge_index=[2, 42057], edge_attr=[42057, 1], y=[13270, 1])]\n",
      "tensor([[-0.2064],\n",
      "        [-0.1995],\n",
      "        [-0.1799],\n",
      "        ...,\n",
      "        [ 8.5226],\n",
      "        [-0.2052],\n",
      "        [-0.1995]])\n",
      "[Data(x=[9078, 19], edge_index=[2, 25493], edge_attr=[25493, 1], y=[9078, 1])]\n",
      "tensor([[ 1.8933],\n",
      "        [-0.1322],\n",
      "        [ 0.4526],\n",
      "        ...,\n",
      "        [ 0.3327],\n",
      "        [ 0.0712],\n",
      "        [-0.1703]])\n"
     ]
    }
   ],
   "source": [
    "print(lst)\n",
    "print(lst[0].edge_attr)\n",
    "print(testlst)\n",
    "print(testlst[0].edge_attr)"
   ]
  },
  {
   "cell_type": "code",
   "execution_count": 162,
   "metadata": {
    "executionInfo": {
     "elapsed": 1389,
     "status": "ok",
     "timestamp": 1715667253271,
     "user": {
      "displayName": "김대건",
      "userId": "14940767608385150906"
     },
     "user_tz": -540
    },
    "id": "Ov3Ie6o6oevE"
   },
   "outputs": [],
   "source": [
    "from torch_geometric.data import Batch\n",
    "from torch_geometric.loader import DataLoader, NeighborLoader\n",
    "\n",
    "# train_data = Batch.from_data_list(lst)\n",
    "# test_loader = NeighborLoader(testlst, batch_size=512, shuffle=True, num_neighbors=[20, 10], num_workers=2, persistent_workers=True)\n",
    "\n",
    "# train_loader = NeighborLoader(train_data, batch_size=512, shuffle=True, num_neighbors=[20, 10], num_workers=2, persistent_workers=True)\n",
    "# val_loader = DataLoader(val_dataset, batch_size=2)\n",
    "\n",
    "# train_loader = DataLoader(Batch.from_data_list(lst), batch_size=16, shuffle=True)\n",
    "# test_loader = DataLoader(Batch.from_data_list(testlst), batch_size=16, shuffle=False)\n",
    "\n",
    "\n",
    "# from torch_geometric.data import Batch\n",
    "# # from torch_geometric.loader import DataLoader, NeighborLoader\n",
    "train_loader = DataLoader(lst, batch_size=1,shuffle=True)\n",
    "test_loader = DataLoader(testlst, batch_size=1, shuffle=False)\n",
    "\n",
    "\n",
    "# train_loader = NeighborLoader(Batch.from_data_list(lst), batch_size=1024, shuffle=True, num_neighbors=[30, 30], num_workers=2, persistent_workers=True)\n",
    "# test_loader = NeighborLoader(Batch.from_data_list(testlst), batch_size=1024, shuffle=False, num_neighbors=[30, 30], num_workers=2, persistent_workers=True)"
   ]
  },
  {
   "cell_type": "code",
   "execution_count": 137,
   "metadata": {},
   "outputs": [
    {
     "data": {
      "text/plain": [
       "[Data(x=[9078, 19], edge_index=[2, 25493], edge_attr=[25493, 1], y=[9078, 1])]"
      ]
     },
     "execution_count": 137,
     "metadata": {},
     "output_type": "execute_result"
    }
   ],
   "source": [
    "testlst"
   ]
  },
  {
   "cell_type": "code",
   "execution_count": 138,
   "metadata": {},
   "outputs": [
    {
     "name": "stdout",
     "output_type": "stream",
     "text": [
      "DataBatch(x=[9078, 19], edge_index=[2, 25493], edge_attr=[25493, 1], y=[9078, 1], batch=[9078], ptr=[2])\n"
     ]
    }
   ],
   "source": [
    "for i in test_loader:\n",
    "    print(i)"
   ]
  },
  {
   "cell_type": "code",
   "execution_count": 130,
   "metadata": {},
   "outputs": [
    {
     "data": {
      "text/plain": [
       "DataBatch(x=[9078, 19], edge_index=[2, 25493], edge_attr=[25493, 1], y=[9078, 1], batch=[9078], ptr=[2])"
      ]
     },
     "execution_count": 130,
     "metadata": {},
     "output_type": "execute_result"
    }
   ],
   "source": [
    "next(iter(test_loader))"
   ]
  },
  {
   "cell_type": "markdown",
   "metadata": {},
   "source": [
    "## PPI"
   ]
  },
  {
   "cell_type": "code",
   "execution_count": 31,
   "metadata": {},
   "outputs": [
    {
     "data": {
      "text/plain": [
       "tensor([[1.],\n",
       "        [0.],\n",
       "        [0.],\n",
       "        ...,\n",
       "        [1.],\n",
       "        [1.],\n",
       "        [1.]])"
      ]
     },
     "execution_count": 31,
     "metadata": {},
     "output_type": "execute_result"
    }
   ],
   "source": [
    "# from torch_geometric.datasets import PPI\n",
    "# train_dataset = PPI(root=\".\", split='train')\n",
    "# val_dataset = PPI(root=\".\", split='val')\n",
    "# test_dataset = PPI(root=\".\", split='test')\n",
    " \n",
    "# from torch_geometric.data import Batch\n",
    "# from torch_geometric.loader import DataLoader, NeighborLoader\n",
    " \n",
    "\n",
    "# import torch_geometric\n",
    "# from torch_geometric.data import Data\n",
    "# lst=[]\n",
    "# for i in range(20):\n",
    "#     lst.append(Data(x=train_dataset[i].x, edge_index=train_dataset[i].edge_index, y=train_dataset[i].y[:,0].unsqueeze(1)))\n",
    "\n",
    "# test_dataset[1].y[:,0].unsqueeze(1)"
   ]
  },
  {
   "cell_type": "code",
   "execution_count": 32,
   "metadata": {},
   "outputs": [],
   "source": [
    "# testdata1 = Data(x=test_dataset[0].x, edge_index=test_dataset[0].edge_index, y=test_dataset[0].y[:,0].unsqueeze(1))\n",
    "# testdata2 = Data(x=test_dataset[1].x, edge_index=test_dataset[1].edge_index, y=test_dataset[1].y[:,0].unsqueeze(1))\n"
   ]
  },
  {
   "cell_type": "code",
   "execution_count": 34,
   "metadata": {},
   "outputs": [],
   "source": [
    "# train_loader = DataLoader(lst, batch_size=512)\n",
    "# test_loader = DataLoader([testdata1,testdata2], batch_size=512)"
   ]
  },
  {
   "cell_type": "code",
   "execution_count": 38,
   "metadata": {},
   "outputs": [
    {
     "name": "stdout",
     "output_type": "stream",
     "text": [
      "2\n"
     ]
    }
   ],
   "source": [
    "# for i in test_loader:\n",
    "#     print(i.num_graphs)"
   ]
  },
  {
   "cell_type": "code",
   "execution_count": 21,
   "metadata": {},
   "outputs": [],
   "source": [
    "# train_data = Batch.from_data_list(lst)\n",
    "# train_loader = NeighborLoader(train_data, batch_size=2048, shuffle=True, num_neighbors=[20, 10], num_workers=2, persistent_workers=True)\n",
    "\n",
    "# test_data = Batch.from_data_list([testdata1,testdata2])\n",
    "# test_loader = NeighborLoader(test_data, batch_size=2048, shuffle=True, num_neighbors=[20, 10], num_workers=2, persistent_workers=True)"
   ]
  },
  {
   "cell_type": "markdown",
   "metadata": {},
   "source": [
    "# 모델 만들기 연습"
   ]
  },
  {
   "cell_type": "code",
   "execution_count": 22,
   "metadata": {},
   "outputs": [],
   "source": [
    "# import torch\n",
    "# torch.manual_seed(-1)\n",
    "# import torch.nn.functional as F\n",
    "# from torch_geometric.nn import SAGEConv\n",
    "\n",
    "# from sklearn.metrics import f1_score\n",
    "\n",
    "# device = torch.device('cuda' if torch.cuda.is_available() else 'cpu')\n",
    "\n",
    "# class GraphSAGE(torch.nn.Module):\n",
    "    \n",
    "#     def __init__(self, dim_in, dim_h, dim_out):\n",
    "#         super().__init__()\n",
    "#         self.sage1 = SAGEConv(dim_in, dim_h)\n",
    "#         # self.sage2 = SAGEConv(dim_h, dim_h)\n",
    "#         self.sage3 = SAGEConv(dim_h, dim_out)\n",
    "        \n",
    "#     def forward(self, x, edge_index):\n",
    "#         h = self.sage1(x, edge_index)\n",
    "#         h = F.elu(h)\n",
    "#         h = F.dropout(h, p=0.6, training=True)\n",
    "#         # h = self.sage2(h,edge_index)\n",
    "#         # h = F.elu(h)\n",
    "#         h = self.sage3(h, edge_index)\n",
    "#         # h= F.sigmoid(h)\n",
    "\n",
    "#         return h"
   ]
  },
  {
   "cell_type": "code",
   "execution_count": 23,
   "metadata": {},
   "outputs": [],
   "source": [
    "# import torch.nn.functional as F\n",
    "# from torch.nn import Linear, Dropout\n",
    "# from torch_geometric.nn import GCNConv, GATv2Conv\n",
    "# import torch\n",
    "# torch.manual_seed(-1)\n",
    "\n",
    "# from torch_geometric.nn import SAGEConv\n",
    "\n",
    "# from sklearn.metrics import f1_score\n",
    "\n",
    "# device = torch.device('cuda' if torch.cuda.is_available() else 'cpu')\n",
    "\n",
    "# class GAT(torch.nn.Module):\n",
    "#   \"\"\"Graph Attention Network\"\"\"\n",
    "#   def __init__(self, dim_in, dim_h, dim_out, heads=8):\n",
    "#     super().__init__()\n",
    "#     self.gat1 = GATv2Conv(dim_in, dim_h, heads=heads)\n",
    "#     self.gat2 = GATv2Conv(dim_h*heads, dim_out, heads=1)\n",
    "# #     self.gat3 = GATv2Conv(dim_h*heads, dim_h, heads=heads)\n",
    "# #     self.gat4 = GATv2Conv(dim_h*heads, dim_h, heads=heads)\n",
    "# #     self.gat5 = GATv2Conv(dim_h*heads, dim_out, heads=heads)\n",
    "\n",
    "\n",
    "#   def forward(self, data):\n",
    "#     h = self.gat1(x = data.x, edge_index= data.edge_index, edge_attr=data.edge_attr)\n",
    "#     # h = F.dropout(h, p=0.5, training=self.training)\n",
    "#     h = F.elu(h)\n",
    "#     h = self.gat2(x = h, edge_index= data.edge_index, edge_attr=data.edge_attr)\n",
    "# #     h = F.elu(h)\n",
    "# #     h = self.gat3(x = h, edge_index= data.edge_index, edge_attr=data.edge_attr)\n",
    "# #     h = F.elu(h)\n",
    "# #     h = self.gat4(x = h, edge_index= data.edge_index, edge_attr=data.edge_attr)\n",
    "# #     h = F.elu(h)\n",
    "# #     h = self.gat5(x = h, edge_index= data.edge_index, edge_attr=data.edge_attr)\n",
    "#     return h\n",
    "# device = torch.device('cuda' if torch.cuda.is_available() else 'cpu')\n",
    "# model= GAT(dim_h=cfg.h_dim,dim_in=cfg.in_dim,dim_out=cfg.out_dim,heads=12).to(device)"
   ]
  },
  {
   "cell_type": "markdown",
   "metadata": {},
   "source": [
    "# 모델 커스터마이징"
   ]
  },
  {
   "cell_type": "code",
   "execution_count": 139,
   "metadata": {},
   "outputs": [],
   "source": [
    "from torch_geometric.nn import GIN, GAT,GraphSAGE\n",
    "\n",
    "import torch\n",
    "torch.manual_seed(-1)\n",
    "import torch.nn.functional as F\n",
    "from torch_geometric.nn import SAGEConv\n",
    "import torch.nn as nn\n",
    "from sklearn.metrics import f1_score, accuracy_score\n",
    "from torch_geometric.nn import GIN, GAT\n",
    "cfg = config(1)\n",
    "\n",
    "class customGraphSAGE(torch.nn.Module):\n",
    "    \n",
    "    def __init__(self, in_channels, hidden_channels, num_layers,out_channels):\n",
    "        super(customGraphSAGE,self).__init__()\n",
    "        self.sage = GraphSAGE(in_channels=in_channels,hidden_channels=hidden_channels,num_layers=num_layers,out_channels=out_channels)\n",
    "        # self.fc1 = nn.Linear(out_channels,out_channels)\n",
    "    def forward(self,data):\n",
    "        sage_output = self.sage(x = data.x, edge_index= data.edge_index)\n",
    "        # x = torch.relu(sage_output)\n",
    "        # x = self.fc1(x)\n",
    "        return sage_output\n",
    "    \n",
    "device = torch.device('cuda' if torch.cuda.is_available() else 'cpu')\n",
    "# model = customGAT(in_channels=cfg.in_dim,hidden_channels=cfg.h_dim,num_layers=cfg.num_layers,out_channels=cfg.out_dim).to(device)\n",
    "# model = customGAT(in_channels=50,hidden_channels=512,num_layers=cfg.num_layers,out_channels=cfg.out_dim).to(device)\n",
    "model = customGraphSAGE(in_channels=cfg.in_dim,hidden_channels=512,num_layers=6,out_channels=cfg.out_dim).to(device)"
   ]
  },
  {
   "cell_type": "code",
   "execution_count": 179,
   "metadata": {},
   "outputs": [],
   "source": [
    "import torch\n",
    "torch.manual_seed(-1)\n",
    "import torch.nn.functional as F\n",
    "from torch_geometric.nn import SAGEConv\n",
    "import torch.nn as nn\n",
    "from sklearn.metrics import f1_score, accuracy_score\n",
    "from torch_geometric.nn import GIN, GAT\n",
    "cfg = config(1)\n",
    "\n",
    "class customGAT(torch.nn.Module):\n",
    "    \n",
    "    def __init__(self, in_channels, hidden_channels, num_layers,out_channels):\n",
    "        super(customGAT,self).__init__()\n",
    "        self.GAT = GAT(in_channels=in_channels,hidden_channels=hidden_channels,num_layers=num_layers,out_channels=out_channels)\n",
    "        # self.fc1 = nn.Linear(out_channels,out_channels)\n",
    "    def forward(self,data):\n",
    "        GAT_output = self.GAT(x = data.x, edge_index= data.edge_index, edge_attr=data.edge_attr)\n",
    "        # GAT_output = self.GAT(x = data.x, edge_index= data.edge_index)\n",
    "        # x = torch.relu(sage_output)\n",
    "        # x = self.fc1(x)\n",
    "        return GAT_output\n",
    "    \n",
    "device = torch.device('cuda' if torch.cuda.is_available() else 'cpu')\n",
    "model = customGAT(in_channels=cfg.in_dim,hidden_channels=512,num_layers=6,out_channels=cfg.out_dim).to(device)\n",
    "# model = customGAT(in_channels=50,hidden_channels=512,num_layers=cfg.num_layers,out_channels=cfg.out_dim).to(device)"
   ]
  },
  {
   "cell_type": "code",
   "execution_count": 164,
   "metadata": {},
   "outputs": [
    {
     "data": {
      "text/plain": [
       "customGAT(\n",
       "  (GAT): GAT(19, 1, num_layers=6)\n",
       ")"
      ]
     },
     "execution_count": 164,
     "metadata": {},
     "output_type": "execute_result"
    }
   ],
   "source": [
    "model"
   ]
  },
  {
   "cell_type": "markdown",
   "metadata": {},
   "source": [
    "# 모델 output 확인"
   ]
  },
  {
   "cell_type": "code",
   "execution_count": 53,
   "metadata": {},
   "outputs": [],
   "source": [
    "# m= model(lst[0].to(device))\n",
    "# print(sum(F.sigmoid(m)>0.5))\n",
    "\n",
    "# print(m.size())\n",
    "# print(sum(lst[0].y))"
   ]
  },
  {
   "cell_type": "markdown",
   "metadata": {},
   "source": [
    "# Train"
   ]
  },
  {
   "cell_type": "code",
   "execution_count": 54,
   "metadata": {
    "executionInfo": {
     "elapsed": 1,
     "status": "ok",
     "timestamp": 1715667255258,
     "user": {
      "displayName": "김대건",
      "userId": "14940767608385150906"
     },
     "user_tz": -540
    },
    "id": "WZHyTnwDlhh-"
   },
   "outputs": [],
   "source": [
    "# def accuracy(pred_y, y):\n",
    "#     \"\"\"정확도 계산\"\"\"\n",
    "#     return ((pred_y == y).sum() / len(y)).item()\n",
    "\n",
    "\n",
    "# def train():\n",
    "#     model.train()\n",
    "\n",
    "#     total_loss = 0\n",
    "#     for data in train_loader:\n",
    "        \n",
    "#         data = data.to(device)\n",
    "#         optimizer.zero_grad()\n",
    "        \n",
    "#         out = model(data.x, data.edge_index)\n",
    "#         loss = criterion(out, data.y)\n",
    "#         # total_loss += loss.item() * data.num_graphs\n",
    "#         loss.backward()\n",
    "#         optimizer.step()\n",
    "        \n",
    "#     return total_loss / len(train_loader.dataset)\n",
    "\n",
    "\n",
    "\n",
    "# @torch.no_grad()\n",
    "# def test(loader):\n",
    "#     model.eval()\n",
    "    \n",
    "#     ys, preds = [], [] \n",
    "    \n",
    "#     for data in loader:\n",
    "        \n",
    "#         out = model(data.x.to(device), data.edge_index.to(device))\n",
    "#         out = torch.argmax(out, dim=1)\n",
    "#         preds.append((out > 0).float().cpu())\n",
    "        \n",
    "#         y, pred = torch.cat(ys, dim=0).numpy().squeeze(), torch.cat(preds, dim=0).numpy()\n",
    "#     print(y.sum(), pred.sum())\n",
    "    \n",
    "#     return f1_score(y, pred, average='micro') if pred.sum() > 0 else 0"
   ]
  },
  {
   "cell_type": "code",
   "execution_count": 55,
   "metadata": {
    "colab": {
     "base_uri": "https://localhost:8080/"
    },
    "executionInfo": {
     "elapsed": 635962,
     "status": "ok",
     "timestamp": 1715667892402,
     "user": {
      "displayName": "김대건",
      "userId": "14940767608385150906"
     },
     "user_tz": -540
    },
    "id": "tA2-1zqglk1O",
    "outputId": "26c7191d-f2f5-442e-8904-842a2300150f"
   },
   "outputs": [],
   "source": [
    "# from tqdm import tqdm\n",
    "# for epoch in tqdm(range(10)):\n",
    "#     loss = fit()\n",
    "#     val_f1 = test(test_loader)\n",
    "#     if epoch % 1 == 0:\n",
    "#         print(f'Epoch {epoch:>3} | Train Loss: {loss:.3f} | Test F1-score: {val_f1:.4f}')\n",
    "#         # print(f'Epoch {epoch:>3} | Train Loss: {loss:.3f} | Val F1-score: {val_f1:.4f}')\n",
    "\n",
    "# # print(f'Test F1-score: {test(test_loader):.4f}')"
   ]
  },
  {
   "cell_type": "code",
   "execution_count": 174,
   "metadata": {},
   "outputs": [],
   "source": [
    "def train(loader):\n",
    "    \n",
    "    model.train()\n",
    "    total_loss = 0\n",
    "    \n",
    "    for i,data in enumerate(loader,0):\n",
    "        \n",
    "        data = data.to(device)\n",
    "        optimizer.zero_grad()\n",
    "        \n",
    "        out = model(data)\n",
    "        loss = criterion(out, data.y)\n",
    "        loss.backward()\n",
    "        optimizer.step()\n",
    "        \n",
    "        total_loss += loss.item()\n",
    "    \n",
    "    return total_loss/ len(loader)\n",
    "    \n",
    "\n",
    "def test(loader):\n",
    "    \n",
    "\n",
    "    model.eval()\n",
    "    predict = list()\n",
    "    actual = list()\n",
    "    \n",
    "    \n",
    "    with torch.no_grad():\n",
    "        for _, data in enumerate(loader,0):\n",
    "            data = data.to(device)\n",
    "            out = model(data)\n",
    "            loss2 = criterion(out, data.y)\n",
    "            mae = MAE(out, data.y)\n",
    "            \n",
    "            \n",
    "            # preds = (m(out)>0.5).float().cpu().numpy()\n",
    "            # y = data.y.cpu().numpy()\n",
    "            \n",
    "            predict.append(out.cpu().numpy())\n",
    "            actual.append(data.y.cpu().numpy())\n",
    "            \n",
    "    predictions, actuals = vstack(predict), vstack(actual)\n",
    "    r2 = r2_score(actuals,predictions)\n",
    "\n",
    "    # acc = accuracy_score(actuals, predictions),f1_score(actuals, predictions)\n",
    "\n",
    "            # total += sum(out==data.y)/len(data.y)\n",
    "            # print(sum(out==data.y)/len(data.y))\n",
    "            # cnt +=1\n",
    "    return loss2,mae,r2,predict,actual"
   ]
  },
  {
   "cell_type": "code",
   "execution_count": 16,
   "metadata": {},
   "outputs": [],
   "source": [
    "del testedges\n",
    "del testedges_attr\n",
    "del testnodes\n",
    "del testlabels\n",
    "\n",
    "\n",
    "del edges\n",
    "del edges_attr\n",
    "del nodes\n",
    "del labels\n",
    "\n",
    "del lst\n",
    "del testlst"
   ]
  },
  {
   "cell_type": "code",
   "execution_count": 63,
   "metadata": {},
   "outputs": [
    {
     "data": {
      "text/plain": [
       "inf"
      ]
     },
     "execution_count": 63,
     "metadata": {},
     "output_type": "execute_result"
    }
   ],
   "source": [
    "float('inf')"
   ]
  },
  {
   "cell_type": "code",
   "execution_count": 167,
   "metadata": {},
   "outputs": [
    {
     "name": "stderr",
     "output_type": "stream",
     "text": [
      "  0%|          | 2/2000 [00:00<02:30, 13.23it/s]"
     ]
    },
    {
     "name": "stdout",
     "output_type": "stream",
     "text": [
      "0\n",
      "epoch: 0.000 |Train MSE: 742.756 | Test MAE: 20.542 | Test MSE: 715.764 | Test RMSE: 26.754 | Test R2 : -0.013 \n",
      "1\n",
      "epoch: 1.000 |Train MSE: 759.194 | Test MAE: 20.490 | Test MSE: 705.089 | Test RMSE: 26.554 | Test R2 : 0.002 \n"
     ]
    },
    {
     "name": "stderr",
     "output_type": "stream",
     "text": [
      "  0%|          | 8/2000 [00:00<01:59, 16.72it/s]"
     ]
    },
    {
     "name": "stdout",
     "output_type": "stream",
     "text": [
      "4\n",
      "epoch: 4.000 |Train MSE: 742.830 | Test MAE: 20.505 | Test MSE: 705.046 | Test RMSE: 26.553 | Test R2 : 0.002 \n"
     ]
    },
    {
     "name": "stderr",
     "output_type": "stream",
     "text": [
      "  0%|          | 9/2000 [00:00<02:13, 14.87it/s]"
     ]
    },
    {
     "name": "stdout",
     "output_type": "stream",
     "text": [
      "Early Stopping!\n",
      "9\n",
      "epoch: 9.000 |Train MSE: 740.972 | Test MAE: 20.594 | Test MSE: 706.855 | Test RMSE: 26.587 | Test R2 : -0.000 \n"
     ]
    },
    {
     "name": "stderr",
     "output_type": "stream",
     "text": [
      "\n"
     ]
    }
   ],
   "source": [
    "from tqdm import tqdm\n",
    "from numpy import vstack\n",
    "from torcheval.metrics import R2Score\n",
    "from sklearn.metrics import r2_score\n",
    "# model = GraphSAGE(dim_in=lst[0].num_features,dim_h=128,dim_out=1).to(device)\n",
    "# model = GAT(dim_in=lst[0].num_features,dim_h=64,dim_out=1).to(device)\n",
    "criterion = torch.nn.MSELoss().to(device)\n",
    "MAE = torch.nn.L1Loss().to(device)\n",
    "optimizer = torch.optim.AdamW(model.parameters(), lr=0.001)\n",
    "# scheduler = torch.optim.lr_scheduler.CosineAnnealingLR(optimizer, T_max=100, eta_min=0)\n",
    "# best_acc = 0\n",
    "# best_epoch = 0\n",
    "# best_f1 = 0\n",
    "\n",
    "mse=[]\n",
    "rmse=[]\n",
    "mae_lst = []\n",
    "r2_lst=[]\n",
    "early_stopping_epochs = 5\n",
    "early_stop_counter = 0\n",
    "best_loss = float('inf')\n",
    "\n",
    "\n",
    "for epoch in tqdm(range(2000)):\n",
    "    loss = train(train_loader)\n",
    "    loss2,mae,r2,predict,actual = test(test_loader)\n",
    "    mse.append(loss2)\n",
    "    mae_lst.append(mae)\n",
    "    r2_lst.append(r2)\n",
    "    loss3 = torch.sqrt(loss2)\n",
    "    rmse.append(loss3)\n",
    "    \n",
    "    \n",
    "    \n",
    "    if loss2 > best_loss:\n",
    "        early_stop_counter += 1\n",
    "    else:\n",
    "        best_loss = loss2\n",
    "        early_stop_counter = 0\n",
    "        print(epoch)\n",
    "        torch.save(model.state_dict(), f'/home/work/kdg_folder/work_kisti/kisti-GraphSAGE/best_model_{epoch}epch.pth')\n",
    "        print(f'epoch: {epoch:.3f} |Train MSE: {loss:.3f} | Test MAE: {mae:.3f} | Test MSE: {loss2:.3f} | Test RMSE: {loss3:.3f} | Test R2 : {r2:.3f} ')\n",
    "        \n",
    "        \n",
    "    if early_stop_counter >= early_stopping_epochs:\n",
    "        print(\"Early Stopping!\")\n",
    "        print(epoch)\n",
    "        print(f'epoch: {epoch:.3f} |Train MSE: {loss:.3f} | Test MAE: {mae:.3f} | Test MSE: {loss2:.3f} | Test RMSE: {loss3:.3f} | Test R2 : {r2:.3f} ')\n",
    "        \n",
    "        # torch.save(model.state_dict(), f'/home/work/kdg_folder/work_kisti/kisti-GraphSAGE/best_model_{epoch}epch.pth')\n",
    "        break\n",
    "        \n",
    "    \n",
    "    \n",
    "        # torch.save(model.state_dict(), '/home/work/kdg_folder/work_kisti/kisti-GraphSAGE/best_model.pth')\n",
    "\n",
    "    # if epoch %20 == 0:\n",
    "    #     print(f'epoch: {epoch:.3f} |Train MSE: {loss:.3f} | Test MAE: {mae:.3f} | Test MSE: {loss2:.3f} | Test RMSE: {loss3:.3f} | Test R2 : {r2:.3f} ')\n",
    "        # print(f'Train Loss: {loss:.3f}')\n",
    "    \n",
    "    "
   ]
  },
  {
   "cell_type": "markdown",
   "metadata": {},
   "source": [
    "# 모델 가중치 로드"
   ]
  },
  {
   "cell_type": "code",
   "execution_count": 178,
   "metadata": {},
   "outputs": [
    {
     "data": {
      "text/plain": [
       "<All keys matched successfully>"
      ]
     },
     "execution_count": 178,
     "metadata": {},
     "output_type": "execute_result"
    }
   ],
   "source": [
    "model"
   ]
  },
  {
   "cell_type": "code",
   "execution_count": 180,
   "metadata": {},
   "outputs": [
    {
     "data": {
      "text/plain": [
       "<All keys matched successfully>"
      ]
     },
     "execution_count": 180,
     "metadata": {},
     "output_type": "execute_result"
    }
   ],
   "source": [
    "model.load_state_dict(torch.load('/home/work/kdg_folder/work_kisti/kisti-GraphSAGE/best_model_4epch.pth'))"
   ]
  },
  {
   "cell_type": "markdown",
   "metadata": {},
   "source": [
    "# 혼동행렬 계산을 위해 인덱스 저장"
   ]
  },
  {
   "cell_type": "code",
   "execution_count": 185,
   "metadata": {},
   "outputs": [
    {
     "name": "stdout",
     "output_type": "stream",
     "text": [
      "Test MAE: 20.505 | Test MSE: 705.046 | Test RMSE: 26.587 | Test R2 : 0.002 \n"
     ]
    }
   ],
   "source": [
    "loss2,mae,r2,predict,actual = test(test_loader)\n",
    "print(f'Test MAE: {mae:.3f} | Test MSE: {loss2:.3f} | Test RMSE: {loss3:.3f} | Test R2 : {r2:.3f} ')"
   ]
  },
  {
   "cell_type": "code",
   "execution_count": 237,
   "metadata": {},
   "outputs": [],
   "source": [
    "pred_idx = pd.DataFrame(predict[0]).sort_values(by=0, ascending=False).index.tolist()"
   ]
  },
  {
   "cell_type": "code",
   "execution_count": 238,
   "metadata": {},
   "outputs": [],
   "source": [
    "actual_idx = pd.DataFrame(actual[0]).sort_values(by=0, ascending=False).index.tolist()\n"
   ]
  },
  {
   "cell_type": "code",
   "execution_count": 242,
   "metadata": {},
   "outputs": [],
   "source": [
    "label_idx=pd.DataFrame(testdata['label']).sort_values(by='label', ascending=False).index.tolist()"
   ]
  },
  {
   "cell_type": "markdown",
   "metadata": {},
   "source": [
    "# TP 계산"
   ]
  },
  {
   "cell_type": "code",
   "execution_count": 304,
   "metadata": {},
   "outputs": [
    {
     "name": "stdout",
     "output_type": "stream",
     "text": [
      "840\n"
     ]
    }
   ],
   "source": [
    "cnt=0\n",
    "for i in range(round(len(label_idx)*0.3)):\n",
    "    if pred_idx[i] in label_idx[:round(len(label_idx)*0.3)]:\n",
    "        cnt +=1\n",
    "print(cnt)"
   ]
  },
  {
   "cell_type": "code",
   "execution_count": 300,
   "metadata": {},
   "outputs": [
    {
     "data": {
      "text/plain": [
       "1427"
      ]
     },
     "execution_count": 300,
     "metadata": {},
     "output_type": "execute_result"
    }
   ],
   "source": [
    "round(len(label_idx)*0.2)-(389)"
   ]
  },
  {
   "cell_type": "markdown",
   "metadata": {},
   "source": [
    "# FN 계산"
   ]
  },
  {
   "cell_type": "code",
   "execution_count": 307,
   "metadata": {},
   "outputs": [],
   "source": [
    "pred_outlst = pred_idx[round(len(label_idx)*0.4):]"
   ]
  },
  {
   "cell_type": "code",
   "execution_count": 308,
   "metadata": {},
   "outputs": [
    {
     "name": "stdout",
     "output_type": "stream",
     "text": [
      "3345\n"
     ]
    }
   ],
   "source": [
    "cnt=0\n",
    "for i in pred_outlst:\n",
    "    if i in label_idx[round(len(label_idx)*0.4):]:\n",
    "        cnt +=1\n",
    "print(cnt)"
   ]
  },
  {
   "cell_type": "code",
   "execution_count": 274,
   "metadata": {},
   "outputs": [
    {
     "data": {
      "text/plain": [
       "8170"
      ]
     },
     "execution_count": 274,
     "metadata": {},
     "output_type": "execute_result"
    }
   ],
   "source": [
    "label_idx[round(len(label_idx)*0.1):]"
   ]
  },
  {
   "cell_type": "code",
   "execution_count": null,
   "metadata": {},
   "outputs": [],
   "source": []
  },
  {
   "cell_type": "markdown",
   "metadata": {},
   "source": [
    "# example"
   ]
  },
  {
   "cell_type": "code",
   "execution_count": null,
   "metadata": {},
   "outputs": [],
   "source": [
    "# import torch\n",
    "# from sklearn.metrics import f1_score\n",
    "# from torch_geometric.nn import GraphSAGE\n",
    " \n",
    "# device = torch.device('cuda' if torch.cuda.is_available() else 'cpu')\n",
    " \n",
    "# model = GraphSAGE(\n",
    "#     in_channels=train_dataset.num_features,\n",
    "#     hidden_channels=512,\n",
    "#     num_layers=2,\n",
    "#     out_channels=train_dataset.num_classes,\n",
    "# ).to(device)"
   ]
  },
  {
   "cell_type": "code",
   "execution_count": null,
   "metadata": {},
   "outputs": [],
   "source": [
    "# criterion = torch.nn.BCEWithLogitsLoss()\n",
    "# optimizer = torch.optim.Adam(model.parameters(), lr=0.005)\n",
    " \n",
    "# def fit():\n",
    "#     model.train()\n",
    " \n",
    "#     total_loss = 0\n",
    "#     for data in train_loader:\n",
    "#         data = data.to(device)\n",
    "#         optimizer.zero_grad()\n",
    "        \n",
    "#         out = model(data.x, data.edge_index)\n",
    "#         loss = criterion(out, data.y)\n",
    "        \n",
    "#         total_loss += loss.item() * data.num_graphs\n",
    "        \n",
    "#         loss.backward()\n",
    "#         optimizer.step()\n",
    "        \n",
    "#     return total_loss / len(train_loader.dataset)\n",
    " \n",
    "# @torch.no_grad()\n",
    "# def test(loader):\n",
    "#     model.eval()\n",
    " \n",
    "#     data = next(iter(loader))\n",
    "#     out = model(data.x.to(device), data.edge_index.to(device))\n",
    "#     preds = (out > 0).float().cpu()\n",
    "#     print(preds)\n",
    " \n",
    "#     y, pred = data.y.numpy(), preds.numpy()\n",
    "#     return f1_score(y, pred, average='micro') if pred.sum() > 0 else 0\n",
    " \n",
    "# for epoch in range(301):\n",
    "#     loss = fit()\n",
    "#     val_f1 = test(val_loader)\n",
    "#     if epoch % 50 == 0:\n",
    "#         print(f'Epoch {epoch:>3} | Train Loss: {loss:.3f} | Val F1-score: {val_f1:.4f}')\n",
    " \n",
    "# print(f'Test F1-score: {test(test_loader):.4f}')"
   ]
  },
  {
   "cell_type": "code",
   "execution_count": null,
   "metadata": {},
   "outputs": [],
   "source": [
    "# import torch\n",
    "\n",
    "# def test(test_loader):\n",
    "#     model.eval()\n",
    "#     correct = 0\n",
    "#     total = 0\n",
    "#     with torch.no_grad():\n",
    "#         for data in test_loader:\n",
    "#             data = data.to(device)\n",
    "#             out = model(data)\n",
    "#             preds = (out > 0).float().cpu()  # .cpu()를 추가하여 GPU에서 CPU로 이동\n",
    "#             acc = accuracy_score(data.y.cpu(), preds)  # .cpu()를 추가하여 GPU에서 CPU로 이동\n",
    "#             print(acc)\n",
    "#             total += len(data.y)\n",
    "#             correct += (preds == data.y.cpu()).sum().item()\n",
    "#     return correct / total\n",
    "\n",
    "# # 학습 및 테스트 코드\n",
    "# for epoch in tqdm(range(100)):\n",
    "#     loss = train(train_loader)\n",
    "#     acc = test(test_loader)\n",
    "#     if epoch % 1 == 0:\n",
    "#         print(f'Train Loss: {loss:.3f} | Test acc: {acc:.3f}')\n"
   ]
  }
 ],
 "metadata": {
  "accelerator": "GPU",
  "colab": {
   "gpuType": "T4",
   "provenance": []
  },
  "kernelspec": {
   "display_name": "Python 3",
   "language": "python",
   "name": "python3"
  },
  "language_info": {
   "codemirror_mode": {
    "name": "ipython",
    "version": 3
   },
   "file_extension": ".py",
   "mimetype": "text/x-python",
   "name": "python",
   "nbconvert_exporter": "python",
   "pygments_lexer": "ipython3",
   "version": "3.10.14"
  }
 },
 "nbformat": 4,
 "nbformat_minor": 4
}
